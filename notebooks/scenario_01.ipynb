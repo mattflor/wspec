{
 "metadata": {
  "name": "scenario_01"
 },
 "nbformat": 3,
 "nbformat_minor": 0,
 "worksheets": [
  {
   "cells": [
    {
     "cell_type": "heading",
     "level": 1,
     "metadata": {},
     "source": [
      "Scenario 1"
     ]
    },
    {
     "cell_type": "code",
     "collapsed": false,
     "input": [
      "import sys, types, time, os, inspect, shutil, pprint, cPickle, gzip, tarfile, pprint, datetime, pdb\n",
      "import numpy as np\n",
      "import numpy.random as npr\n",
      "import pandas as pd\n",
      "import matplotlib.pyplot as plt\n",
      "from IPython.core.display import Image\n",
      "# wspec moduls:\n",
      "import core, storage\n",
      "import visualization as viz\n",
      "import utilities as utils\n",
      "for mod in [core,storage,utils,viz]:     # reload the wspec modules in case the code has changed\n",
      "    reload(mod)\n",
      "    \n",
      "np.set_printoptions(precision=4, suppress=True, linewidth=100)"
     ],
     "language": "python",
     "metadata": {},
     "outputs": [
      {
       "html": [
        "\n",
        "<div style=\"border: 1px solid black; width:500px\">\n",
        "  <div id=\"19a30f0f-11d9-4ffb-9ba1-60ec2cc73869\" style=\"background-color:blue; width:0%\">&nbsp;</div>\n",
        "</div> \n"
       ],
       "output_type": "display_data",
       "text": [
        "<IPython.core.display.HTML at 0xb1d3336c>"
       ]
      },
      {
       "javascript": [
        "$('div#19a30f0f-11d9-4ffb-9ba1-60ec2cc73869').width('1%')"
       ],
       "output_type": "display_data",
       "text": [
        "<IPython.core.display.Javascript at 0xa10168c>"
       ]
      },
      {
       "javascript": [
        "$('div#19a30f0f-11d9-4ffb-9ba1-60ec2cc73869').width('2%')"
       ],
       "output_type": "display_data",
       "text": [
        "<IPython.core.display.Javascript at 0xa10168c>"
       ]
      },
      {
       "javascript": [
        "$('div#19a30f0f-11d9-4ffb-9ba1-60ec2cc73869').width('3%')"
       ],
       "output_type": "display_data",
       "text": [
        "<IPython.core.display.Javascript at 0xa10168c>"
       ]
      },
      {
       "javascript": [
        "$('div#19a30f0f-11d9-4ffb-9ba1-60ec2cc73869').width('4%')"
       ],
       "output_type": "display_data",
       "text": [
        "<IPython.core.display.Javascript at 0xa10168c>"
       ]
      },
      {
       "javascript": [
        "$('div#19a30f0f-11d9-4ffb-9ba1-60ec2cc73869').width('5%')"
       ],
       "output_type": "display_data",
       "text": [
        "<IPython.core.display.Javascript at 0xa10168c>"
       ]
      },
      {
       "javascript": [
        "$('div#19a30f0f-11d9-4ffb-9ba1-60ec2cc73869').width('6%')"
       ],
       "output_type": "display_data",
       "text": [
        "<IPython.core.display.Javascript at 0xa10168c>"
       ]
      },
      {
       "javascript": [
        "$('div#19a30f0f-11d9-4ffb-9ba1-60ec2cc73869').width('7%')"
       ],
       "output_type": "display_data",
       "text": [
        "<IPython.core.display.Javascript at 0xa10168c>"
       ]
      },
      {
       "javascript": [
        "$('div#19a30f0f-11d9-4ffb-9ba1-60ec2cc73869').width('8%')"
       ],
       "output_type": "display_data",
       "text": [
        "<IPython.core.display.Javascript at 0xa10168c>"
       ]
      },
      {
       "javascript": [
        "$('div#19a30f0f-11d9-4ffb-9ba1-60ec2cc73869').width('9%')"
       ],
       "output_type": "display_data",
       "text": [
        "<IPython.core.display.Javascript at 0xa10168c>"
       ]
      },
      {
       "javascript": [
        "$('div#19a30f0f-11d9-4ffb-9ba1-60ec2cc73869').width('10%')"
       ],
       "output_type": "display_data",
       "text": [
        "<IPython.core.display.Javascript at 0xa10168c>"
       ]
      },
      {
       "javascript": [
        "$('div#19a30f0f-11d9-4ffb-9ba1-60ec2cc73869').width('11%')"
       ],
       "output_type": "display_data",
       "text": [
        "<IPython.core.display.Javascript at 0xa10168c>"
       ]
      },
      {
       "javascript": [
        "$('div#19a30f0f-11d9-4ffb-9ba1-60ec2cc73869').width('12%')"
       ],
       "output_type": "display_data",
       "text": [
        "<IPython.core.display.Javascript at 0xa10168c>"
       ]
      },
      {
       "javascript": [
        "$('div#19a30f0f-11d9-4ffb-9ba1-60ec2cc73869').width('13%')"
       ],
       "output_type": "display_data",
       "text": [
        "<IPython.core.display.Javascript at 0xa10168c>"
       ]
      },
      {
       "javascript": [
        "$('div#19a30f0f-11d9-4ffb-9ba1-60ec2cc73869').width('14%')"
       ],
       "output_type": "display_data",
       "text": [
        "<IPython.core.display.Javascript at 0xa10168c>"
       ]
      },
      {
       "javascript": [
        "$('div#19a30f0f-11d9-4ffb-9ba1-60ec2cc73869').width('15%')"
       ],
       "output_type": "display_data",
       "text": [
        "<IPython.core.display.Javascript at 0xa10168c>"
       ]
      },
      {
       "javascript": [
        "$('div#19a30f0f-11d9-4ffb-9ba1-60ec2cc73869').width('16%')"
       ],
       "output_type": "display_data",
       "text": [
        "<IPython.core.display.Javascript at 0xa10168c>"
       ]
      },
      {
       "javascript": [
        "$('div#19a30f0f-11d9-4ffb-9ba1-60ec2cc73869').width('17%')"
       ],
       "output_type": "display_data",
       "text": [
        "<IPython.core.display.Javascript at 0xa10168c>"
       ]
      },
      {
       "javascript": [
        "$('div#19a30f0f-11d9-4ffb-9ba1-60ec2cc73869').width('18%')"
       ],
       "output_type": "display_data",
       "text": [
        "<IPython.core.display.Javascript at 0xa10168c>"
       ]
      },
      {
       "javascript": [
        "$('div#19a30f0f-11d9-4ffb-9ba1-60ec2cc73869').width('19%')"
       ],
       "output_type": "display_data",
       "text": [
        "<IPython.core.display.Javascript at 0xa10168c>"
       ]
      },
      {
       "javascript": [
        "$('div#19a30f0f-11d9-4ffb-9ba1-60ec2cc73869').width('20%')"
       ],
       "output_type": "display_data",
       "text": [
        "<IPython.core.display.Javascript at 0xa10168c>"
       ]
      },
      {
       "javascript": [
        "$('div#19a30f0f-11d9-4ffb-9ba1-60ec2cc73869').width('21%')"
       ],
       "output_type": "display_data",
       "text": [
        "<IPython.core.display.Javascript at 0xa10168c>"
       ]
      },
      {
       "javascript": [
        "$('div#19a30f0f-11d9-4ffb-9ba1-60ec2cc73869').width('22%')"
       ],
       "output_type": "display_data",
       "text": [
        "<IPython.core.display.Javascript at 0xa10168c>"
       ]
      },
      {
       "javascript": [
        "$('div#19a30f0f-11d9-4ffb-9ba1-60ec2cc73869').width('23%')"
       ],
       "output_type": "display_data",
       "text": [
        "<IPython.core.display.Javascript at 0xa10168c>"
       ]
      },
      {
       "javascript": [
        "$('div#19a30f0f-11d9-4ffb-9ba1-60ec2cc73869').width('24%')"
       ],
       "output_type": "display_data",
       "text": [
        "<IPython.core.display.Javascript at 0xa10168c>"
       ]
      },
      {
       "javascript": [
        "$('div#19a30f0f-11d9-4ffb-9ba1-60ec2cc73869').width('25%')"
       ],
       "output_type": "display_data",
       "text": [
        "<IPython.core.display.Javascript at 0xa10168c>"
       ]
      },
      {
       "javascript": [
        "$('div#19a30f0f-11d9-4ffb-9ba1-60ec2cc73869').width('26%')"
       ],
       "output_type": "display_data",
       "text": [
        "<IPython.core.display.Javascript at 0xa10168c>"
       ]
      },
      {
       "javascript": [
        "$('div#19a30f0f-11d9-4ffb-9ba1-60ec2cc73869').width('27%')"
       ],
       "output_type": "display_data",
       "text": [
        "<IPython.core.display.Javascript at 0xa10168c>"
       ]
      },
      {
       "javascript": [
        "$('div#19a30f0f-11d9-4ffb-9ba1-60ec2cc73869').width('28%')"
       ],
       "output_type": "display_data",
       "text": [
        "<IPython.core.display.Javascript at 0xa10168c>"
       ]
      },
      {
       "javascript": [
        "$('div#19a30f0f-11d9-4ffb-9ba1-60ec2cc73869').width('29%')"
       ],
       "output_type": "display_data",
       "text": [
        "<IPython.core.display.Javascript at 0xa10168c>"
       ]
      },
      {
       "javascript": [
        "$('div#19a30f0f-11d9-4ffb-9ba1-60ec2cc73869').width('30%')"
       ],
       "output_type": "display_data",
       "text": [
        "<IPython.core.display.Javascript at 0xa10168c>"
       ]
      },
      {
       "javascript": [
        "$('div#19a30f0f-11d9-4ffb-9ba1-60ec2cc73869').width('31%')"
       ],
       "output_type": "display_data",
       "text": [
        "<IPython.core.display.Javascript at 0xa10168c>"
       ]
      },
      {
       "javascript": [
        "$('div#19a30f0f-11d9-4ffb-9ba1-60ec2cc73869').width('32%')"
       ],
       "output_type": "display_data",
       "text": [
        "<IPython.core.display.Javascript at 0xa10168c>"
       ]
      },
      {
       "javascript": [
        "$('div#19a30f0f-11d9-4ffb-9ba1-60ec2cc73869').width('33%')"
       ],
       "output_type": "display_data",
       "text": [
        "<IPython.core.display.Javascript at 0xa10168c>"
       ]
      },
      {
       "javascript": [
        "$('div#19a30f0f-11d9-4ffb-9ba1-60ec2cc73869').width('34%')"
       ],
       "output_type": "display_data",
       "text": [
        "<IPython.core.display.Javascript at 0xa10168c>"
       ]
      },
      {
       "javascript": [
        "$('div#19a30f0f-11d9-4ffb-9ba1-60ec2cc73869').width('35%')"
       ],
       "output_type": "display_data",
       "text": [
        "<IPython.core.display.Javascript at 0xa10168c>"
       ]
      },
      {
       "javascript": [
        "$('div#19a30f0f-11d9-4ffb-9ba1-60ec2cc73869').width('36%')"
       ],
       "output_type": "display_data",
       "text": [
        "<IPython.core.display.Javascript at 0xa10168c>"
       ]
      },
      {
       "javascript": [
        "$('div#19a30f0f-11d9-4ffb-9ba1-60ec2cc73869').width('37%')"
       ],
       "output_type": "display_data",
       "text": [
        "<IPython.core.display.Javascript at 0xa10168c>"
       ]
      },
      {
       "javascript": [
        "$('div#19a30f0f-11d9-4ffb-9ba1-60ec2cc73869').width('38%')"
       ],
       "output_type": "display_data",
       "text": [
        "<IPython.core.display.Javascript at 0xa10168c>"
       ]
      },
      {
       "javascript": [
        "$('div#19a30f0f-11d9-4ffb-9ba1-60ec2cc73869').width('39%')"
       ],
       "output_type": "display_data",
       "text": [
        "<IPython.core.display.Javascript at 0xa10168c>"
       ]
      },
      {
       "javascript": [
        "$('div#19a30f0f-11d9-4ffb-9ba1-60ec2cc73869').width('40%')"
       ],
       "output_type": "display_data",
       "text": [
        "<IPython.core.display.Javascript at 0xa10168c>"
       ]
      },
      {
       "javascript": [
        "$('div#19a30f0f-11d9-4ffb-9ba1-60ec2cc73869').width('41%')"
       ],
       "output_type": "display_data",
       "text": [
        "<IPython.core.display.Javascript at 0xa10168c>"
       ]
      },
      {
       "javascript": [
        "$('div#19a30f0f-11d9-4ffb-9ba1-60ec2cc73869').width('42%')"
       ],
       "output_type": "display_data",
       "text": [
        "<IPython.core.display.Javascript at 0xa10168c>"
       ]
      },
      {
       "javascript": [
        "$('div#19a30f0f-11d9-4ffb-9ba1-60ec2cc73869').width('43%')"
       ],
       "output_type": "display_data",
       "text": [
        "<IPython.core.display.Javascript at 0xa10168c>"
       ]
      },
      {
       "javascript": [
        "$('div#19a30f0f-11d9-4ffb-9ba1-60ec2cc73869').width('44%')"
       ],
       "output_type": "display_data",
       "text": [
        "<IPython.core.display.Javascript at 0xa10168c>"
       ]
      },
      {
       "javascript": [
        "$('div#19a30f0f-11d9-4ffb-9ba1-60ec2cc73869').width('45%')"
       ],
       "output_type": "display_data",
       "text": [
        "<IPython.core.display.Javascript at 0xa10168c>"
       ]
      },
      {
       "javascript": [
        "$('div#19a30f0f-11d9-4ffb-9ba1-60ec2cc73869').width('46%')"
       ],
       "output_type": "display_data",
       "text": [
        "<IPython.core.display.Javascript at 0xa10168c>"
       ]
      },
      {
       "javascript": [
        "$('div#19a30f0f-11d9-4ffb-9ba1-60ec2cc73869').width('47%')"
       ],
       "output_type": "display_data",
       "text": [
        "<IPython.core.display.Javascript at 0xa10168c>"
       ]
      },
      {
       "javascript": [
        "$('div#19a30f0f-11d9-4ffb-9ba1-60ec2cc73869').width('48%')"
       ],
       "output_type": "display_data",
       "text": [
        "<IPython.core.display.Javascript at 0xa10168c>"
       ]
      },
      {
       "javascript": [
        "$('div#19a30f0f-11d9-4ffb-9ba1-60ec2cc73869').width('49%')"
       ],
       "output_type": "display_data",
       "text": [
        "<IPython.core.display.Javascript at 0xa10168c>"
       ]
      },
      {
       "javascript": [
        "$('div#19a30f0f-11d9-4ffb-9ba1-60ec2cc73869').width('50%')"
       ],
       "output_type": "display_data",
       "text": [
        "<IPython.core.display.Javascript at 0xa10168c>"
       ]
      },
      {
       "javascript": [
        "$('div#19a30f0f-11d9-4ffb-9ba1-60ec2cc73869').width('51%')"
       ],
       "output_type": "display_data",
       "text": [
        "<IPython.core.display.Javascript at 0xa10168c>"
       ]
      },
      {
       "javascript": [
        "$('div#19a30f0f-11d9-4ffb-9ba1-60ec2cc73869').width('52%')"
       ],
       "output_type": "display_data",
       "text": [
        "<IPython.core.display.Javascript at 0xa10168c>"
       ]
      },
      {
       "javascript": [
        "$('div#19a30f0f-11d9-4ffb-9ba1-60ec2cc73869').width('53%')"
       ],
       "output_type": "display_data",
       "text": [
        "<IPython.core.display.Javascript at 0xa10168c>"
       ]
      },
      {
       "javascript": [
        "$('div#19a30f0f-11d9-4ffb-9ba1-60ec2cc73869').width('54%')"
       ],
       "output_type": "display_data",
       "text": [
        "<IPython.core.display.Javascript at 0xa10168c>"
       ]
      },
      {
       "javascript": [
        "$('div#19a30f0f-11d9-4ffb-9ba1-60ec2cc73869').width('55%')"
       ],
       "output_type": "display_data",
       "text": [
        "<IPython.core.display.Javascript at 0xa10168c>"
       ]
      },
      {
       "javascript": [
        "$('div#19a30f0f-11d9-4ffb-9ba1-60ec2cc73869').width('56%')"
       ],
       "output_type": "display_data",
       "text": [
        "<IPython.core.display.Javascript at 0xa10168c>"
       ]
      },
      {
       "javascript": [
        "$('div#19a30f0f-11d9-4ffb-9ba1-60ec2cc73869').width('57%')"
       ],
       "output_type": "display_data",
       "text": [
        "<IPython.core.display.Javascript at 0xa10168c>"
       ]
      },
      {
       "javascript": [
        "$('div#19a30f0f-11d9-4ffb-9ba1-60ec2cc73869').width('58%')"
       ],
       "output_type": "display_data",
       "text": [
        "<IPython.core.display.Javascript at 0xa10168c>"
       ]
      },
      {
       "javascript": [
        "$('div#19a30f0f-11d9-4ffb-9ba1-60ec2cc73869').width('59%')"
       ],
       "output_type": "display_data",
       "text": [
        "<IPython.core.display.Javascript at 0xa10168c>"
       ]
      },
      {
       "javascript": [
        "$('div#19a30f0f-11d9-4ffb-9ba1-60ec2cc73869').width('60%')"
       ],
       "output_type": "display_data",
       "text": [
        "<IPython.core.display.Javascript at 0xa10168c>"
       ]
      },
      {
       "javascript": [
        "$('div#19a30f0f-11d9-4ffb-9ba1-60ec2cc73869').width('61%')"
       ],
       "output_type": "display_data",
       "text": [
        "<IPython.core.display.Javascript at 0xa10168c>"
       ]
      },
      {
       "javascript": [
        "$('div#19a30f0f-11d9-4ffb-9ba1-60ec2cc73869').width('62%')"
       ],
       "output_type": "display_data",
       "text": [
        "<IPython.core.display.Javascript at 0xa10168c>"
       ]
      },
      {
       "javascript": [
        "$('div#19a30f0f-11d9-4ffb-9ba1-60ec2cc73869').width('63%')"
       ],
       "output_type": "display_data",
       "text": [
        "<IPython.core.display.Javascript at 0xa10168c>"
       ]
      },
      {
       "javascript": [
        "$('div#19a30f0f-11d9-4ffb-9ba1-60ec2cc73869').width('64%')"
       ],
       "output_type": "display_data",
       "text": [
        "<IPython.core.display.Javascript at 0xa10168c>"
       ]
      },
      {
       "javascript": [
        "$('div#19a30f0f-11d9-4ffb-9ba1-60ec2cc73869').width('65%')"
       ],
       "output_type": "display_data",
       "text": [
        "<IPython.core.display.Javascript at 0xa10168c>"
       ]
      },
      {
       "javascript": [
        "$('div#19a30f0f-11d9-4ffb-9ba1-60ec2cc73869').width('66%')"
       ],
       "output_type": "display_data",
       "text": [
        "<IPython.core.display.Javascript at 0xa10168c>"
       ]
      },
      {
       "javascript": [
        "$('div#19a30f0f-11d9-4ffb-9ba1-60ec2cc73869').width('67%')"
       ],
       "output_type": "display_data",
       "text": [
        "<IPython.core.display.Javascript at 0xa10168c>"
       ]
      },
      {
       "javascript": [
        "$('div#19a30f0f-11d9-4ffb-9ba1-60ec2cc73869').width('68%')"
       ],
       "output_type": "display_data",
       "text": [
        "<IPython.core.display.Javascript at 0xa10168c>"
       ]
      },
      {
       "javascript": [
        "$('div#19a30f0f-11d9-4ffb-9ba1-60ec2cc73869').width('69%')"
       ],
       "output_type": "display_data",
       "text": [
        "<IPython.core.display.Javascript at 0xa10168c>"
       ]
      },
      {
       "javascript": [
        "$('div#19a30f0f-11d9-4ffb-9ba1-60ec2cc73869').width('70%')"
       ],
       "output_type": "display_data",
       "text": [
        "<IPython.core.display.Javascript at 0xa10168c>"
       ]
      },
      {
       "javascript": [
        "$('div#19a30f0f-11d9-4ffb-9ba1-60ec2cc73869').width('71%')"
       ],
       "output_type": "display_data",
       "text": [
        "<IPython.core.display.Javascript at 0xa10168c>"
       ]
      },
      {
       "javascript": [
        "$('div#19a30f0f-11d9-4ffb-9ba1-60ec2cc73869').width('72%')"
       ],
       "output_type": "display_data",
       "text": [
        "<IPython.core.display.Javascript at 0xa10168c>"
       ]
      },
      {
       "javascript": [
        "$('div#19a30f0f-11d9-4ffb-9ba1-60ec2cc73869').width('73%')"
       ],
       "output_type": "display_data",
       "text": [
        "<IPython.core.display.Javascript at 0xa10168c>"
       ]
      },
      {
       "javascript": [
        "$('div#19a30f0f-11d9-4ffb-9ba1-60ec2cc73869').width('74%')"
       ],
       "output_type": "display_data",
       "text": [
        "<IPython.core.display.Javascript at 0xa10168c>"
       ]
      },
      {
       "javascript": [
        "$('div#19a30f0f-11d9-4ffb-9ba1-60ec2cc73869').width('75%')"
       ],
       "output_type": "display_data",
       "text": [
        "<IPython.core.display.Javascript at 0xa10168c>"
       ]
      },
      {
       "javascript": [
        "$('div#19a30f0f-11d9-4ffb-9ba1-60ec2cc73869').width('76%')"
       ],
       "output_type": "display_data",
       "text": [
        "<IPython.core.display.Javascript at 0xa10168c>"
       ]
      },
      {
       "javascript": [
        "$('div#19a30f0f-11d9-4ffb-9ba1-60ec2cc73869').width('77%')"
       ],
       "output_type": "display_data",
       "text": [
        "<IPython.core.display.Javascript at 0xa10168c>"
       ]
      },
      {
       "javascript": [
        "$('div#19a30f0f-11d9-4ffb-9ba1-60ec2cc73869').width('78%')"
       ],
       "output_type": "display_data",
       "text": [
        "<IPython.core.display.Javascript at 0xa10168c>"
       ]
      },
      {
       "javascript": [
        "$('div#19a30f0f-11d9-4ffb-9ba1-60ec2cc73869').width('79%')"
       ],
       "output_type": "display_data",
       "text": [
        "<IPython.core.display.Javascript at 0xa10168c>"
       ]
      },
      {
       "javascript": [
        "$('div#19a30f0f-11d9-4ffb-9ba1-60ec2cc73869').width('80%')"
       ],
       "output_type": "display_data",
       "text": [
        "<IPython.core.display.Javascript at 0xa10168c>"
       ]
      },
      {
       "javascript": [
        "$('div#19a30f0f-11d9-4ffb-9ba1-60ec2cc73869').width('81%')"
       ],
       "output_type": "display_data",
       "text": [
        "<IPython.core.display.Javascript at 0xa10168c>"
       ]
      },
      {
       "javascript": [
        "$('div#19a30f0f-11d9-4ffb-9ba1-60ec2cc73869').width('82%')"
       ],
       "output_type": "display_data",
       "text": [
        "<IPython.core.display.Javascript at 0xa10168c>"
       ]
      },
      {
       "javascript": [
        "$('div#19a30f0f-11d9-4ffb-9ba1-60ec2cc73869').width('83%')"
       ],
       "output_type": "display_data",
       "text": [
        "<IPython.core.display.Javascript at 0xa10168c>"
       ]
      },
      {
       "javascript": [
        "$('div#19a30f0f-11d9-4ffb-9ba1-60ec2cc73869').width('84%')"
       ],
       "output_type": "display_data",
       "text": [
        "<IPython.core.display.Javascript at 0xa10168c>"
       ]
      },
      {
       "javascript": [
        "$('div#19a30f0f-11d9-4ffb-9ba1-60ec2cc73869').width('85%')"
       ],
       "output_type": "display_data",
       "text": [
        "<IPython.core.display.Javascript at 0xa10168c>"
       ]
      },
      {
       "javascript": [
        "$('div#19a30f0f-11d9-4ffb-9ba1-60ec2cc73869').width('86%')"
       ],
       "output_type": "display_data",
       "text": [
        "<IPython.core.display.Javascript at 0xa10168c>"
       ]
      },
      {
       "javascript": [
        "$('div#19a30f0f-11d9-4ffb-9ba1-60ec2cc73869').width('87%')"
       ],
       "output_type": "display_data",
       "text": [
        "<IPython.core.display.Javascript at 0xa10168c>"
       ]
      },
      {
       "javascript": [
        "$('div#19a30f0f-11d9-4ffb-9ba1-60ec2cc73869').width('88%')"
       ],
       "output_type": "display_data",
       "text": [
        "<IPython.core.display.Javascript at 0xa10168c>"
       ]
      },
      {
       "javascript": [
        "$('div#19a30f0f-11d9-4ffb-9ba1-60ec2cc73869').width('89%')"
       ],
       "output_type": "display_data",
       "text": [
        "<IPython.core.display.Javascript at 0xa10168c>"
       ]
      },
      {
       "javascript": [
        "$('div#19a30f0f-11d9-4ffb-9ba1-60ec2cc73869').width('90%')"
       ],
       "output_type": "display_data",
       "text": [
        "<IPython.core.display.Javascript at 0xa10168c>"
       ]
      },
      {
       "javascript": [
        "$('div#19a30f0f-11d9-4ffb-9ba1-60ec2cc73869').width('91%')"
       ],
       "output_type": "display_data",
       "text": [
        "<IPython.core.display.Javascript at 0xa10168c>"
       ]
      },
      {
       "javascript": [
        "$('div#19a30f0f-11d9-4ffb-9ba1-60ec2cc73869').width('92%')"
       ],
       "output_type": "display_data",
       "text": [
        "<IPython.core.display.Javascript at 0xa10168c>"
       ]
      },
      {
       "javascript": [
        "$('div#19a30f0f-11d9-4ffb-9ba1-60ec2cc73869').width('93%')"
       ],
       "output_type": "display_data",
       "text": [
        "<IPython.core.display.Javascript at 0xa10168c>"
       ]
      },
      {
       "javascript": [
        "$('div#19a30f0f-11d9-4ffb-9ba1-60ec2cc73869').width('94%')"
       ],
       "output_type": "display_data",
       "text": [
        "<IPython.core.display.Javascript at 0xa10168c>"
       ]
      },
      {
       "javascript": [
        "$('div#19a30f0f-11d9-4ffb-9ba1-60ec2cc73869').width('95%')"
       ],
       "output_type": "display_data",
       "text": [
        "<IPython.core.display.Javascript at 0xa10168c>"
       ]
      },
      {
       "javascript": [
        "$('div#19a30f0f-11d9-4ffb-9ba1-60ec2cc73869').width('96%')"
       ],
       "output_type": "display_data",
       "text": [
        "<IPython.core.display.Javascript at 0xa10168c>"
       ]
      },
      {
       "javascript": [
        "$('div#19a30f0f-11d9-4ffb-9ba1-60ec2cc73869').width('97%')"
       ],
       "output_type": "display_data",
       "text": [
        "<IPython.core.display.Javascript at 0xa10168c>"
       ]
      },
      {
       "javascript": [
        "$('div#19a30f0f-11d9-4ffb-9ba1-60ec2cc73869').width('98%')"
       ],
       "output_type": "display_data",
       "text": [
        "<IPython.core.display.Javascript at 0xa10168c>"
       ]
      },
      {
       "javascript": [
        "$('div#19a30f0f-11d9-4ffb-9ba1-60ec2cc73869').width('99%')"
       ],
       "output_type": "display_data",
       "text": [
        "<IPython.core.display.Javascript at 0xa10168c>"
       ]
      },
      {
       "javascript": [
        "$('div#19a30f0f-11d9-4ffb-9ba1-60ec2cc73869').width('100%')"
       ],
       "output_type": "display_data",
       "text": [
        "<IPython.core.display.Javascript at 0xa10168c>"
       ]
      },
      {
       "html": [
        "\n",
        "<div style=\"border: 1px solid black; width:500px\">\n",
        "  <div id=\"cec1d4a2-1183-47a3-8d96-d8656e0fb5d6\" style=\"background-color:blue; width:0%\">&nbsp;</div>\n",
        "</div> \n"
       ],
       "output_type": "display_data",
       "text": [
        "<IPython.core.display.HTML at 0xa10118c>"
       ]
      },
      {
       "javascript": [
        "$('div#cec1d4a2-1183-47a3-8d96-d8656e0fb5d6').width('1%')"
       ],
       "output_type": "display_data",
       "text": [
        "<IPython.core.display.Javascript at 0xa10116c>"
       ]
      },
      {
       "javascript": [
        "$('div#cec1d4a2-1183-47a3-8d96-d8656e0fb5d6').width('2%')"
       ],
       "output_type": "display_data",
       "text": [
        "<IPython.core.display.Javascript at 0xa10116c>"
       ]
      },
      {
       "javascript": [
        "$('div#cec1d4a2-1183-47a3-8d96-d8656e0fb5d6').width('3%')"
       ],
       "output_type": "display_data",
       "text": [
        "<IPython.core.display.Javascript at 0xa10116c>"
       ]
      },
      {
       "javascript": [
        "$('div#cec1d4a2-1183-47a3-8d96-d8656e0fb5d6').width('4%')"
       ],
       "output_type": "display_data",
       "text": [
        "<IPython.core.display.Javascript at 0xa10116c>"
       ]
      },
      {
       "javascript": [
        "$('div#cec1d4a2-1183-47a3-8d96-d8656e0fb5d6').width('5%')"
       ],
       "output_type": "display_data",
       "text": [
        "<IPython.core.display.Javascript at 0xa10116c>"
       ]
      },
      {
       "javascript": [
        "$('div#cec1d4a2-1183-47a3-8d96-d8656e0fb5d6').width('6%')"
       ],
       "output_type": "display_data",
       "text": [
        "<IPython.core.display.Javascript at 0xa10116c>"
       ]
      },
      {
       "javascript": [
        "$('div#cec1d4a2-1183-47a3-8d96-d8656e0fb5d6').width('7%')"
       ],
       "output_type": "display_data",
       "text": [
        "<IPython.core.display.Javascript at 0xa10116c>"
       ]
      },
      {
       "javascript": [
        "$('div#cec1d4a2-1183-47a3-8d96-d8656e0fb5d6').width('8%')"
       ],
       "output_type": "display_data",
       "text": [
        "<IPython.core.display.Javascript at 0xa10116c>"
       ]
      },
      {
       "javascript": [
        "$('div#cec1d4a2-1183-47a3-8d96-d8656e0fb5d6').width('9%')"
       ],
       "output_type": "display_data",
       "text": [
        "<IPython.core.display.Javascript at 0xa10116c>"
       ]
      },
      {
       "javascript": [
        "$('div#cec1d4a2-1183-47a3-8d96-d8656e0fb5d6').width('10%')"
       ],
       "output_type": "display_data",
       "text": [
        "<IPython.core.display.Javascript at 0xa10116c>"
       ]
      },
      {
       "javascript": [
        "$('div#cec1d4a2-1183-47a3-8d96-d8656e0fb5d6').width('11%')"
       ],
       "output_type": "display_data",
       "text": [
        "<IPython.core.display.Javascript at 0xa10116c>"
       ]
      },
      {
       "javascript": [
        "$('div#cec1d4a2-1183-47a3-8d96-d8656e0fb5d6').width('12%')"
       ],
       "output_type": "display_data",
       "text": [
        "<IPython.core.display.Javascript at 0xa10116c>"
       ]
      },
      {
       "javascript": [
        "$('div#cec1d4a2-1183-47a3-8d96-d8656e0fb5d6').width('13%')"
       ],
       "output_type": "display_data",
       "text": [
        "<IPython.core.display.Javascript at 0xa10116c>"
       ]
      },
      {
       "javascript": [
        "$('div#cec1d4a2-1183-47a3-8d96-d8656e0fb5d6').width('14%')"
       ],
       "output_type": "display_data",
       "text": [
        "<IPython.core.display.Javascript at 0xa10116c>"
       ]
      },
      {
       "javascript": [
        "$('div#cec1d4a2-1183-47a3-8d96-d8656e0fb5d6').width('15%')"
       ],
       "output_type": "display_data",
       "text": [
        "<IPython.core.display.Javascript at 0xa10116c>"
       ]
      },
      {
       "javascript": [
        "$('div#cec1d4a2-1183-47a3-8d96-d8656e0fb5d6').width('16%')"
       ],
       "output_type": "display_data",
       "text": [
        "<IPython.core.display.Javascript at 0xa10116c>"
       ]
      },
      {
       "javascript": [
        "$('div#cec1d4a2-1183-47a3-8d96-d8656e0fb5d6').width('17%')"
       ],
       "output_type": "display_data",
       "text": [
        "<IPython.core.display.Javascript at 0xa10116c>"
       ]
      },
      {
       "javascript": [
        "$('div#cec1d4a2-1183-47a3-8d96-d8656e0fb5d6').width('18%')"
       ],
       "output_type": "display_data",
       "text": [
        "<IPython.core.display.Javascript at 0xa10116c>"
       ]
      },
      {
       "javascript": [
        "$('div#cec1d4a2-1183-47a3-8d96-d8656e0fb5d6').width('19%')"
       ],
       "output_type": "display_data",
       "text": [
        "<IPython.core.display.Javascript at 0xa10116c>"
       ]
      },
      {
       "javascript": [
        "$('div#cec1d4a2-1183-47a3-8d96-d8656e0fb5d6').width('20%')"
       ],
       "output_type": "display_data",
       "text": [
        "<IPython.core.display.Javascript at 0xa10116c>"
       ]
      },
      {
       "javascript": [
        "$('div#cec1d4a2-1183-47a3-8d96-d8656e0fb5d6').width('21%')"
       ],
       "output_type": "display_data",
       "text": [
        "<IPython.core.display.Javascript at 0xa10116c>"
       ]
      },
      {
       "javascript": [
        "$('div#cec1d4a2-1183-47a3-8d96-d8656e0fb5d6').width('22%')"
       ],
       "output_type": "display_data",
       "text": [
        "<IPython.core.display.Javascript at 0xa10116c>"
       ]
      },
      {
       "javascript": [
        "$('div#cec1d4a2-1183-47a3-8d96-d8656e0fb5d6').width('23%')"
       ],
       "output_type": "display_data",
       "text": [
        "<IPython.core.display.Javascript at 0xa10116c>"
       ]
      },
      {
       "javascript": [
        "$('div#cec1d4a2-1183-47a3-8d96-d8656e0fb5d6').width('24%')"
       ],
       "output_type": "display_data",
       "text": [
        "<IPython.core.display.Javascript at 0xa10116c>"
       ]
      },
      {
       "javascript": [
        "$('div#cec1d4a2-1183-47a3-8d96-d8656e0fb5d6').width('25%')"
       ],
       "output_type": "display_data",
       "text": [
        "<IPython.core.display.Javascript at 0xa10116c>"
       ]
      },
      {
       "javascript": [
        "$('div#cec1d4a2-1183-47a3-8d96-d8656e0fb5d6').width('26%')"
       ],
       "output_type": "display_data",
       "text": [
        "<IPython.core.display.Javascript at 0xa10116c>"
       ]
      },
      {
       "javascript": [
        "$('div#cec1d4a2-1183-47a3-8d96-d8656e0fb5d6').width('27%')"
       ],
       "output_type": "display_data",
       "text": [
        "<IPython.core.display.Javascript at 0xa10116c>"
       ]
      },
      {
       "javascript": [
        "$('div#cec1d4a2-1183-47a3-8d96-d8656e0fb5d6').width('28%')"
       ],
       "output_type": "display_data",
       "text": [
        "<IPython.core.display.Javascript at 0xa10116c>"
       ]
      },
      {
       "javascript": [
        "$('div#cec1d4a2-1183-47a3-8d96-d8656e0fb5d6').width('29%')"
       ],
       "output_type": "display_data",
       "text": [
        "<IPython.core.display.Javascript at 0xa10116c>"
       ]
      },
      {
       "javascript": [
        "$('div#cec1d4a2-1183-47a3-8d96-d8656e0fb5d6').width('30%')"
       ],
       "output_type": "display_data",
       "text": [
        "<IPython.core.display.Javascript at 0xa10116c>"
       ]
      },
      {
       "javascript": [
        "$('div#cec1d4a2-1183-47a3-8d96-d8656e0fb5d6').width('31%')"
       ],
       "output_type": "display_data",
       "text": [
        "<IPython.core.display.Javascript at 0xa10116c>"
       ]
      },
      {
       "javascript": [
        "$('div#cec1d4a2-1183-47a3-8d96-d8656e0fb5d6').width('32%')"
       ],
       "output_type": "display_data",
       "text": [
        "<IPython.core.display.Javascript at 0xa10116c>"
       ]
      },
      {
       "javascript": [
        "$('div#cec1d4a2-1183-47a3-8d96-d8656e0fb5d6').width('33%')"
       ],
       "output_type": "display_data",
       "text": [
        "<IPython.core.display.Javascript at 0xa10116c>"
       ]
      },
      {
       "javascript": [
        "$('div#cec1d4a2-1183-47a3-8d96-d8656e0fb5d6').width('34%')"
       ],
       "output_type": "display_data",
       "text": [
        "<IPython.core.display.Javascript at 0xa10116c>"
       ]
      },
      {
       "javascript": [
        "$('div#cec1d4a2-1183-47a3-8d96-d8656e0fb5d6').width('35%')"
       ],
       "output_type": "display_data",
       "text": [
        "<IPython.core.display.Javascript at 0xa10116c>"
       ]
      },
      {
       "javascript": [
        "$('div#cec1d4a2-1183-47a3-8d96-d8656e0fb5d6').width('36%')"
       ],
       "output_type": "display_data",
       "text": [
        "<IPython.core.display.Javascript at 0xa10116c>"
       ]
      },
      {
       "javascript": [
        "$('div#cec1d4a2-1183-47a3-8d96-d8656e0fb5d6').width('37%')"
       ],
       "output_type": "display_data",
       "text": [
        "<IPython.core.display.Javascript at 0xa10116c>"
       ]
      },
      {
       "javascript": [
        "$('div#cec1d4a2-1183-47a3-8d96-d8656e0fb5d6').width('38%')"
       ],
       "output_type": "display_data",
       "text": [
        "<IPython.core.display.Javascript at 0xa10116c>"
       ]
      },
      {
       "javascript": [
        "$('div#cec1d4a2-1183-47a3-8d96-d8656e0fb5d6').width('39%')"
       ],
       "output_type": "display_data",
       "text": [
        "<IPython.core.display.Javascript at 0xa10116c>"
       ]
      },
      {
       "javascript": [
        "$('div#cec1d4a2-1183-47a3-8d96-d8656e0fb5d6').width('40%')"
       ],
       "output_type": "display_data",
       "text": [
        "<IPython.core.display.Javascript at 0xa10116c>"
       ]
      },
      {
       "javascript": [
        "$('div#cec1d4a2-1183-47a3-8d96-d8656e0fb5d6').width('41%')"
       ],
       "output_type": "display_data",
       "text": [
        "<IPython.core.display.Javascript at 0xa10116c>"
       ]
      },
      {
       "javascript": [
        "$('div#cec1d4a2-1183-47a3-8d96-d8656e0fb5d6').width('42%')"
       ],
       "output_type": "display_data",
       "text": [
        "<IPython.core.display.Javascript at 0xa10116c>"
       ]
      },
      {
       "javascript": [
        "$('div#cec1d4a2-1183-47a3-8d96-d8656e0fb5d6').width('43%')"
       ],
       "output_type": "display_data",
       "text": [
        "<IPython.core.display.Javascript at 0xa10116c>"
       ]
      },
      {
       "javascript": [
        "$('div#cec1d4a2-1183-47a3-8d96-d8656e0fb5d6').width('44%')"
       ],
       "output_type": "display_data",
       "text": [
        "<IPython.core.display.Javascript at 0xa10116c>"
       ]
      },
      {
       "javascript": [
        "$('div#cec1d4a2-1183-47a3-8d96-d8656e0fb5d6').width('45%')"
       ],
       "output_type": "display_data",
       "text": [
        "<IPython.core.display.Javascript at 0xa10116c>"
       ]
      },
      {
       "javascript": [
        "$('div#cec1d4a2-1183-47a3-8d96-d8656e0fb5d6').width('46%')"
       ],
       "output_type": "display_data",
       "text": [
        "<IPython.core.display.Javascript at 0xa10116c>"
       ]
      },
      {
       "javascript": [
        "$('div#cec1d4a2-1183-47a3-8d96-d8656e0fb5d6').width('47%')"
       ],
       "output_type": "display_data",
       "text": [
        "<IPython.core.display.Javascript at 0xa10116c>"
       ]
      },
      {
       "javascript": [
        "$('div#cec1d4a2-1183-47a3-8d96-d8656e0fb5d6').width('48%')"
       ],
       "output_type": "display_data",
       "text": [
        "<IPython.core.display.Javascript at 0xa10116c>"
       ]
      },
      {
       "javascript": [
        "$('div#cec1d4a2-1183-47a3-8d96-d8656e0fb5d6').width('49%')"
       ],
       "output_type": "display_data",
       "text": [
        "<IPython.core.display.Javascript at 0xa10116c>"
       ]
      },
      {
       "javascript": [
        "$('div#cec1d4a2-1183-47a3-8d96-d8656e0fb5d6').width('50%')"
       ],
       "output_type": "display_data",
       "text": [
        "<IPython.core.display.Javascript at 0xa10116c>"
       ]
      },
      {
       "javascript": [
        "$('div#cec1d4a2-1183-47a3-8d96-d8656e0fb5d6').width('51%')"
       ],
       "output_type": "display_data",
       "text": [
        "<IPython.core.display.Javascript at 0xa10116c>"
       ]
      },
      {
       "javascript": [
        "$('div#cec1d4a2-1183-47a3-8d96-d8656e0fb5d6').width('52%')"
       ],
       "output_type": "display_data",
       "text": [
        "<IPython.core.display.Javascript at 0xa10116c>"
       ]
      },
      {
       "javascript": [
        "$('div#cec1d4a2-1183-47a3-8d96-d8656e0fb5d6').width('53%')"
       ],
       "output_type": "display_data",
       "text": [
        "<IPython.core.display.Javascript at 0xa10116c>"
       ]
      },
      {
       "javascript": [
        "$('div#cec1d4a2-1183-47a3-8d96-d8656e0fb5d6').width('54%')"
       ],
       "output_type": "display_data",
       "text": [
        "<IPython.core.display.Javascript at 0xa10116c>"
       ]
      },
      {
       "javascript": [
        "$('div#cec1d4a2-1183-47a3-8d96-d8656e0fb5d6').width('55%')"
       ],
       "output_type": "display_data",
       "text": [
        "<IPython.core.display.Javascript at 0xa10116c>"
       ]
      },
      {
       "javascript": [
        "$('div#cec1d4a2-1183-47a3-8d96-d8656e0fb5d6').width('56%')"
       ],
       "output_type": "display_data",
       "text": [
        "<IPython.core.display.Javascript at 0xa10116c>"
       ]
      },
      {
       "javascript": [
        "$('div#cec1d4a2-1183-47a3-8d96-d8656e0fb5d6').width('57%')"
       ],
       "output_type": "display_data",
       "text": [
        "<IPython.core.display.Javascript at 0xa10116c>"
       ]
      },
      {
       "javascript": [
        "$('div#cec1d4a2-1183-47a3-8d96-d8656e0fb5d6').width('58%')"
       ],
       "output_type": "display_data",
       "text": [
        "<IPython.core.display.Javascript at 0xa10116c>"
       ]
      },
      {
       "javascript": [
        "$('div#cec1d4a2-1183-47a3-8d96-d8656e0fb5d6').width('59%')"
       ],
       "output_type": "display_data",
       "text": [
        "<IPython.core.display.Javascript at 0xa10116c>"
       ]
      },
      {
       "javascript": [
        "$('div#cec1d4a2-1183-47a3-8d96-d8656e0fb5d6').width('60%')"
       ],
       "output_type": "display_data",
       "text": [
        "<IPython.core.display.Javascript at 0xa10116c>"
       ]
      },
      {
       "javascript": [
        "$('div#cec1d4a2-1183-47a3-8d96-d8656e0fb5d6').width('61%')"
       ],
       "output_type": "display_data",
       "text": [
        "<IPython.core.display.Javascript at 0xa10116c>"
       ]
      },
      {
       "javascript": [
        "$('div#cec1d4a2-1183-47a3-8d96-d8656e0fb5d6').width('62%')"
       ],
       "output_type": "display_data",
       "text": [
        "<IPython.core.display.Javascript at 0xa10116c>"
       ]
      },
      {
       "javascript": [
        "$('div#cec1d4a2-1183-47a3-8d96-d8656e0fb5d6').width('63%')"
       ],
       "output_type": "display_data",
       "text": [
        "<IPython.core.display.Javascript at 0xa10116c>"
       ]
      },
      {
       "javascript": [
        "$('div#cec1d4a2-1183-47a3-8d96-d8656e0fb5d6').width('64%')"
       ],
       "output_type": "display_data",
       "text": [
        "<IPython.core.display.Javascript at 0xa10116c>"
       ]
      },
      {
       "javascript": [
        "$('div#cec1d4a2-1183-47a3-8d96-d8656e0fb5d6').width('65%')"
       ],
       "output_type": "display_data",
       "text": [
        "<IPython.core.display.Javascript at 0xa10116c>"
       ]
      },
      {
       "javascript": [
        "$('div#cec1d4a2-1183-47a3-8d96-d8656e0fb5d6').width('66%')"
       ],
       "output_type": "display_data",
       "text": [
        "<IPython.core.display.Javascript at 0xa10116c>"
       ]
      },
      {
       "javascript": [
        "$('div#cec1d4a2-1183-47a3-8d96-d8656e0fb5d6').width('67%')"
       ],
       "output_type": "display_data",
       "text": [
        "<IPython.core.display.Javascript at 0xa10116c>"
       ]
      },
      {
       "javascript": [
        "$('div#cec1d4a2-1183-47a3-8d96-d8656e0fb5d6').width('68%')"
       ],
       "output_type": "display_data",
       "text": [
        "<IPython.core.display.Javascript at 0xa10116c>"
       ]
      },
      {
       "javascript": [
        "$('div#cec1d4a2-1183-47a3-8d96-d8656e0fb5d6').width('69%')"
       ],
       "output_type": "display_data",
       "text": [
        "<IPython.core.display.Javascript at 0xa10116c>"
       ]
      },
      {
       "javascript": [
        "$('div#cec1d4a2-1183-47a3-8d96-d8656e0fb5d6').width('70%')"
       ],
       "output_type": "display_data",
       "text": [
        "<IPython.core.display.Javascript at 0xa10116c>"
       ]
      },
      {
       "javascript": [
        "$('div#cec1d4a2-1183-47a3-8d96-d8656e0fb5d6').width('71%')"
       ],
       "output_type": "display_data",
       "text": [
        "<IPython.core.display.Javascript at 0xa10116c>"
       ]
      },
      {
       "javascript": [
        "$('div#cec1d4a2-1183-47a3-8d96-d8656e0fb5d6').width('72%')"
       ],
       "output_type": "display_data",
       "text": [
        "<IPython.core.display.Javascript at 0xa10116c>"
       ]
      },
      {
       "javascript": [
        "$('div#cec1d4a2-1183-47a3-8d96-d8656e0fb5d6').width('73%')"
       ],
       "output_type": "display_data",
       "text": [
        "<IPython.core.display.Javascript at 0xa10116c>"
       ]
      },
      {
       "javascript": [
        "$('div#cec1d4a2-1183-47a3-8d96-d8656e0fb5d6').width('74%')"
       ],
       "output_type": "display_data",
       "text": [
        "<IPython.core.display.Javascript at 0xa10116c>"
       ]
      },
      {
       "javascript": [
        "$('div#cec1d4a2-1183-47a3-8d96-d8656e0fb5d6').width('75%')"
       ],
       "output_type": "display_data",
       "text": [
        "<IPython.core.display.Javascript at 0xa10116c>"
       ]
      },
      {
       "javascript": [
        "$('div#cec1d4a2-1183-47a3-8d96-d8656e0fb5d6').width('76%')"
       ],
       "output_type": "display_data",
       "text": [
        "<IPython.core.display.Javascript at 0xa10116c>"
       ]
      },
      {
       "javascript": [
        "$('div#cec1d4a2-1183-47a3-8d96-d8656e0fb5d6').width('77%')"
       ],
       "output_type": "display_data",
       "text": [
        "<IPython.core.display.Javascript at 0xa10116c>"
       ]
      },
      {
       "javascript": [
        "$('div#cec1d4a2-1183-47a3-8d96-d8656e0fb5d6').width('78%')"
       ],
       "output_type": "display_data",
       "text": [
        "<IPython.core.display.Javascript at 0xa10116c>"
       ]
      },
      {
       "javascript": [
        "$('div#cec1d4a2-1183-47a3-8d96-d8656e0fb5d6').width('79%')"
       ],
       "output_type": "display_data",
       "text": [
        "<IPython.core.display.Javascript at 0xa10116c>"
       ]
      },
      {
       "javascript": [
        "$('div#cec1d4a2-1183-47a3-8d96-d8656e0fb5d6').width('80%')"
       ],
       "output_type": "display_data",
       "text": [
        "<IPython.core.display.Javascript at 0xa10116c>"
       ]
      },
      {
       "javascript": [
        "$('div#cec1d4a2-1183-47a3-8d96-d8656e0fb5d6').width('81%')"
       ],
       "output_type": "display_data",
       "text": [
        "<IPython.core.display.Javascript at 0xa10116c>"
       ]
      },
      {
       "javascript": [
        "$('div#cec1d4a2-1183-47a3-8d96-d8656e0fb5d6').width('82%')"
       ],
       "output_type": "display_data",
       "text": [
        "<IPython.core.display.Javascript at 0xa10116c>"
       ]
      },
      {
       "javascript": [
        "$('div#cec1d4a2-1183-47a3-8d96-d8656e0fb5d6').width('83%')"
       ],
       "output_type": "display_data",
       "text": [
        "<IPython.core.display.Javascript at 0xa10116c>"
       ]
      },
      {
       "javascript": [
        "$('div#cec1d4a2-1183-47a3-8d96-d8656e0fb5d6').width('84%')"
       ],
       "output_type": "display_data",
       "text": [
        "<IPython.core.display.Javascript at 0xa10116c>"
       ]
      },
      {
       "javascript": [
        "$('div#cec1d4a2-1183-47a3-8d96-d8656e0fb5d6').width('85%')"
       ],
       "output_type": "display_data",
       "text": [
        "<IPython.core.display.Javascript at 0xa10116c>"
       ]
      },
      {
       "javascript": [
        "$('div#cec1d4a2-1183-47a3-8d96-d8656e0fb5d6').width('86%')"
       ],
       "output_type": "display_data",
       "text": [
        "<IPython.core.display.Javascript at 0xa10116c>"
       ]
      },
      {
       "javascript": [
        "$('div#cec1d4a2-1183-47a3-8d96-d8656e0fb5d6').width('87%')"
       ],
       "output_type": "display_data",
       "text": [
        "<IPython.core.display.Javascript at 0xa10116c>"
       ]
      },
      {
       "javascript": [
        "$('div#cec1d4a2-1183-47a3-8d96-d8656e0fb5d6').width('88%')"
       ],
       "output_type": "display_data",
       "text": [
        "<IPython.core.display.Javascript at 0xa10116c>"
       ]
      },
      {
       "javascript": [
        "$('div#cec1d4a2-1183-47a3-8d96-d8656e0fb5d6').width('89%')"
       ],
       "output_type": "display_data",
       "text": [
        "<IPython.core.display.Javascript at 0xa10116c>"
       ]
      },
      {
       "javascript": [
        "$('div#cec1d4a2-1183-47a3-8d96-d8656e0fb5d6').width('90%')"
       ],
       "output_type": "display_data",
       "text": [
        "<IPython.core.display.Javascript at 0xa10116c>"
       ]
      },
      {
       "javascript": [
        "$('div#cec1d4a2-1183-47a3-8d96-d8656e0fb5d6').width('91%')"
       ],
       "output_type": "display_data",
       "text": [
        "<IPython.core.display.Javascript at 0xa10116c>"
       ]
      },
      {
       "javascript": [
        "$('div#cec1d4a2-1183-47a3-8d96-d8656e0fb5d6').width('92%')"
       ],
       "output_type": "display_data",
       "text": [
        "<IPython.core.display.Javascript at 0xa10116c>"
       ]
      },
      {
       "javascript": [
        "$('div#cec1d4a2-1183-47a3-8d96-d8656e0fb5d6').width('93%')"
       ],
       "output_type": "display_data",
       "text": [
        "<IPython.core.display.Javascript at 0xa10116c>"
       ]
      },
      {
       "javascript": [
        "$('div#cec1d4a2-1183-47a3-8d96-d8656e0fb5d6').width('94%')"
       ],
       "output_type": "display_data",
       "text": [
        "<IPython.core.display.Javascript at 0xa10116c>"
       ]
      },
      {
       "javascript": [
        "$('div#cec1d4a2-1183-47a3-8d96-d8656e0fb5d6').width('95%')"
       ],
       "output_type": "display_data",
       "text": [
        "<IPython.core.display.Javascript at 0xa10116c>"
       ]
      },
      {
       "javascript": [
        "$('div#cec1d4a2-1183-47a3-8d96-d8656e0fb5d6').width('96%')"
       ],
       "output_type": "display_data",
       "text": [
        "<IPython.core.display.Javascript at 0xa10116c>"
       ]
      },
      {
       "javascript": [
        "$('div#cec1d4a2-1183-47a3-8d96-d8656e0fb5d6').width('97%')"
       ],
       "output_type": "display_data",
       "text": [
        "<IPython.core.display.Javascript at 0xa10116c>"
       ]
      },
      {
       "javascript": [
        "$('div#cec1d4a2-1183-47a3-8d96-d8656e0fb5d6').width('98%')"
       ],
       "output_type": "display_data",
       "text": [
        "<IPython.core.display.Javascript at 0xa10116c>"
       ]
      },
      {
       "javascript": [
        "$('div#cec1d4a2-1183-47a3-8d96-d8656e0fb5d6').width('99%')"
       ],
       "output_type": "display_data",
       "text": [
        "<IPython.core.display.Javascript at 0xa10116c>"
       ]
      },
      {
       "javascript": [
        "$('div#cec1d4a2-1183-47a3-8d96-d8656e0fb5d6').width('100%')"
       ],
       "output_type": "display_data",
       "text": [
        "<IPython.core.display.Javascript at 0xa10116c>"
       ]
      },
      {
       "html": [
        "\n",
        "<div style=\"border: 1px solid black; width:500px\">\n",
        "  <div id=\"fee165ac-a0b9-40b2-bbe5-0af789b4dead\" style=\"background-color:blue; width:0%\">&nbsp;</div>\n",
        "</div> \n"
       ],
       "output_type": "display_data",
       "text": [
        "<IPython.core.display.HTML at 0xa28e40c>"
       ]
      },
      {
       "javascript": [
        "$('div#fee165ac-a0b9-40b2-bbe5-0af789b4dead').width('1%')"
       ],
       "output_type": "display_data",
       "text": [
        "<IPython.core.display.Javascript at 0xa28e32c>"
       ]
      },
      {
       "javascript": [
        "$('div#fee165ac-a0b9-40b2-bbe5-0af789b4dead').width('2%')"
       ],
       "output_type": "display_data",
       "text": [
        "<IPython.core.display.Javascript at 0xa28e32c>"
       ]
      },
      {
       "javascript": [
        "$('div#fee165ac-a0b9-40b2-bbe5-0af789b4dead').width('3%')"
       ],
       "output_type": "display_data",
       "text": [
        "<IPython.core.display.Javascript at 0xa28e32c>"
       ]
      },
      {
       "javascript": [
        "$('div#fee165ac-a0b9-40b2-bbe5-0af789b4dead').width('4%')"
       ],
       "output_type": "display_data",
       "text": [
        "<IPython.core.display.Javascript at 0xa28e32c>"
       ]
      },
      {
       "javascript": [
        "$('div#fee165ac-a0b9-40b2-bbe5-0af789b4dead').width('5%')"
       ],
       "output_type": "display_data",
       "text": [
        "<IPython.core.display.Javascript at 0xa28e32c>"
       ]
      },
      {
       "javascript": [
        "$('div#fee165ac-a0b9-40b2-bbe5-0af789b4dead').width('6%')"
       ],
       "output_type": "display_data",
       "text": [
        "<IPython.core.display.Javascript at 0xa28e32c>"
       ]
      },
      {
       "javascript": [
        "$('div#fee165ac-a0b9-40b2-bbe5-0af789b4dead').width('7%')"
       ],
       "output_type": "display_data",
       "text": [
        "<IPython.core.display.Javascript at 0xa28e32c>"
       ]
      },
      {
       "javascript": [
        "$('div#fee165ac-a0b9-40b2-bbe5-0af789b4dead').width('8%')"
       ],
       "output_type": "display_data",
       "text": [
        "<IPython.core.display.Javascript at 0xa28e32c>"
       ]
      },
      {
       "javascript": [
        "$('div#fee165ac-a0b9-40b2-bbe5-0af789b4dead').width('9%')"
       ],
       "output_type": "display_data",
       "text": [
        "<IPython.core.display.Javascript at 0xa28e32c>"
       ]
      },
      {
       "javascript": [
        "$('div#fee165ac-a0b9-40b2-bbe5-0af789b4dead').width('10%')"
       ],
       "output_type": "display_data",
       "text": [
        "<IPython.core.display.Javascript at 0xa28e32c>"
       ]
      },
      {
       "javascript": [
        "$('div#fee165ac-a0b9-40b2-bbe5-0af789b4dead').width('11%')"
       ],
       "output_type": "display_data",
       "text": [
        "<IPython.core.display.Javascript at 0xa28e32c>"
       ]
      },
      {
       "javascript": [
        "$('div#fee165ac-a0b9-40b2-bbe5-0af789b4dead').width('12%')"
       ],
       "output_type": "display_data",
       "text": [
        "<IPython.core.display.Javascript at 0xa28e32c>"
       ]
      },
      {
       "javascript": [
        "$('div#fee165ac-a0b9-40b2-bbe5-0af789b4dead').width('13%')"
       ],
       "output_type": "display_data",
       "text": [
        "<IPython.core.display.Javascript at 0xa28e32c>"
       ]
      },
      {
       "javascript": [
        "$('div#fee165ac-a0b9-40b2-bbe5-0af789b4dead').width('14%')"
       ],
       "output_type": "display_data",
       "text": [
        "<IPython.core.display.Javascript at 0xa28e32c>"
       ]
      },
      {
       "javascript": [
        "$('div#fee165ac-a0b9-40b2-bbe5-0af789b4dead').width('15%')"
       ],
       "output_type": "display_data",
       "text": [
        "<IPython.core.display.Javascript at 0xa28e32c>"
       ]
      },
      {
       "javascript": [
        "$('div#fee165ac-a0b9-40b2-bbe5-0af789b4dead').width('16%')"
       ],
       "output_type": "display_data",
       "text": [
        "<IPython.core.display.Javascript at 0xa28e32c>"
       ]
      },
      {
       "javascript": [
        "$('div#fee165ac-a0b9-40b2-bbe5-0af789b4dead').width('17%')"
       ],
       "output_type": "display_data",
       "text": [
        "<IPython.core.display.Javascript at 0xa28e32c>"
       ]
      },
      {
       "javascript": [
        "$('div#fee165ac-a0b9-40b2-bbe5-0af789b4dead').width('18%')"
       ],
       "output_type": "display_data",
       "text": [
        "<IPython.core.display.Javascript at 0xa28e32c>"
       ]
      },
      {
       "javascript": [
        "$('div#fee165ac-a0b9-40b2-bbe5-0af789b4dead').width('19%')"
       ],
       "output_type": "display_data",
       "text": [
        "<IPython.core.display.Javascript at 0xa28e32c>"
       ]
      },
      {
       "javascript": [
        "$('div#fee165ac-a0b9-40b2-bbe5-0af789b4dead').width('20%')"
       ],
       "output_type": "display_data",
       "text": [
        "<IPython.core.display.Javascript at 0xa28e32c>"
       ]
      },
      {
       "javascript": [
        "$('div#fee165ac-a0b9-40b2-bbe5-0af789b4dead').width('21%')"
       ],
       "output_type": "display_data",
       "text": [
        "<IPython.core.display.Javascript at 0xa28e32c>"
       ]
      },
      {
       "javascript": [
        "$('div#fee165ac-a0b9-40b2-bbe5-0af789b4dead').width('22%')"
       ],
       "output_type": "display_data",
       "text": [
        "<IPython.core.display.Javascript at 0xa28e32c>"
       ]
      },
      {
       "javascript": [
        "$('div#fee165ac-a0b9-40b2-bbe5-0af789b4dead').width('23%')"
       ],
       "output_type": "display_data",
       "text": [
        "<IPython.core.display.Javascript at 0xa28e32c>"
       ]
      },
      {
       "javascript": [
        "$('div#fee165ac-a0b9-40b2-bbe5-0af789b4dead').width('24%')"
       ],
       "output_type": "display_data",
       "text": [
        "<IPython.core.display.Javascript at 0xa28e32c>"
       ]
      },
      {
       "javascript": [
        "$('div#fee165ac-a0b9-40b2-bbe5-0af789b4dead').width('25%')"
       ],
       "output_type": "display_data",
       "text": [
        "<IPython.core.display.Javascript at 0xa28e32c>"
       ]
      },
      {
       "javascript": [
        "$('div#fee165ac-a0b9-40b2-bbe5-0af789b4dead').width('26%')"
       ],
       "output_type": "display_data",
       "text": [
        "<IPython.core.display.Javascript at 0xa28e32c>"
       ]
      },
      {
       "javascript": [
        "$('div#fee165ac-a0b9-40b2-bbe5-0af789b4dead').width('27%')"
       ],
       "output_type": "display_data",
       "text": [
        "<IPython.core.display.Javascript at 0xa28e32c>"
       ]
      },
      {
       "javascript": [
        "$('div#fee165ac-a0b9-40b2-bbe5-0af789b4dead').width('28%')"
       ],
       "output_type": "display_data",
       "text": [
        "<IPython.core.display.Javascript at 0xa28e32c>"
       ]
      },
      {
       "javascript": [
        "$('div#fee165ac-a0b9-40b2-bbe5-0af789b4dead').width('29%')"
       ],
       "output_type": "display_data",
       "text": [
        "<IPython.core.display.Javascript at 0xa28e32c>"
       ]
      },
      {
       "javascript": [
        "$('div#fee165ac-a0b9-40b2-bbe5-0af789b4dead').width('30%')"
       ],
       "output_type": "display_data",
       "text": [
        "<IPython.core.display.Javascript at 0xa28e32c>"
       ]
      },
      {
       "javascript": [
        "$('div#fee165ac-a0b9-40b2-bbe5-0af789b4dead').width('31%')"
       ],
       "output_type": "display_data",
       "text": [
        "<IPython.core.display.Javascript at 0xa28e32c>"
       ]
      },
      {
       "javascript": [
        "$('div#fee165ac-a0b9-40b2-bbe5-0af789b4dead').width('32%')"
       ],
       "output_type": "display_data",
       "text": [
        "<IPython.core.display.Javascript at 0xa28e32c>"
       ]
      },
      {
       "javascript": [
        "$('div#fee165ac-a0b9-40b2-bbe5-0af789b4dead').width('33%')"
       ],
       "output_type": "display_data",
       "text": [
        "<IPython.core.display.Javascript at 0xa28e32c>"
       ]
      },
      {
       "javascript": [
        "$('div#fee165ac-a0b9-40b2-bbe5-0af789b4dead').width('34%')"
       ],
       "output_type": "display_data",
       "text": [
        "<IPython.core.display.Javascript at 0xa28e32c>"
       ]
      },
      {
       "javascript": [
        "$('div#fee165ac-a0b9-40b2-bbe5-0af789b4dead').width('35%')"
       ],
       "output_type": "display_data",
       "text": [
        "<IPython.core.display.Javascript at 0xa28e32c>"
       ]
      },
      {
       "javascript": [
        "$('div#fee165ac-a0b9-40b2-bbe5-0af789b4dead').width('36%')"
       ],
       "output_type": "display_data",
       "text": [
        "<IPython.core.display.Javascript at 0xa28e32c>"
       ]
      },
      {
       "javascript": [
        "$('div#fee165ac-a0b9-40b2-bbe5-0af789b4dead').width('37%')"
       ],
       "output_type": "display_data",
       "text": [
        "<IPython.core.display.Javascript at 0xa28e32c>"
       ]
      },
      {
       "javascript": [
        "$('div#fee165ac-a0b9-40b2-bbe5-0af789b4dead').width('38%')"
       ],
       "output_type": "display_data",
       "text": [
        "<IPython.core.display.Javascript at 0xa28e32c>"
       ]
      },
      {
       "javascript": [
        "$('div#fee165ac-a0b9-40b2-bbe5-0af789b4dead').width('39%')"
       ],
       "output_type": "display_data",
       "text": [
        "<IPython.core.display.Javascript at 0xa28e32c>"
       ]
      },
      {
       "javascript": [
        "$('div#fee165ac-a0b9-40b2-bbe5-0af789b4dead').width('40%')"
       ],
       "output_type": "display_data",
       "text": [
        "<IPython.core.display.Javascript at 0xa28e32c>"
       ]
      },
      {
       "javascript": [
        "$('div#fee165ac-a0b9-40b2-bbe5-0af789b4dead').width('41%')"
       ],
       "output_type": "display_data",
       "text": [
        "<IPython.core.display.Javascript at 0xa28e32c>"
       ]
      },
      {
       "javascript": [
        "$('div#fee165ac-a0b9-40b2-bbe5-0af789b4dead').width('42%')"
       ],
       "output_type": "display_data",
       "text": [
        "<IPython.core.display.Javascript at 0xa28e32c>"
       ]
      },
      {
       "javascript": [
        "$('div#fee165ac-a0b9-40b2-bbe5-0af789b4dead').width('43%')"
       ],
       "output_type": "display_data",
       "text": [
        "<IPython.core.display.Javascript at 0xa28e32c>"
       ]
      },
      {
       "javascript": [
        "$('div#fee165ac-a0b9-40b2-bbe5-0af789b4dead').width('44%')"
       ],
       "output_type": "display_data",
       "text": [
        "<IPython.core.display.Javascript at 0xa28e32c>"
       ]
      },
      {
       "javascript": [
        "$('div#fee165ac-a0b9-40b2-bbe5-0af789b4dead').width('45%')"
       ],
       "output_type": "display_data",
       "text": [
        "<IPython.core.display.Javascript at 0xa28e32c>"
       ]
      },
      {
       "javascript": [
        "$('div#fee165ac-a0b9-40b2-bbe5-0af789b4dead').width('46%')"
       ],
       "output_type": "display_data",
       "text": [
        "<IPython.core.display.Javascript at 0xa28e32c>"
       ]
      },
      {
       "javascript": [
        "$('div#fee165ac-a0b9-40b2-bbe5-0af789b4dead').width('47%')"
       ],
       "output_type": "display_data",
       "text": [
        "<IPython.core.display.Javascript at 0xa28e32c>"
       ]
      },
      {
       "javascript": [
        "$('div#fee165ac-a0b9-40b2-bbe5-0af789b4dead').width('48%')"
       ],
       "output_type": "display_data",
       "text": [
        "<IPython.core.display.Javascript at 0xa28e32c>"
       ]
      },
      {
       "javascript": [
        "$('div#fee165ac-a0b9-40b2-bbe5-0af789b4dead').width('49%')"
       ],
       "output_type": "display_data",
       "text": [
        "<IPython.core.display.Javascript at 0xa28e32c>"
       ]
      },
      {
       "javascript": [
        "$('div#fee165ac-a0b9-40b2-bbe5-0af789b4dead').width('50%')"
       ],
       "output_type": "display_data",
       "text": [
        "<IPython.core.display.Javascript at 0xa28e32c>"
       ]
      },
      {
       "javascript": [
        "$('div#fee165ac-a0b9-40b2-bbe5-0af789b4dead').width('51%')"
       ],
       "output_type": "display_data",
       "text": [
        "<IPython.core.display.Javascript at 0xa28e32c>"
       ]
      },
      {
       "javascript": [
        "$('div#fee165ac-a0b9-40b2-bbe5-0af789b4dead').width('52%')"
       ],
       "output_type": "display_data",
       "text": [
        "<IPython.core.display.Javascript at 0xa28e32c>"
       ]
      },
      {
       "javascript": [
        "$('div#fee165ac-a0b9-40b2-bbe5-0af789b4dead').width('53%')"
       ],
       "output_type": "display_data",
       "text": [
        "<IPython.core.display.Javascript at 0xa28e32c>"
       ]
      },
      {
       "javascript": [
        "$('div#fee165ac-a0b9-40b2-bbe5-0af789b4dead').width('54%')"
       ],
       "output_type": "display_data",
       "text": [
        "<IPython.core.display.Javascript at 0xa28e32c>"
       ]
      },
      {
       "javascript": [
        "$('div#fee165ac-a0b9-40b2-bbe5-0af789b4dead').width('55%')"
       ],
       "output_type": "display_data",
       "text": [
        "<IPython.core.display.Javascript at 0xa28e32c>"
       ]
      },
      {
       "javascript": [
        "$('div#fee165ac-a0b9-40b2-bbe5-0af789b4dead').width('56%')"
       ],
       "output_type": "display_data",
       "text": [
        "<IPython.core.display.Javascript at 0xa28e32c>"
       ]
      },
      {
       "javascript": [
        "$('div#fee165ac-a0b9-40b2-bbe5-0af789b4dead').width('57%')"
       ],
       "output_type": "display_data",
       "text": [
        "<IPython.core.display.Javascript at 0xa28e32c>"
       ]
      },
      {
       "javascript": [
        "$('div#fee165ac-a0b9-40b2-bbe5-0af789b4dead').width('58%')"
       ],
       "output_type": "display_data",
       "text": [
        "<IPython.core.display.Javascript at 0xa28e32c>"
       ]
      },
      {
       "javascript": [
        "$('div#fee165ac-a0b9-40b2-bbe5-0af789b4dead').width('59%')"
       ],
       "output_type": "display_data",
       "text": [
        "<IPython.core.display.Javascript at 0xa28e32c>"
       ]
      },
      {
       "javascript": [
        "$('div#fee165ac-a0b9-40b2-bbe5-0af789b4dead').width('60%')"
       ],
       "output_type": "display_data",
       "text": [
        "<IPython.core.display.Javascript at 0xa28e32c>"
       ]
      },
      {
       "javascript": [
        "$('div#fee165ac-a0b9-40b2-bbe5-0af789b4dead').width('61%')"
       ],
       "output_type": "display_data",
       "text": [
        "<IPython.core.display.Javascript at 0xa28e32c>"
       ]
      },
      {
       "javascript": [
        "$('div#fee165ac-a0b9-40b2-bbe5-0af789b4dead').width('62%')"
       ],
       "output_type": "display_data",
       "text": [
        "<IPython.core.display.Javascript at 0xa28e32c>"
       ]
      },
      {
       "javascript": [
        "$('div#fee165ac-a0b9-40b2-bbe5-0af789b4dead').width('63%')"
       ],
       "output_type": "display_data",
       "text": [
        "<IPython.core.display.Javascript at 0xa28e32c>"
       ]
      },
      {
       "javascript": [
        "$('div#fee165ac-a0b9-40b2-bbe5-0af789b4dead').width('64%')"
       ],
       "output_type": "display_data",
       "text": [
        "<IPython.core.display.Javascript at 0xa28e32c>"
       ]
      },
      {
       "javascript": [
        "$('div#fee165ac-a0b9-40b2-bbe5-0af789b4dead').width('65%')"
       ],
       "output_type": "display_data",
       "text": [
        "<IPython.core.display.Javascript at 0xa28e32c>"
       ]
      },
      {
       "javascript": [
        "$('div#fee165ac-a0b9-40b2-bbe5-0af789b4dead').width('66%')"
       ],
       "output_type": "display_data",
       "text": [
        "<IPython.core.display.Javascript at 0xa28e32c>"
       ]
      },
      {
       "javascript": [
        "$('div#fee165ac-a0b9-40b2-bbe5-0af789b4dead').width('67%')"
       ],
       "output_type": "display_data",
       "text": [
        "<IPython.core.display.Javascript at 0xa28e32c>"
       ]
      },
      {
       "javascript": [
        "$('div#fee165ac-a0b9-40b2-bbe5-0af789b4dead').width('68%')"
       ],
       "output_type": "display_data",
       "text": [
        "<IPython.core.display.Javascript at 0xa28e32c>"
       ]
      },
      {
       "javascript": [
        "$('div#fee165ac-a0b9-40b2-bbe5-0af789b4dead').width('69%')"
       ],
       "output_type": "display_data",
       "text": [
        "<IPython.core.display.Javascript at 0xa28e32c>"
       ]
      },
      {
       "javascript": [
        "$('div#fee165ac-a0b9-40b2-bbe5-0af789b4dead').width('70%')"
       ],
       "output_type": "display_data",
       "text": [
        "<IPython.core.display.Javascript at 0xa28e32c>"
       ]
      },
      {
       "javascript": [
        "$('div#fee165ac-a0b9-40b2-bbe5-0af789b4dead').width('71%')"
       ],
       "output_type": "display_data",
       "text": [
        "<IPython.core.display.Javascript at 0xa28e32c>"
       ]
      },
      {
       "javascript": [
        "$('div#fee165ac-a0b9-40b2-bbe5-0af789b4dead').width('72%')"
       ],
       "output_type": "display_data",
       "text": [
        "<IPython.core.display.Javascript at 0xa28e32c>"
       ]
      },
      {
       "javascript": [
        "$('div#fee165ac-a0b9-40b2-bbe5-0af789b4dead').width('73%')"
       ],
       "output_type": "display_data",
       "text": [
        "<IPython.core.display.Javascript at 0xa28e32c>"
       ]
      },
      {
       "javascript": [
        "$('div#fee165ac-a0b9-40b2-bbe5-0af789b4dead').width('74%')"
       ],
       "output_type": "display_data",
       "text": [
        "<IPython.core.display.Javascript at 0xa28e32c>"
       ]
      },
      {
       "javascript": [
        "$('div#fee165ac-a0b9-40b2-bbe5-0af789b4dead').width('75%')"
       ],
       "output_type": "display_data",
       "text": [
        "<IPython.core.display.Javascript at 0xa28e32c>"
       ]
      },
      {
       "javascript": [
        "$('div#fee165ac-a0b9-40b2-bbe5-0af789b4dead').width('76%')"
       ],
       "output_type": "display_data",
       "text": [
        "<IPython.core.display.Javascript at 0xa28e32c>"
       ]
      },
      {
       "javascript": [
        "$('div#fee165ac-a0b9-40b2-bbe5-0af789b4dead').width('77%')"
       ],
       "output_type": "display_data",
       "text": [
        "<IPython.core.display.Javascript at 0xa28e32c>"
       ]
      },
      {
       "javascript": [
        "$('div#fee165ac-a0b9-40b2-bbe5-0af789b4dead').width('78%')"
       ],
       "output_type": "display_data",
       "text": [
        "<IPython.core.display.Javascript at 0xa28e32c>"
       ]
      },
      {
       "javascript": [
        "$('div#fee165ac-a0b9-40b2-bbe5-0af789b4dead').width('79%')"
       ],
       "output_type": "display_data",
       "text": [
        "<IPython.core.display.Javascript at 0xa28e32c>"
       ]
      },
      {
       "javascript": [
        "$('div#fee165ac-a0b9-40b2-bbe5-0af789b4dead').width('80%')"
       ],
       "output_type": "display_data",
       "text": [
        "<IPython.core.display.Javascript at 0xa28e32c>"
       ]
      },
      {
       "javascript": [
        "$('div#fee165ac-a0b9-40b2-bbe5-0af789b4dead').width('81%')"
       ],
       "output_type": "display_data",
       "text": [
        "<IPython.core.display.Javascript at 0xa28e32c>"
       ]
      },
      {
       "javascript": [
        "$('div#fee165ac-a0b9-40b2-bbe5-0af789b4dead').width('82%')"
       ],
       "output_type": "display_data",
       "text": [
        "<IPython.core.display.Javascript at 0xa28e32c>"
       ]
      },
      {
       "javascript": [
        "$('div#fee165ac-a0b9-40b2-bbe5-0af789b4dead').width('83%')"
       ],
       "output_type": "display_data",
       "text": [
        "<IPython.core.display.Javascript at 0xa28e32c>"
       ]
      },
      {
       "javascript": [
        "$('div#fee165ac-a0b9-40b2-bbe5-0af789b4dead').width('84%')"
       ],
       "output_type": "display_data",
       "text": [
        "<IPython.core.display.Javascript at 0xa28e32c>"
       ]
      },
      {
       "javascript": [
        "$('div#fee165ac-a0b9-40b2-bbe5-0af789b4dead').width('85%')"
       ],
       "output_type": "display_data",
       "text": [
        "<IPython.core.display.Javascript at 0xa28e32c>"
       ]
      },
      {
       "javascript": [
        "$('div#fee165ac-a0b9-40b2-bbe5-0af789b4dead').width('86%')"
       ],
       "output_type": "display_data",
       "text": [
        "<IPython.core.display.Javascript at 0xa28e32c>"
       ]
      },
      {
       "javascript": [
        "$('div#fee165ac-a0b9-40b2-bbe5-0af789b4dead').width('87%')"
       ],
       "output_type": "display_data",
       "text": [
        "<IPython.core.display.Javascript at 0xa28e32c>"
       ]
      },
      {
       "javascript": [
        "$('div#fee165ac-a0b9-40b2-bbe5-0af789b4dead').width('88%')"
       ],
       "output_type": "display_data",
       "text": [
        "<IPython.core.display.Javascript at 0xa28e32c>"
       ]
      },
      {
       "javascript": [
        "$('div#fee165ac-a0b9-40b2-bbe5-0af789b4dead').width('89%')"
       ],
       "output_type": "display_data",
       "text": [
        "<IPython.core.display.Javascript at 0xa28e32c>"
       ]
      },
      {
       "javascript": [
        "$('div#fee165ac-a0b9-40b2-bbe5-0af789b4dead').width('90%')"
       ],
       "output_type": "display_data",
       "text": [
        "<IPython.core.display.Javascript at 0xa28e32c>"
       ]
      },
      {
       "javascript": [
        "$('div#fee165ac-a0b9-40b2-bbe5-0af789b4dead').width('91%')"
       ],
       "output_type": "display_data",
       "text": [
        "<IPython.core.display.Javascript at 0xa28e32c>"
       ]
      },
      {
       "javascript": [
        "$('div#fee165ac-a0b9-40b2-bbe5-0af789b4dead').width('92%')"
       ],
       "output_type": "display_data",
       "text": [
        "<IPython.core.display.Javascript at 0xa28e32c>"
       ]
      },
      {
       "javascript": [
        "$('div#fee165ac-a0b9-40b2-bbe5-0af789b4dead').width('93%')"
       ],
       "output_type": "display_data",
       "text": [
        "<IPython.core.display.Javascript at 0xa28e32c>"
       ]
      },
      {
       "javascript": [
        "$('div#fee165ac-a0b9-40b2-bbe5-0af789b4dead').width('94%')"
       ],
       "output_type": "display_data",
       "text": [
        "<IPython.core.display.Javascript at 0xa28e32c>"
       ]
      },
      {
       "javascript": [
        "$('div#fee165ac-a0b9-40b2-bbe5-0af789b4dead').width('95%')"
       ],
       "output_type": "display_data",
       "text": [
        "<IPython.core.display.Javascript at 0xa28e32c>"
       ]
      },
      {
       "javascript": [
        "$('div#fee165ac-a0b9-40b2-bbe5-0af789b4dead').width('96%')"
       ],
       "output_type": "display_data",
       "text": [
        "<IPython.core.display.Javascript at 0xa28e32c>"
       ]
      },
      {
       "javascript": [
        "$('div#fee165ac-a0b9-40b2-bbe5-0af789b4dead').width('97%')"
       ],
       "output_type": "display_data",
       "text": [
        "<IPython.core.display.Javascript at 0xa28e32c>"
       ]
      },
      {
       "javascript": [
        "$('div#fee165ac-a0b9-40b2-bbe5-0af789b4dead').width('98%')"
       ],
       "output_type": "display_data",
       "text": [
        "<IPython.core.display.Javascript at 0xa28e32c>"
       ]
      },
      {
       "javascript": [
        "$('div#fee165ac-a0b9-40b2-bbe5-0af789b4dead').width('99%')"
       ],
       "output_type": "display_data",
       "text": [
        "<IPython.core.display.Javascript at 0xa28e32c>"
       ]
      },
      {
       "javascript": [
        "$('div#fee165ac-a0b9-40b2-bbe5-0af789b4dead').width('100%')"
       ],
       "output_type": "display_data",
       "text": [
        "<IPython.core.display.Javascript at 0xa28e32c>"
       ]
      },
      {
       "html": [
        "\n",
        "<div style=\"border: 1px solid black; width:500px\">\n",
        "  <div id=\"64da24e9-a1a8-4cdb-bb15-87d193a65998\" style=\"background-color:blue; width:0%\">&nbsp;</div>\n",
        "</div> \n"
       ],
       "output_type": "display_data",
       "text": [
        "<IPython.core.display.HTML at 0xa28efcc>"
       ]
      },
      {
       "javascript": [
        "$('div#64da24e9-a1a8-4cdb-bb15-87d193a65998').width('1%')"
       ],
       "output_type": "display_data",
       "text": [
        "<IPython.core.display.Javascript at 0xa28efac>"
       ]
      },
      {
       "javascript": [
        "$('div#64da24e9-a1a8-4cdb-bb15-87d193a65998').width('2%')"
       ],
       "output_type": "display_data",
       "text": [
        "<IPython.core.display.Javascript at 0xa28efac>"
       ]
      },
      {
       "javascript": [
        "$('div#64da24e9-a1a8-4cdb-bb15-87d193a65998').width('3%')"
       ],
       "output_type": "display_data",
       "text": [
        "<IPython.core.display.Javascript at 0xa28efac>"
       ]
      },
      {
       "javascript": [
        "$('div#64da24e9-a1a8-4cdb-bb15-87d193a65998').width('4%')"
       ],
       "output_type": "display_data",
       "text": [
        "<IPython.core.display.Javascript at 0xa28efac>"
       ]
      },
      {
       "javascript": [
        "$('div#64da24e9-a1a8-4cdb-bb15-87d193a65998').width('5%')"
       ],
       "output_type": "display_data",
       "text": [
        "<IPython.core.display.Javascript at 0xa28efac>"
       ]
      },
      {
       "javascript": [
        "$('div#64da24e9-a1a8-4cdb-bb15-87d193a65998').width('6%')"
       ],
       "output_type": "display_data",
       "text": [
        "<IPython.core.display.Javascript at 0xa28efac>"
       ]
      },
      {
       "javascript": [
        "$('div#64da24e9-a1a8-4cdb-bb15-87d193a65998').width('7%')"
       ],
       "output_type": "display_data",
       "text": [
        "<IPython.core.display.Javascript at 0xa28efac>"
       ]
      },
      {
       "javascript": [
        "$('div#64da24e9-a1a8-4cdb-bb15-87d193a65998').width('8%')"
       ],
       "output_type": "display_data",
       "text": [
        "<IPython.core.display.Javascript at 0xa28efac>"
       ]
      },
      {
       "javascript": [
        "$('div#64da24e9-a1a8-4cdb-bb15-87d193a65998').width('9%')"
       ],
       "output_type": "display_data",
       "text": [
        "<IPython.core.display.Javascript at 0xa28efac>"
       ]
      },
      {
       "javascript": [
        "$('div#64da24e9-a1a8-4cdb-bb15-87d193a65998').width('10%')"
       ],
       "output_type": "display_data",
       "text": [
        "<IPython.core.display.Javascript at 0xa28efac>"
       ]
      },
      {
       "javascript": [
        "$('div#64da24e9-a1a8-4cdb-bb15-87d193a65998').width('11%')"
       ],
       "output_type": "display_data",
       "text": [
        "<IPython.core.display.Javascript at 0xa28efac>"
       ]
      },
      {
       "javascript": [
        "$('div#64da24e9-a1a8-4cdb-bb15-87d193a65998').width('12%')"
       ],
       "output_type": "display_data",
       "text": [
        "<IPython.core.display.Javascript at 0xa28efac>"
       ]
      },
      {
       "javascript": [
        "$('div#64da24e9-a1a8-4cdb-bb15-87d193a65998').width('13%')"
       ],
       "output_type": "display_data",
       "text": [
        "<IPython.core.display.Javascript at 0xa28efac>"
       ]
      },
      {
       "javascript": [
        "$('div#64da24e9-a1a8-4cdb-bb15-87d193a65998').width('14%')"
       ],
       "output_type": "display_data",
       "text": [
        "<IPython.core.display.Javascript at 0xa28efac>"
       ]
      },
      {
       "javascript": [
        "$('div#64da24e9-a1a8-4cdb-bb15-87d193a65998').width('15%')"
       ],
       "output_type": "display_data",
       "text": [
        "<IPython.core.display.Javascript at 0xa28efac>"
       ]
      },
      {
       "javascript": [
        "$('div#64da24e9-a1a8-4cdb-bb15-87d193a65998').width('16%')"
       ],
       "output_type": "display_data",
       "text": [
        "<IPython.core.display.Javascript at 0xa28efac>"
       ]
      },
      {
       "javascript": [
        "$('div#64da24e9-a1a8-4cdb-bb15-87d193a65998').width('17%')"
       ],
       "output_type": "display_data",
       "text": [
        "<IPython.core.display.Javascript at 0xa28efac>"
       ]
      },
      {
       "javascript": [
        "$('div#64da24e9-a1a8-4cdb-bb15-87d193a65998').width('18%')"
       ],
       "output_type": "display_data",
       "text": [
        "<IPython.core.display.Javascript at 0xa28efac>"
       ]
      },
      {
       "javascript": [
        "$('div#64da24e9-a1a8-4cdb-bb15-87d193a65998').width('19%')"
       ],
       "output_type": "display_data",
       "text": [
        "<IPython.core.display.Javascript at 0xa28efac>"
       ]
      },
      {
       "javascript": [
        "$('div#64da24e9-a1a8-4cdb-bb15-87d193a65998').width('20%')"
       ],
       "output_type": "display_data",
       "text": [
        "<IPython.core.display.Javascript at 0xa28efac>"
       ]
      },
      {
       "javascript": [
        "$('div#64da24e9-a1a8-4cdb-bb15-87d193a65998').width('21%')"
       ],
       "output_type": "display_data",
       "text": [
        "<IPython.core.display.Javascript at 0xa28efac>"
       ]
      },
      {
       "javascript": [
        "$('div#64da24e9-a1a8-4cdb-bb15-87d193a65998').width('22%')"
       ],
       "output_type": "display_data",
       "text": [
        "<IPython.core.display.Javascript at 0xa28efac>"
       ]
      },
      {
       "javascript": [
        "$('div#64da24e9-a1a8-4cdb-bb15-87d193a65998').width('23%')"
       ],
       "output_type": "display_data",
       "text": [
        "<IPython.core.display.Javascript at 0xa28efac>"
       ]
      },
      {
       "javascript": [
        "$('div#64da24e9-a1a8-4cdb-bb15-87d193a65998').width('24%')"
       ],
       "output_type": "display_data",
       "text": [
        "<IPython.core.display.Javascript at 0xa28efac>"
       ]
      },
      {
       "javascript": [
        "$('div#64da24e9-a1a8-4cdb-bb15-87d193a65998').width('25%')"
       ],
       "output_type": "display_data",
       "text": [
        "<IPython.core.display.Javascript at 0xa28efac>"
       ]
      },
      {
       "javascript": [
        "$('div#64da24e9-a1a8-4cdb-bb15-87d193a65998').width('26%')"
       ],
       "output_type": "display_data",
       "text": [
        "<IPython.core.display.Javascript at 0xa28efac>"
       ]
      },
      {
       "javascript": [
        "$('div#64da24e9-a1a8-4cdb-bb15-87d193a65998').width('27%')"
       ],
       "output_type": "display_data",
       "text": [
        "<IPython.core.display.Javascript at 0xa28efac>"
       ]
      },
      {
       "javascript": [
        "$('div#64da24e9-a1a8-4cdb-bb15-87d193a65998').width('28%')"
       ],
       "output_type": "display_data",
       "text": [
        "<IPython.core.display.Javascript at 0xa28efac>"
       ]
      },
      {
       "javascript": [
        "$('div#64da24e9-a1a8-4cdb-bb15-87d193a65998').width('29%')"
       ],
       "output_type": "display_data",
       "text": [
        "<IPython.core.display.Javascript at 0xa28efac>"
       ]
      },
      {
       "javascript": [
        "$('div#64da24e9-a1a8-4cdb-bb15-87d193a65998').width('30%')"
       ],
       "output_type": "display_data",
       "text": [
        "<IPython.core.display.Javascript at 0xa28efac>"
       ]
      },
      {
       "javascript": [
        "$('div#64da24e9-a1a8-4cdb-bb15-87d193a65998').width('31%')"
       ],
       "output_type": "display_data",
       "text": [
        "<IPython.core.display.Javascript at 0xa28efac>"
       ]
      },
      {
       "javascript": [
        "$('div#64da24e9-a1a8-4cdb-bb15-87d193a65998').width('32%')"
       ],
       "output_type": "display_data",
       "text": [
        "<IPython.core.display.Javascript at 0xa28efac>"
       ]
      },
      {
       "javascript": [
        "$('div#64da24e9-a1a8-4cdb-bb15-87d193a65998').width('33%')"
       ],
       "output_type": "display_data",
       "text": [
        "<IPython.core.display.Javascript at 0xa28efac>"
       ]
      },
      {
       "javascript": [
        "$('div#64da24e9-a1a8-4cdb-bb15-87d193a65998').width('34%')"
       ],
       "output_type": "display_data",
       "text": [
        "<IPython.core.display.Javascript at 0xa28efac>"
       ]
      },
      {
       "javascript": [
        "$('div#64da24e9-a1a8-4cdb-bb15-87d193a65998').width('35%')"
       ],
       "output_type": "display_data",
       "text": [
        "<IPython.core.display.Javascript at 0xa28efac>"
       ]
      },
      {
       "javascript": [
        "$('div#64da24e9-a1a8-4cdb-bb15-87d193a65998').width('36%')"
       ],
       "output_type": "display_data",
       "text": [
        "<IPython.core.display.Javascript at 0xa28efac>"
       ]
      },
      {
       "javascript": [
        "$('div#64da24e9-a1a8-4cdb-bb15-87d193a65998').width('37%')"
       ],
       "output_type": "display_data",
       "text": [
        "<IPython.core.display.Javascript at 0xa28efac>"
       ]
      },
      {
       "javascript": [
        "$('div#64da24e9-a1a8-4cdb-bb15-87d193a65998').width('38%')"
       ],
       "output_type": "display_data",
       "text": [
        "<IPython.core.display.Javascript at 0xa28efac>"
       ]
      },
      {
       "javascript": [
        "$('div#64da24e9-a1a8-4cdb-bb15-87d193a65998').width('39%')"
       ],
       "output_type": "display_data",
       "text": [
        "<IPython.core.display.Javascript at 0xa28efac>"
       ]
      },
      {
       "javascript": [
        "$('div#64da24e9-a1a8-4cdb-bb15-87d193a65998').width('40%')"
       ],
       "output_type": "display_data",
       "text": [
        "<IPython.core.display.Javascript at 0xa28efac>"
       ]
      },
      {
       "javascript": [
        "$('div#64da24e9-a1a8-4cdb-bb15-87d193a65998').width('41%')"
       ],
       "output_type": "display_data",
       "text": [
        "<IPython.core.display.Javascript at 0xa28efac>"
       ]
      },
      {
       "javascript": [
        "$('div#64da24e9-a1a8-4cdb-bb15-87d193a65998').width('42%')"
       ],
       "output_type": "display_data",
       "text": [
        "<IPython.core.display.Javascript at 0xa28efac>"
       ]
      },
      {
       "javascript": [
        "$('div#64da24e9-a1a8-4cdb-bb15-87d193a65998').width('43%')"
       ],
       "output_type": "display_data",
       "text": [
        "<IPython.core.display.Javascript at 0xa28efac>"
       ]
      },
      {
       "javascript": [
        "$('div#64da24e9-a1a8-4cdb-bb15-87d193a65998').width('44%')"
       ],
       "output_type": "display_data",
       "text": [
        "<IPython.core.display.Javascript at 0xa28efac>"
       ]
      },
      {
       "javascript": [
        "$('div#64da24e9-a1a8-4cdb-bb15-87d193a65998').width('45%')"
       ],
       "output_type": "display_data",
       "text": [
        "<IPython.core.display.Javascript at 0xa28efac>"
       ]
      },
      {
       "javascript": [
        "$('div#64da24e9-a1a8-4cdb-bb15-87d193a65998').width('46%')"
       ],
       "output_type": "display_data",
       "text": [
        "<IPython.core.display.Javascript at 0xa28efac>"
       ]
      },
      {
       "javascript": [
        "$('div#64da24e9-a1a8-4cdb-bb15-87d193a65998').width('47%')"
       ],
       "output_type": "display_data",
       "text": [
        "<IPython.core.display.Javascript at 0xa28efac>"
       ]
      },
      {
       "javascript": [
        "$('div#64da24e9-a1a8-4cdb-bb15-87d193a65998').width('48%')"
       ],
       "output_type": "display_data",
       "text": [
        "<IPython.core.display.Javascript at 0xa28efac>"
       ]
      },
      {
       "javascript": [
        "$('div#64da24e9-a1a8-4cdb-bb15-87d193a65998').width('49%')"
       ],
       "output_type": "display_data",
       "text": [
        "<IPython.core.display.Javascript at 0xa28efac>"
       ]
      },
      {
       "javascript": [
        "$('div#64da24e9-a1a8-4cdb-bb15-87d193a65998').width('50%')"
       ],
       "output_type": "display_data",
       "text": [
        "<IPython.core.display.Javascript at 0xa28efac>"
       ]
      },
      {
       "javascript": [
        "$('div#64da24e9-a1a8-4cdb-bb15-87d193a65998').width('51%')"
       ],
       "output_type": "display_data",
       "text": [
        "<IPython.core.display.Javascript at 0xa28efac>"
       ]
      },
      {
       "javascript": [
        "$('div#64da24e9-a1a8-4cdb-bb15-87d193a65998').width('52%')"
       ],
       "output_type": "display_data",
       "text": [
        "<IPython.core.display.Javascript at 0xa28efac>"
       ]
      },
      {
       "javascript": [
        "$('div#64da24e9-a1a8-4cdb-bb15-87d193a65998').width('53%')"
       ],
       "output_type": "display_data",
       "text": [
        "<IPython.core.display.Javascript at 0xa28efac>"
       ]
      },
      {
       "javascript": [
        "$('div#64da24e9-a1a8-4cdb-bb15-87d193a65998').width('54%')"
       ],
       "output_type": "display_data",
       "text": [
        "<IPython.core.display.Javascript at 0xa28efac>"
       ]
      },
      {
       "javascript": [
        "$('div#64da24e9-a1a8-4cdb-bb15-87d193a65998').width('55%')"
       ],
       "output_type": "display_data",
       "text": [
        "<IPython.core.display.Javascript at 0xa28efac>"
       ]
      },
      {
       "javascript": [
        "$('div#64da24e9-a1a8-4cdb-bb15-87d193a65998').width('56%')"
       ],
       "output_type": "display_data",
       "text": [
        "<IPython.core.display.Javascript at 0xa28efac>"
       ]
      },
      {
       "javascript": [
        "$('div#64da24e9-a1a8-4cdb-bb15-87d193a65998').width('57%')"
       ],
       "output_type": "display_data",
       "text": [
        "<IPython.core.display.Javascript at 0xa28efac>"
       ]
      },
      {
       "javascript": [
        "$('div#64da24e9-a1a8-4cdb-bb15-87d193a65998').width('58%')"
       ],
       "output_type": "display_data",
       "text": [
        "<IPython.core.display.Javascript at 0xa28efac>"
       ]
      },
      {
       "javascript": [
        "$('div#64da24e9-a1a8-4cdb-bb15-87d193a65998').width('59%')"
       ],
       "output_type": "display_data",
       "text": [
        "<IPython.core.display.Javascript at 0xa28efac>"
       ]
      },
      {
       "javascript": [
        "$('div#64da24e9-a1a8-4cdb-bb15-87d193a65998').width('60%')"
       ],
       "output_type": "display_data",
       "text": [
        "<IPython.core.display.Javascript at 0xa28efac>"
       ]
      },
      {
       "javascript": [
        "$('div#64da24e9-a1a8-4cdb-bb15-87d193a65998').width('61%')"
       ],
       "output_type": "display_data",
       "text": [
        "<IPython.core.display.Javascript at 0xa28efac>"
       ]
      },
      {
       "javascript": [
        "$('div#64da24e9-a1a8-4cdb-bb15-87d193a65998').width('62%')"
       ],
       "output_type": "display_data",
       "text": [
        "<IPython.core.display.Javascript at 0xa28efac>"
       ]
      },
      {
       "javascript": [
        "$('div#64da24e9-a1a8-4cdb-bb15-87d193a65998').width('63%')"
       ],
       "output_type": "display_data",
       "text": [
        "<IPython.core.display.Javascript at 0xa28efac>"
       ]
      },
      {
       "javascript": [
        "$('div#64da24e9-a1a8-4cdb-bb15-87d193a65998').width('64%')"
       ],
       "output_type": "display_data",
       "text": [
        "<IPython.core.display.Javascript at 0xa28efac>"
       ]
      },
      {
       "javascript": [
        "$('div#64da24e9-a1a8-4cdb-bb15-87d193a65998').width('65%')"
       ],
       "output_type": "display_data",
       "text": [
        "<IPython.core.display.Javascript at 0xa28efac>"
       ]
      },
      {
       "javascript": [
        "$('div#64da24e9-a1a8-4cdb-bb15-87d193a65998').width('66%')"
       ],
       "output_type": "display_data",
       "text": [
        "<IPython.core.display.Javascript at 0xa28efac>"
       ]
      },
      {
       "javascript": [
        "$('div#64da24e9-a1a8-4cdb-bb15-87d193a65998').width('67%')"
       ],
       "output_type": "display_data",
       "text": [
        "<IPython.core.display.Javascript at 0xa28efac>"
       ]
      },
      {
       "javascript": [
        "$('div#64da24e9-a1a8-4cdb-bb15-87d193a65998').width('68%')"
       ],
       "output_type": "display_data",
       "text": [
        "<IPython.core.display.Javascript at 0xa28efac>"
       ]
      },
      {
       "javascript": [
        "$('div#64da24e9-a1a8-4cdb-bb15-87d193a65998').width('69%')"
       ],
       "output_type": "display_data",
       "text": [
        "<IPython.core.display.Javascript at 0xa28efac>"
       ]
      },
      {
       "javascript": [
        "$('div#64da24e9-a1a8-4cdb-bb15-87d193a65998').width('70%')"
       ],
       "output_type": "display_data",
       "text": [
        "<IPython.core.display.Javascript at 0xa28efac>"
       ]
      },
      {
       "javascript": [
        "$('div#64da24e9-a1a8-4cdb-bb15-87d193a65998').width('71%')"
       ],
       "output_type": "display_data",
       "text": [
        "<IPython.core.display.Javascript at 0xa28efac>"
       ]
      },
      {
       "javascript": [
        "$('div#64da24e9-a1a8-4cdb-bb15-87d193a65998').width('72%')"
       ],
       "output_type": "display_data",
       "text": [
        "<IPython.core.display.Javascript at 0xa28efac>"
       ]
      },
      {
       "javascript": [
        "$('div#64da24e9-a1a8-4cdb-bb15-87d193a65998').width('73%')"
       ],
       "output_type": "display_data",
       "text": [
        "<IPython.core.display.Javascript at 0xa28efac>"
       ]
      },
      {
       "javascript": [
        "$('div#64da24e9-a1a8-4cdb-bb15-87d193a65998').width('74%')"
       ],
       "output_type": "display_data",
       "text": [
        "<IPython.core.display.Javascript at 0xa28efac>"
       ]
      },
      {
       "javascript": [
        "$('div#64da24e9-a1a8-4cdb-bb15-87d193a65998').width('75%')"
       ],
       "output_type": "display_data",
       "text": [
        "<IPython.core.display.Javascript at 0xa28efac>"
       ]
      },
      {
       "javascript": [
        "$('div#64da24e9-a1a8-4cdb-bb15-87d193a65998').width('76%')"
       ],
       "output_type": "display_data",
       "text": [
        "<IPython.core.display.Javascript at 0xa28efac>"
       ]
      },
      {
       "javascript": [
        "$('div#64da24e9-a1a8-4cdb-bb15-87d193a65998').width('77%')"
       ],
       "output_type": "display_data",
       "text": [
        "<IPython.core.display.Javascript at 0xa28efac>"
       ]
      },
      {
       "javascript": [
        "$('div#64da24e9-a1a8-4cdb-bb15-87d193a65998').width('78%')"
       ],
       "output_type": "display_data",
       "text": [
        "<IPython.core.display.Javascript at 0xa28efac>"
       ]
      },
      {
       "javascript": [
        "$('div#64da24e9-a1a8-4cdb-bb15-87d193a65998').width('79%')"
       ],
       "output_type": "display_data",
       "text": [
        "<IPython.core.display.Javascript at 0xa28efac>"
       ]
      },
      {
       "javascript": [
        "$('div#64da24e9-a1a8-4cdb-bb15-87d193a65998').width('80%')"
       ],
       "output_type": "display_data",
       "text": [
        "<IPython.core.display.Javascript at 0xa28efac>"
       ]
      },
      {
       "javascript": [
        "$('div#64da24e9-a1a8-4cdb-bb15-87d193a65998').width('81%')"
       ],
       "output_type": "display_data",
       "text": [
        "<IPython.core.display.Javascript at 0xa28efac>"
       ]
      },
      {
       "javascript": [
        "$('div#64da24e9-a1a8-4cdb-bb15-87d193a65998').width('82%')"
       ],
       "output_type": "display_data",
       "text": [
        "<IPython.core.display.Javascript at 0xa28efac>"
       ]
      },
      {
       "javascript": [
        "$('div#64da24e9-a1a8-4cdb-bb15-87d193a65998').width('83%')"
       ],
       "output_type": "display_data",
       "text": [
        "<IPython.core.display.Javascript at 0xa28efac>"
       ]
      },
      {
       "javascript": [
        "$('div#64da24e9-a1a8-4cdb-bb15-87d193a65998').width('84%')"
       ],
       "output_type": "display_data",
       "text": [
        "<IPython.core.display.Javascript at 0xa28efac>"
       ]
      },
      {
       "javascript": [
        "$('div#64da24e9-a1a8-4cdb-bb15-87d193a65998').width('85%')"
       ],
       "output_type": "display_data",
       "text": [
        "<IPython.core.display.Javascript at 0xa28efac>"
       ]
      },
      {
       "javascript": [
        "$('div#64da24e9-a1a8-4cdb-bb15-87d193a65998').width('86%')"
       ],
       "output_type": "display_data",
       "text": [
        "<IPython.core.display.Javascript at 0xa28efac>"
       ]
      },
      {
       "javascript": [
        "$('div#64da24e9-a1a8-4cdb-bb15-87d193a65998').width('87%')"
       ],
       "output_type": "display_data",
       "text": [
        "<IPython.core.display.Javascript at 0xa28efac>"
       ]
      },
      {
       "javascript": [
        "$('div#64da24e9-a1a8-4cdb-bb15-87d193a65998').width('88%')"
       ],
       "output_type": "display_data",
       "text": [
        "<IPython.core.display.Javascript at 0xa28efac>"
       ]
      },
      {
       "javascript": [
        "$('div#64da24e9-a1a8-4cdb-bb15-87d193a65998').width('89%')"
       ],
       "output_type": "display_data",
       "text": [
        "<IPython.core.display.Javascript at 0xa28efac>"
       ]
      },
      {
       "javascript": [
        "$('div#64da24e9-a1a8-4cdb-bb15-87d193a65998').width('90%')"
       ],
       "output_type": "display_data",
       "text": [
        "<IPython.core.display.Javascript at 0xa28efac>"
       ]
      },
      {
       "javascript": [
        "$('div#64da24e9-a1a8-4cdb-bb15-87d193a65998').width('91%')"
       ],
       "output_type": "display_data",
       "text": [
        "<IPython.core.display.Javascript at 0xa28efac>"
       ]
      },
      {
       "javascript": [
        "$('div#64da24e9-a1a8-4cdb-bb15-87d193a65998').width('92%')"
       ],
       "output_type": "display_data",
       "text": [
        "<IPython.core.display.Javascript at 0xa28efac>"
       ]
      },
      {
       "javascript": [
        "$('div#64da24e9-a1a8-4cdb-bb15-87d193a65998').width('93%')"
       ],
       "output_type": "display_data",
       "text": [
        "<IPython.core.display.Javascript at 0xa28efac>"
       ]
      },
      {
       "javascript": [
        "$('div#64da24e9-a1a8-4cdb-bb15-87d193a65998').width('94%')"
       ],
       "output_type": "display_data",
       "text": [
        "<IPython.core.display.Javascript at 0xa28efac>"
       ]
      },
      {
       "javascript": [
        "$('div#64da24e9-a1a8-4cdb-bb15-87d193a65998').width('95%')"
       ],
       "output_type": "display_data",
       "text": [
        "<IPython.core.display.Javascript at 0xa28efac>"
       ]
      },
      {
       "javascript": [
        "$('div#64da24e9-a1a8-4cdb-bb15-87d193a65998').width('96%')"
       ],
       "output_type": "display_data",
       "text": [
        "<IPython.core.display.Javascript at 0xa28efac>"
       ]
      },
      {
       "javascript": [
        "$('div#64da24e9-a1a8-4cdb-bb15-87d193a65998').width('97%')"
       ],
       "output_type": "display_data",
       "text": [
        "<IPython.core.display.Javascript at 0xa28efac>"
       ]
      },
      {
       "javascript": [
        "$('div#64da24e9-a1a8-4cdb-bb15-87d193a65998').width('98%')"
       ],
       "output_type": "display_data",
       "text": [
        "<IPython.core.display.Javascript at 0xa28efac>"
       ]
      },
      {
       "javascript": [
        "$('div#64da24e9-a1a8-4cdb-bb15-87d193a65998').width('99%')"
       ],
       "output_type": "display_data",
       "text": [
        "<IPython.core.display.Javascript at 0xa28efac>"
       ]
      },
      {
       "javascript": [
        "$('div#64da24e9-a1a8-4cdb-bb15-87d193a65998').width('100%')"
       ],
       "output_type": "display_data",
       "text": [
        "<IPython.core.display.Javascript at 0xa28efac>"
       ]
      }
     ],
     "prompt_number": 1
    },
    {
     "cell_type": "markdown",
     "metadata": {},
     "source": [
      "This scenario has the following features:\n",
      "\n",
      "* single population\n",
      "* a neutral trait T0 and a preference allele P0 (non-discriminating) are fixed\n",
      "* a new, adaptive trait T1 is introduced\n",
      "* a preference for this trait is introduced: P1 (T1); this may happend after the introduction of T1 or simultaneosuly with it\n",
      "\n",
      "<img src=\"files/images/setup_01.png\">"
     ]
    },
    {
     "cell_type": "markdown",
     "metadata": {},
     "source": [
      "## Configuration\n",
      "\n",
      "To configure the simulation scenario, we need to specify gene loci, alleles, and parameters.\n",
      "\n",
      "### Loci and alleles\n",
      "\n",
      "Populations are treated as loci, as would be the cytotype. In numpy terms, each locus is represented by an array axis.\n",
      "\n",
      "We keep separate lists rather than a dictionary because we need to preserve the locus and allele orders."
     ]
    },
    {
     "cell_type": "code",
     "collapsed": false,
     "input": [
      "LOCI = ['population', 'trait', 'preference']\n",
      "ALLELES = [['pop1', 'pop2'], \\\n",
      "           ['T1', 'T2'], \\\n",
      "           ['P1', 'P2']\n",
      "          ]\n",
      "print utils.loci2string(LOCI, ALLELES)"
     ],
     "language": "python",
     "metadata": {},
     "outputs": [
      {
       "output_type": "stream",
       "stream": "stdout",
       "text": [
        "locus           alleles   \n",
        "--------------------------\n",
        "population      pop1, pop2\n",
        "trait           T1, T2    \n",
        "preference      P1, P2\n"
       ]
      }
     ],
     "prompt_number": 34
    },
    {
     "cell_type": "heading",
     "level": 3,
     "metadata": {},
     "source": [
      "Parameters"
     ]
    },
    {
     "cell_type": "code",
     "collapsed": false,
     "input": [
      "PARAMETERS = {\n",
      "    's': (1., 'selection coefficient'),           # selection advantage for adaptive trait\n",
      "    'pt': (0.95, 'transition probability'),       # probability of transition into another mating round\n",
      "    'intro': (0.05, 'introduction frequency'),    # introduction frequency of preference mutant allele\n",
      "    'eq': (5e-3, 'equilibrium threshold')                     # equilibrium threshold\n",
      "}\n",
      "# For mating preference parameters, we use a different notation:\n",
      "trait_preferences = {                        # female mating preferences (rejection probabilities)\n",
      "    'P1': {'baseline': 0.5, 'T1': 0.}, \\\n",
      "    'P2': {'baseline': 0.5, 'T2': 0.}\n",
      "}\n",
      "PARAMETERS = utils.add_preferences(PARAMETERS, trait_preferences)\n",
      "print utils.params2string(PARAMETERS)"
     ],
     "language": "python",
     "metadata": {},
     "outputs": [
      {
       "output_type": "stream",
       "stream": "stdout",
       "text": [
        "parameter         value      description           \n",
        "---------------------------------------------------\n",
        "eq                0.005      equilibrium threshold \n",
        "intro             0.05       introduction frequency\n",
        "pr_p1_baseline    0.5        rejection probability \n",
        "pr_p1_t1          0.0        rejection probability \n",
        "pr_p2_baseline    0.5        rejection probability \n",
        "pr_p2_t2          0.0        rejection probability \n",
        "pt                0.95       transition probability\n",
        "s                 1.0        selection coefficient\n"
       ]
      }
     ],
     "prompt_number": 35
    },
    {
     "cell_type": "markdown",
     "metadata": {},
     "source": [
      "Update local variables so we can directly use loci, alleles, and parameters:"
     ]
    },
    {
     "cell_type": "code",
     "collapsed": false,
     "input": [
      "config = utils.configure_locals(LOCI, ALLELES, PARAMETERS)\n",
      "locals().update(config)\n",
      "# pprint.pprint( sorted(config.items()) )"
     ],
     "language": "python",
     "metadata": {},
     "outputs": [],
     "prompt_number": 36
    },
    {
     "cell_type": "heading",
     "level": 2,
     "metadata": {},
     "source": [
      "Weights"
     ]
    },
    {
     "cell_type": "markdown",
     "metadata": {},
     "source": [
      "All weights for the different stages of the simulation are stored in a dictionary."
     ]
    },
    {
     "cell_type": "code",
     "collapsed": false,
     "input": [
      "weights = {\n",
      "    'migration': None, \\\n",
      "    'viability_selection': None, \\\n",
      "    'constant_reproduction': None, \\\n",
      "    'dynamic_reproduction': []\n",
      "}"
     ],
     "language": "python",
     "metadata": {},
     "outputs": [],
     "prompt_number": 37
    },
    {
     "cell_type": "markdown",
     "metadata": {},
     "source": [
      "We now define all the weights we use in the simulation.\n",
      "These are in principal `ndarrays` that can be automatically extended to the appropriate dimensions by insertion of `np.newaxis` at the required positions.\n",
      "The extended weights are denoted by a trailing underscore.\n",
      "For printing, `panda.Series` are used."
     ]
    },
    {
     "cell_type": "heading",
     "level": 3,
     "metadata": {},
     "source": [
      "Viability selection"
     ]
    },
    {
     "cell_type": "code",
     "collapsed": false,
     "input": [
      "vsarr = np.array(\n",
      "    [[   1,  1+s], \\\n",
      "     [ 1+s,    1]], float\n",
      ")\n",
      "VS = core.ViabilityWeight(\n",
      "    name='viability selection', \\\n",
      "    axes=['population','trait'], \\\n",
      "    config=config, \\\n",
      "    arr=vsarr, \\\n",
      "    s=s\n",
      ")\n",
      "weights['viability_selection'] = VS.extended()\n",
      "print VS"
     ],
     "language": "python",
     "metadata": {},
     "outputs": [
      {
       "output_type": "stream",
       "stream": "stdout",
       "text": [
        "trait       T1  T2\n",
        "population        \n",
        "pop1         1   2\n",
        "pop2         2   1\n",
        "Name: viability selection\n",
        "s: 1.0\n"
       ]
      }
     ],
     "prompt_number": 38
    },
    {
     "cell_type": "heading",
     "level": 3,
     "metadata": {},
     "source": [
      "Sexual selection (female mating preference)"
     ]
    },
    {
     "cell_type": "markdown",
     "metadata": {},
     "source": [
      "These weights are frequency-dependent. Their final states can be found in section `Dynamic weights (final states)`."
     ]
    },
    {
     "cell_type": "heading",
     "level": 4,
     "metadata": {},
     "source": [
      "Trait preference"
     ]
    },
    {
     "cell_type": "code",
     "collapsed": false,
     "input": [
      "TP = core.GeneralizedPreferenceWeight(\n",
      "    name='trait preference', \\\n",
      "    axes=['population', 'female_preference', 'male_trait'], \\\n",
      "    pref_desc = trait_preferences, \\\n",
      "    config=config, \\\n",
      "    unstack_levels=[2], \\\n",
      "    pt=pt\n",
      ")\n",
      "weights['dynamic_reproduction'].append( (TP, ['trait']) )\n",
      "print TP"
     ],
     "language": "python",
     "metadata": {},
     "outputs": [
      {
       "output_type": "stream",
       "stream": "stdout",
       "text": [
        "male_trait                    mT1  mT2\n",
        "population female_preference          \n",
        "pop1       fP1                  0    0\n",
        "           fP2                  0    0\n",
        "pop2       fP1                  0    0\n",
        "           fP2                  0    0\n",
        "Name: trait preference\n",
        "pt: 0.95\n",
        "\n",
        "rejection probabilities:\n",
        "trait        T1   T2\n",
        "preference          \n",
        "P1          0.0  0.5\n",
        "P2          0.5  0.0\n",
        "\n"
       ]
      }
     ],
     "prompt_number": 39
    },
    {
     "cell_type": "heading",
     "level": 3,
     "metadata": {},
     "source": [
      "Reproduction"
     ]
    },
    {
     "cell_type": "heading",
     "level": 4,
     "metadata": {},
     "source": [
      "Nuclear inheritance"
     ]
    },
    {
     "cell_type": "heading",
     "level": 5,
     "metadata": {},
     "source": [
      "Preference locus"
     ]
    },
    {
     "cell_type": "code",
     "collapsed": false,
     "input": [
      "IP = core.ReproductionWeight(\n",
      "    name='preference inheritance', \\\n",
      "    axes=['female_preference', 'male_preference', 'offspring_preference'], \\\n",
      "    config=config, \\\n",
      "    unstack_levels=[2]\n",
      ")\n",
      "n_alleles = len(ALLELES[LOCI.index('preference')])\n",
      "IP.set( utils.nuclear_inheritance(n_alleles) )\n",
      "IP_ = IP.extended()\n",
      "print IP"
     ],
     "language": "python",
     "metadata": {},
     "outputs": [
      {
       "output_type": "stream",
       "stream": "stdout",
       "text": [
        "offspring_preference               oP1  oP2\n",
        "female_preference male_preference          \n",
        "fP1               mP1              1.0  0.0\n",
        "                  mP2              0.5  0.5\n",
        "fP2               mP1              0.5  0.5\n",
        "                  mP2              0.0  1.0\n",
        "Name: preference inheritance\n",
        "\n"
       ]
      }
     ],
     "prompt_number": 40
    },
    {
     "cell_type": "heading",
     "level": 5,
     "metadata": {},
     "source": [
      "Trait locus"
     ]
    },
    {
     "cell_type": "code",
     "collapsed": false,
     "input": [
      "IT = core.ReproductionWeight(\n",
      "    name='trait inheritance', \\\n",
      "    axes=['female_trait', 'male_trait', 'offspring_trait'], \\\n",
      "    config=config, \\\n",
      "    unstack_levels=[2]\n",
      ")\n",
      "n_alleles = len(ALLELES[LOCI.index('trait')])\n",
      "IT.set( utils.nuclear_inheritance(n_alleles) )\n",
      "IT_ = IT.extended()\n",
      "print IT"
     ],
     "language": "python",
     "metadata": {},
     "outputs": [
      {
       "output_type": "stream",
       "stream": "stdout",
       "text": [
        "offspring_trait          oT1  oT2\n",
        "female_trait male_trait          \n",
        "fT1          mT1         1.0  0.0\n",
        "             mT2         0.5  0.5\n",
        "fT2          mT1         0.5  0.5\n",
        "             mT2         0.0  1.0\n",
        "Name: trait inheritance\n",
        "\n"
       ]
      }
     ],
     "prompt_number": 41
    },
    {
     "cell_type": "markdown",
     "metadata": {},
     "source": [
      "We can combine all reproduction weights that are not frequency-dependent:"
     ]
    },
    {
     "cell_type": "code",
     "collapsed": false,
     "input": [
      "R_ = IP_ * IT_\n",
      "weights['constant_reproduction'] = R_"
     ],
     "language": "python",
     "metadata": {},
     "outputs": [],
     "prompt_number": 42
    },
    {
     "cell_type": "heading",
     "level": 2,
     "metadata": {},
     "source": [
      "Simulation"
     ]
    },
    {
     "cell_type": "code",
     "collapsed": false,
     "input": [
      "snum = 1     # scenario number\n",
      "rnum = 1     # number of simulation run\n",
      "n = 100    # max number of generations to iterate for each stage of the simulation\n",
      "step = 10    # store metapopulation state every `step` generations\n",
      "figsize = [15,7]"
     ],
     "language": "python",
     "metadata": {},
     "outputs": [],
     "prompt_number": 43
    },
    {
     "cell_type": "markdown",
     "metadata": {},
     "source": [
      "Simulation run data is stored in an HDF5 file (`storage.RunStore` basically is a wrapper around an `h5py.File` object):"
     ]
    },
    {
     "cell_type": "code",
     "collapsed": false,
     "input": [
      "rstore = storage.RunStore('data/scenario_{0}.h5'.format(snum))\n",
      "try: rstore.select_scenario(snum, verbose=False)\n",
      "except: rstore.create_scenario(snum, labels=(LOCI,ALLELES))\n",
      "try: rstore.remove_run(rnum, snum)\n",
      "except: pass\n",
      "rstore.init_run(rnum, PARAMETERS, FSHAPE, init_len=100)"
     ],
     "language": "python",
     "metadata": {},
     "outputs": [],
     "prompt_number": 44
    },
    {
     "cell_type": "heading",
     "level": 3,
     "metadata": {},
     "source": [
      "Initial state"
     ]
    },
    {
     "cell_type": "code",
     "collapsed": false,
     "input": [
      "starttime = time.time()                  # take time for timing report after simulation run\n",
      "\n",
      "startfreqs = np.zeros(FSHAPE)\n",
      "startfreqs[0,0,0] = 1.                   # pop1-T0-P0\n",
      "startfreqs[1,0,0] = 1.                   # pop2-T0-P0\n",
      "# initialize metapopulation with start frequencies:\n",
      "metapop = core.MetaPopulation(\n",
      "    startfreqs, \\\n",
      "    config=config, \\\n",
      "    generation=0, \\\n",
      "    name='metapopulation'\n",
      ")\n",
      "# store initial state in database:\n",
      "rstore.record_special_state(metapop.generation, 'start')\n",
      "rstore.dump_data(metapop)"
     ],
     "language": "python",
     "metadata": {},
     "outputs": [],
     "prompt_number": 45
    },
    {
     "cell_type": "code",
     "collapsed": false,
     "input": [
      "print metapop\n",
      "print metapop.overview()\n",
      "fig = viz.plot_overview(metapop, show_generation=True, figsize=figsize)"
     ],
     "language": "python",
     "metadata": {},
     "outputs": [
      {
       "output_type": "stream",
       "stream": "stdout",
       "text": [
        "population    pop1            pop2        \n",
        "preference      P1      P2      P1      P2\n",
        "trait                                     \n",
        "T1          1.0000     ---  1.0000     ---\n",
        "T2             ---     ---     ---     ---\n",
        "Name: metapopulation\n",
        "Generation: 0\n",
        "EQ: undetermined\n",
        "\n",
        "trait       T1  T2\n",
        "population        \n",
        "pop1         1   0\n",
        "pop2         1   0\n",
        "Name: trait\n",
        "\n",
        "preference  P1  P2\n",
        "population        \n",
        "pop1         1   0\n",
        "pop2         1   0\n",
        "Name: preference\n",
        "\n",
        "\n"
       ]
      },
      {
       "output_type": "display_data",
       "png": "[encoded data removed]"
      }
     ],
     "prompt_number": 46
    },
    {
     "cell_type": "heading",
     "level": 3,
     "metadata": {},
     "source": [
      "Migration-selection equilibrium"
     ]
    },
    {
     "cell_type": "markdown",
     "metadata": {},
     "source": [
      "Run the simulation until an equilibrium is reached (but for `n` generations at most):"
     ]
    },
    {
     "cell_type": "code",
     "collapsed": false,
     "input": [
      "metapop.run(\n",
      "    n, \\\n",
      "    weights, \\\n",
      "    threshold=eq, \\\n",
      "    step=step, \\\n",
      "    runstore=rstore, \\\n",
      "    progress_bar=True\n",
      ")"
     ],
     "language": "python",
     "metadata": {},
     "outputs": [
      {
       "ename": "AttributeError",
       "evalue": "'ProgressBar' object has no attribute 'animate'",
       "output_type": "pyerr",
       "traceback": [
        "\u001b[1;31m---------------------------------------------------------------------------\u001b[0m\n\u001b[1;31mAttributeError\u001b[0m                            Traceback (most recent call last)",
        "\u001b[1;32m<ipython-input-47-791da8f7a9a7>\u001b[0m in \u001b[0;36m<module>\u001b[1;34m()\u001b[0m\n\u001b[0;32m      5\u001b[0m     \u001b[0mstep\u001b[0m\u001b[1;33m=\u001b[0m\u001b[0mstep\u001b[0m\u001b[1;33m,\u001b[0m\u001b[0;31m \u001b[0m\u001b[0;31m\\\u001b[0m\u001b[1;33m\u001b[0m\u001b[0m\n\u001b[0;32m      6\u001b[0m     \u001b[0mrunstore\u001b[0m\u001b[1;33m=\u001b[0m\u001b[0mrstore\u001b[0m\u001b[1;33m,\u001b[0m\u001b[0;31m \u001b[0m\u001b[0;31m\\\u001b[0m\u001b[1;33m\u001b[0m\u001b[0m\n\u001b[1;32m----> 7\u001b[1;33m     \u001b[0mprogress_bar\u001b[0m\u001b[1;33m=\u001b[0m\u001b[0mTrue\u001b[0m\u001b[1;33m\u001b[0m\u001b[0m\n\u001b[0m\u001b[0;32m      8\u001b[0m )\n",
        "\u001b[1;32m/home/flor/projects/wspec/core.pyc\u001b[0m in \u001b[0;36mrun\u001b[1;34m(self, n_max, weights, step, threshold, runstore, progress_bar)\u001b[0m\n\u001b[0;32m    655\u001b[0m             \u001b[1;31m# update progress bar:\u001b[0m\u001b[1;33m\u001b[0m\u001b[1;33m\u001b[0m\u001b[0m\n\u001b[0;32m    656\u001b[0m             \u001b[1;32mif\u001b[0m \u001b[0mpbar\u001b[0m\u001b[1;33m:\u001b[0m\u001b[1;33m\u001b[0m\u001b[0m\n\u001b[1;32m--> 657\u001b[1;33m                 \u001b[0mpbar\u001b[0m\u001b[1;33m.\u001b[0m\u001b[0manimate\u001b[0m\u001b[1;33m(\u001b[0m\u001b[0mi\u001b[0m\u001b[1;33m+\u001b[0m\u001b[1;36m1\u001b[0m\u001b[1;33m)\u001b[0m\u001b[1;33m\u001b[0m\u001b[0m\n\u001b[0m\u001b[0;32m    658\u001b[0m             \u001b[1;31m#~ progress.update(self.generation)\u001b[0m\u001b[1;33m\u001b[0m\u001b[1;33m\u001b[0m\u001b[0m\n\u001b[0;32m    659\u001b[0m             \u001b[0mstill_changing\u001b[0m \u001b[1;33m=\u001b[0m \u001b[0mutils\u001b[0m\u001b[1;33m.\u001b[0m\u001b[0mdiff\u001b[0m\u001b[1;33m(\u001b[0m\u001b[0mself\u001b[0m\u001b[1;33m.\u001b[0m\u001b[0mfreqs\u001b[0m\u001b[1;33m,\u001b[0m \u001b[0mprevious\u001b[0m\u001b[1;33m)\u001b[0m \u001b[1;33m>\u001b[0m \u001b[0mthresh\u001b[0m\u001b[1;33m\u001b[0m\u001b[0m\n",
        "\u001b[1;31mAttributeError\u001b[0m: 'ProgressBar' object has no attribute 'animate'"
       ]
      }
     ],
     "prompt_number": 47
    },
    {
     "cell_type": "code",
     "collapsed": false,
     "input": [
      "print metapop\n",
      "print metapop.overview()\n",
      "fig = viz.plot_overview(metapop, show_generation=True, figsize=figsize)"
     ],
     "language": "python",
     "metadata": {},
     "outputs": []
    },
    {
     "cell_type": "heading",
     "level": 3,
     "metadata": {},
     "source": [
      "Introduction of trait allele T2"
     ]
    },
    {
     "cell_type": "code",
     "collapsed": false,
     "input": [
      "intro_allele = 'T2'\n",
      "metapop.introduce_allele('pop1', intro_allele, intro_freq=intro, advance_generation_count=True)\n",
      "rstore.dump_data(metapop)\n",
      "rstore.record_special_state(metapop.generation, 'intro {0}'.format(intro_allele))\n",
      "\n",
      "print metapop\n",
      "print metapop.overview()"
     ],
     "language": "python",
     "metadata": {},
     "outputs": []
    },
    {
     "cell_type": "heading",
     "level": 3,
     "metadata": {},
     "source": [
      "Equilibrium"
     ]
    },
    {
     "cell_type": "code",
     "collapsed": false,
     "input": [
      "metapop.run(\n",
      "    n, \\\n",
      "    weights, \\\n",
      "    threshold=eq, \\\n",
      "    step=step, \\\n",
      "    runstore=rstore, \\\n",
      "    progress_bar=True\n",
      ")"
     ],
     "language": "python",
     "metadata": {},
     "outputs": []
    },
    {
     "cell_type": "code",
     "collapsed": false,
     "input": [
      "print metapop\n",
      "print metapop.overview()\n",
      "fig = viz.plot_overview(metapop, show_generation=True, figsize=figsize)"
     ],
     "language": "python",
     "metadata": {},
     "outputs": []
    },
    {
     "cell_type": "heading",
     "level": 3,
     "metadata": {},
     "source": [
      "Introduction of preference allele P2"
     ]
    },
    {
     "cell_type": "code",
     "collapsed": false,
     "input": [
      "intro_allele = 'P2'\n",
      "metapop.introduce_allele('pop1', intro_allele, intro_freq=intro, advance_generation_count=True)\n",
      "rstore.dump_data(metapop)\n",
      "rstore.record_special_state(metapop.generation, 'intro {0}'.format(intro_allele))\n",
      "\n",
      "print metapop\n",
      "print metapop.overview()"
     ],
     "language": "python",
     "metadata": {},
     "outputs": []
    },
    {
     "cell_type": "heading",
     "level": 3,
     "metadata": {},
     "source": [
      "Final state"
     ]
    },
    {
     "cell_type": "code",
     "collapsed": false,
     "input": [
      "metapop.run(\n",
      "    n, \\\n",
      "    weights, \\\n",
      "    threshold=eq, \\\n",
      "    step=step, \\\n",
      "    runstore=rstore, \\\n",
      "    progress_bar=True\n",
      ")"
     ],
     "language": "python",
     "metadata": {},
     "outputs": []
    },
    {
     "cell_type": "code",
     "collapsed": false,
     "input": [
      "print metapop\n",
      "print metapop.overview()\n",
      "fig = viz.plot_overview(metapop, show_generation=True, figsize=figsize)"
     ],
     "language": "python",
     "metadata": {},
     "outputs": []
    },
    {
     "cell_type": "heading",
     "level": 3,
     "metadata": {},
     "source": [
      "Dynamic weights (final states)"
     ]
    },
    {
     "cell_type": "code",
     "collapsed": false,
     "input": [
      "print TP"
     ],
     "language": "python",
     "metadata": {},
     "outputs": []
    },
    {
     "cell_type": "heading",
     "level": 3,
     "metadata": {},
     "source": [
      "Runtime"
     ]
    },
    {
     "cell_type": "code",
     "collapsed": false,
     "input": [
      "rstore.flush()\n",
      "print utils.timing_report(starttime, metapop.generation)"
     ],
     "language": "python",
     "metadata": {},
     "outputs": []
    },
    {
     "cell_type": "heading",
     "level": 2,
     "metadata": {},
     "source": [
      "Population dynamics"
     ]
    },
    {
     "cell_type": "code",
     "collapsed": false,
     "input": [
      "fig = rstore.plot_sums(figsize=figsize)\n",
      "show()"
     ],
     "language": "python",
     "metadata": {},
     "outputs": []
    },
    {
     "cell_type": "code",
     "collapsed": false,
     "input": [
      "rstore.close()"
     ],
     "language": "python",
     "metadata": {},
     "outputs": []
    },
    {
     "cell_type": "code",
     "collapsed": false,
     "input": [
      "import pymc as mc"
     ],
     "language": "python",
     "metadata": {},
     "outputs": []
    },
    {
     "cell_type": "code",
     "collapsed": false,
     "input": [],
     "language": "python",
     "metadata": {},
     "outputs": []
    }
   ],
   "metadata": {}
  }
 ]
}