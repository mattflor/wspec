{
 "metadata": {
  "name": "scenario_01"
 },
 "nbformat": 3,
 "nbformat_minor": 0,
 "worksheets": [
  {
   "cells": [
    {
     "cell_type": "heading",
     "level": 1,
     "metadata": {},
     "source": [
      "Scenario 1"
     ]
    },
    {
     "cell_type": "code",
     "collapsed": false,
     "input": [
      "import sys, types, time, os, inspect, shutil, pprint, cPickle, gzip, tarfile, pprint, datetime, pdb\n",
      "import numpy as np\n",
      "import numpy.random as npr\n",
      "import pandas as pd\n",
      "import matplotlib.pyplot as plt\n",
      "from IPython.core.display import Image\n",
      "# wspec moduls:\n",
      "import core, storage\n",
      "import visualization as viz\n",
      "import utilities as utils\n",
      "for mod in [core,storage,utils,viz]:     # reload the wspec modules in case the code has changed\n",
      "    reload(mod)\n",
      "    \n",
      "np.set_printoptions(precision=4, suppress=True, linewidth=200)"
     ],
     "language": "python",
     "metadata": {},
     "outputs": [],
     "prompt_number": 31
    },
    {
     "cell_type": "markdown",
     "metadata": {},
     "source": [
      "This scenario has the following features:\n",
      "\n",
      "* single population\n",
      "* a neutral trait T0 and a preference allele P0 (non-discriminating) are fixed\n",
      "* a new, adaptive trait T1 is introduced\n",
      "* a preference for this trait is introduced: P1 (T1); this may happend after the introduction of T1 or simultaneosuly with it\n",
      "\n",
      "<img src=\"files/images/setup_01.png\">"
     ]
    },
    {
     "cell_type": "markdown",
     "metadata": {},
     "source": [
      "## Configuration\n",
      "\n",
      "To configure the simulation scenario, we need to specify gene loci, alleles, and parameters.\n",
      "\n",
      "### Loci and alleles\n",
      "\n",
      "Populations are treated as loci, as would be the cytotype. In numpy terms, each locus is represented by an array axis.\n",
      "\n",
      "We keep separate lists rather than a dictionary because we need to preserve the locus and allele orders."
     ]
    },
    {
     "cell_type": "code",
     "collapsed": false,
     "input": [
      "LOCI = ['population', 'trait', 'preference']\n",
      "ALLELES = [['pop1', 'pop2'], \\\n",
      "           ['T1', 'T2'], \\\n",
      "           ['P1', 'P2']\n",
      "          ]\n",
      "print utils.loci2string(LOCI, ALLELES)"
     ],
     "language": "python",
     "metadata": {},
     "outputs": [
      {
       "output_type": "stream",
       "stream": "stdout",
       "text": [
        "locus           alleles   \n",
        "--------------------------\n",
        "population      pop1, pop2\n",
        "trait           T1, T2    \n",
        "preference      P1, P2\n"
       ]
      }
     ],
     "prompt_number": 32
    },
    {
     "cell_type": "heading",
     "level": 3,
     "metadata": {},
     "source": [
      "Parameters"
     ]
    },
    {
     "cell_type": "code",
     "collapsed": false,
     "input": [
      "PARAMETERS = {\n",
      "    's': (1., 'selection coefficient'),           # selection advantage for adaptive trait\n",
      "    'pt': (0.95, 'transition probability'),       # probability of transition into another mating round\n",
      "    'intro': (0.05, 'introduction frequency'),    # introduction frequency of preference mutant allele\n",
      "    'eq': (5e-3, 'equilibrium threshold')                     # equilibrium threshold\n",
      "}\n",
      "# For mating preference parameters, we use a different notation:\n",
      "trait_preferences = {                        # female mating preferences (rejection probabilities)\n",
      "    'P1': {'baseline': 0.5, 'T1': 0.}, \\\n",
      "    'P2': {'baseline': 0.5, 'T2': 0.}\n",
      "}\n",
      "PARAMETERS = utils.add_preferences(PARAMETERS, trait_preferences)\n",
      "print utils.params2string(PARAMETERS)"
     ],
     "language": "python",
     "metadata": {},
     "outputs": [
      {
       "output_type": "stream",
       "stream": "stdout",
       "text": [
        "parameter         value      description           \n",
        "---------------------------------------------------\n",
        "eq                0.005      equilibrium threshold \n",
        "intro             0.05       introduction frequency\n",
        "pr_p1_baseline    0.5        rejection probability \n",
        "pr_p1_t1          0.0        rejection probability \n",
        "pr_p2_baseline    0.5        rejection probability \n",
        "pr_p2_t2          0.0        rejection probability \n",
        "pt                0.95       transition probability\n",
        "s                 1.0        selection coefficient\n"
       ]
      }
     ],
     "prompt_number": 33
    },
    {
     "cell_type": "markdown",
     "metadata": {},
     "source": [
      "Update local variables so we can directly use loci, alleles, and parameters:"
     ]
    },
    {
     "cell_type": "code",
     "collapsed": false,
     "input": [
      "config = utils.configure_locals(LOCI, ALLELES, PARAMETERS)\n",
      "locals().update(config)\n",
      "# pprint.pprint( sorted(config.items()) )"
     ],
     "language": "python",
     "metadata": {},
     "outputs": [],
     "prompt_number": 35
    },
    {
     "cell_type": "heading",
     "level": 2,
     "metadata": {},
     "source": [
      "Weights"
     ]
    },
    {
     "cell_type": "markdown",
     "metadata": {},
     "source": [
      "All weights for the different stages of the simulation are stored in a dictionary."
     ]
    },
    {
     "cell_type": "code",
     "collapsed": false,
     "input": [
      "weights = {\n",
      "    'migration': None, \\\n",
      "    'viability_selection': None, \\\n",
      "    'dynamic_reproduction': []\n",
      "}"
     ],
     "language": "python",
     "metadata": {},
     "outputs": [],
     "prompt_number": 42
    },
    {
     "cell_type": "markdown",
     "metadata": {},
     "source": [
      "We now define all the weights we use in the simulation.\n",
      "These are in principal `ndarrays` that can be automatically extended to the appropriate dimensions by insertion of `np.newaxis` at the required positions.\n",
      "The extended weights are denoted by a trailing underscore.\n",
      "For printing, `panda.Series` are used."
     ]
    },
    {
     "cell_type": "heading",
     "level": 3,
     "metadata": {},
     "source": [
      "Viability selection"
     ]
    },
    {
     "cell_type": "code",
     "collapsed": false,
     "input": [
      "vsarr = np.array(\n",
      "    [[   1,  1+s], \\\n",
      "     [ 1+s,    1]], float\n",
      ")\n",
      "VS = core.ViabilityWeight(\n",
      "    name='viability selection', \\\n",
      "    axes=['population','trait'], \\\n",
      "    config=config, \\\n",
      "    arr=vsarr, \\\n",
      "    s=s\n",
      ")\n",
      "weights['viability_selection'] = VS.extended()\n",
      "print VS"
     ],
     "language": "python",
     "metadata": {},
     "outputs": [
      {
       "output_type": "stream",
       "stream": "stdout",
       "text": [
        "trait       T1  T2\n",
        "population        \n",
        "pop1         1   2\n",
        "pop2         2   1\n",
        "Name: viability selection\n",
        "s: 1.0\n"
       ]
      }
     ],
     "prompt_number": 47
    },
    {
     "cell_type": "heading",
     "level": 3,
     "metadata": {},
     "source": [
      "Sexual selection (female mating preference)"
     ]
    },
    {
     "cell_type": "markdown",
     "metadata": {},
     "source": [
      "These weights are frequency-dependent. Their final states can be found in section `Dynamic weights (final states)`."
     ]
    },
    {
     "cell_type": "heading",
     "level": 4,
     "metadata": {},
     "source": [
      "Trait preference"
     ]
    },
    {
     "cell_type": "code",
     "collapsed": false,
     "input": [
      "TP = core.GeneralizedPreferenceWeight(\n",
      "    name='trait preference', \\\n",
      "    axes=['population', 'female_preference', 'male_trait'], \\\n",
      "    pref_desc = trait_preferences, \\\n",
      "    config=config, \\\n",
      "    unstack_levels=[2], \\\n",
      "    pt=pt\n",
      ")\n",
      "weights['dynamic_reproduction'].append( (TP, ['trait']) )\n",
      "print TP"
     ],
     "language": "python",
     "metadata": {},
     "outputs": [
      {
       "output_type": "stream",
       "stream": "stdout",
       "text": [
        "male_trait                    mT1  mT2\n",
        "population female_preference          \n",
        "pop1       fP1                  0    0\n",
        "           fP2                  0    0\n",
        "pop2       fP1                  0    0\n",
        "           fP2                  0    0\n",
        "Name: trait preference\n",
        "pt: 0.95\n",
        "rejection probabilities:\n",
        "trait        T1   T2\n",
        "preference          \n",
        "P1          0.0  0.5\n",
        "P2          0.5  0.0\n",
        "\n"
       ]
      }
     ],
     "prompt_number": 46
    },
    {
     "cell_type": "heading",
     "level": 3,
     "metadata": {},
     "source": [
      "Reproduction"
     ]
    },
    {
     "cell_type": "heading",
     "level": 4,
     "metadata": {},
     "source": [
      "Nuclear inheritance"
     ]
    },
    {
     "cell_type": "heading",
     "level": 5,
     "metadata": {},
     "source": [
      "Preference locus"
     ]
    },
    {
     "cell_type": "code",
     "collapsed": false,
     "input": [
      "IP = core.ReproductionWeight(\n",
      "    name='preference inheritance', \\\n",
      "    axes=['female_preference', 'male_preference', 'offspring_preference'], \\\n",
      "    config=config, \\\n",
      "    unstack_levels=[2]\n",
      ")\n",
      "n_alleles = len(ALLELES[LOCI.index('preference')])\n",
      "IP.set( utils.nuclear_inheritance(n_alleles) )\n",
      "IP_ = IP.extended()\n",
      "print IP"
     ],
     "language": "python",
     "metadata": {},
     "outputs": [
      {
       "output_type": "stream",
       "stream": "stdout",
       "text": [
        "offspring_preference               oP1  oP2\n",
        "female_preference male_preference          \n",
        "fP1               mP1              1.0  0.0\n",
        "                  mP2              0.5  0.5\n",
        "fP2               mP1              0.5  0.5\n",
        "                  mP2              0.0  1.0\n",
        "Name: preference inheritance\n",
        "\n"
       ]
      }
     ],
     "prompt_number": 48
    },
    {
     "cell_type": "heading",
     "level": 5,
     "metadata": {},
     "source": [
      "Trait locus"
     ]
    },
    {
     "cell_type": "code",
     "collapsed": false,
     "input": [
      "IT = core.ReproductionWeight(\n",
      "    name='trait inheritance', \\\n",
      "    axes=['female_trait', 'male_trait', 'offspring_trait'], \\\n",
      "    config=config, \\\n",
      "    unstack_levels=[2]\n",
      ")\n",
      "n_alleles = len(ALLELES[LOCI.index('trait')])\n",
      "IT.set( utils.nuclear_inheritance(n_alleles) )\n",
      "IT_ = IT.extended()\n",
      "print IT"
     ],
     "language": "python",
     "metadata": {},
     "outputs": [
      {
       "output_type": "stream",
       "stream": "stdout",
       "text": [
        "offspring_trait          oT1  oT2\n",
        "female_trait male_trait          \n",
        "fT1          mT1         1.0  0.0\n",
        "             mT2         0.5  0.5\n",
        "fT2          mT1         0.5  0.5\n",
        "             mT2         0.0  1.0\n",
        "Name: trait inheritance\n",
        "\n"
       ]
      }
     ],
     "prompt_number": 49
    },
    {
     "cell_type": "markdown",
     "metadata": {},
     "source": [
      "We can combine all reproduction weights that are not frequency-dependent:"
     ]
    },
    {
     "cell_type": "code",
     "collapsed": false,
     "input": [
      "R_ = IP_ * IT_\n",
      "weights['constant_reproduction'] = R_"
     ],
     "language": "python",
     "metadata": {},
     "outputs": [],
     "prompt_number": 50
    },
    {
     "cell_type": "heading",
     "level": 2,
     "metadata": {},
     "source": [
      "Simulation"
     ]
    },
    {
     "cell_type": "code",
     "collapsed": false,
     "input": [
      "snum = 38\n",
      "rstore = storage.RunStore('/extra/flor/data/scenario_{0}.h5'.format(snum))\n",
      "rnum = 1\n",
      "try: rstore.select_scenario(snum, verbose=False)\n",
      "except: rstore.create_scenario(snum, labels=(LOCI,ALLELES), description=desc)\n",
      "try: rstore.remove_run(rnum, snum)\n",
      "except: pass\n",
      "rstore.init_run(rnum, parameters, FSHAPE, init_len=100)\n",
      "\n",
      "#~ mode = None\n",
      "mode = 'report'      # create a report with pyreport\n",
      "def print_report():\n",
      "    print 'Simulation run completed:'\n",
      "    seconds = time.time()-starttime\n",
      "    hhmmss = str(datetime.timedelta(seconds=int(seconds)))\n",
      "    print 'Generation: {0}\\nElapsed Time: {1}'.format(metapop.generation, hhmmss)\n",
      "    pergen = seconds / metapop.generation\n",
      "    hhmmss = str(datetime.timedelta(seconds=int(pergen)))\n",
      "    print 'Time per generation: {0})'.format(hhmmss)\n",
      "\n",
      "if mode == 'report':\n",
      "    progress = False\n",
      "else:\n",
      "    progress = True\n",
      "\n",
      "n = 20000\n",
      "step = 10\n",
      "figs = []\n",
      "figsize = [20,11]\n",
      "\n",
      "#! Start\n",
      "#!^^^^^^^^^^^^^^^^^^^^^^^^^^^^^^^^^^^^^^^^^^^^^^^^^^^^^^^^^^^^^^^^^^^^^^\n",
      "startfreqs = np.zeros(FSHAPE)\n",
      "startfreqs[0,0,0] = 1.                   # pop1-T1-P1\n",
      "starttime = time.time()\n",
      "metapop = core.MetaPopulation(startfreqs, config=config, generation=0, name='metapopulation')\n",
      "rstore.record_special_state(metapop.generation, 'start')\n",
      "#~ pdb.set_trace()\n",
      "rstore.dump_data(metapop)\n",
      "#! Plot\n",
      "#!----------------------------------------------------------------------\n",
      "fig = rstore.plot_overview(generation=metapop.generation, figsize=figsize)\n",
      "figs.append(fig)\n",
      "show()\n",
      "#! Nucleocytotype frequencies\n",
      "#!----------------------------------------------------------------------\n",
      "print metapop\n",
      "#! Locus overview\n",
      "#!----------------------------------------------------------------------\n",
      "print metapop.overview()\n",
      "\n",
      "#! Migration-selection equilibrium\n",
      "#!^^^^^^^^^^^^^^^^^^^^^^^^^^^^^^^^^^^^^^^^^^^^^^^^^^^^^^^^^^^^^^^^^^^^^^\n",
      "progress = metapop.run(n, weights, threshold=threshold, step=step, runstore=rstore, progress=progress)\n",
      "#! Plot\n",
      "#!----------------------------------------------------------------------\n",
      "fig = rstore.plot_overview(generation=metapop.generation, figsize=figsize)\n",
      "figs.append(fig)\n",
      "show()\n",
      "#! Nucleocytotype frequencies\n",
      "#!----------------------------------------------------------------------\n",
      "print metapop\n",
      "#! Locus overview\n",
      "#!----------------------------------------------------------------------\n",
      "\n",
      "#! Introduction of trait allele T2\n",
      "#!^^^^^^^^^^^^^^^^^^^^^^^^^^^^^^^^^^^^^^^^^^^^^^^^^^^^^^^^^^^^^^^^^^^^^^\n",
      "intro_allele = 'T2'\n",
      "metapop.introduce_allele('pop1', intro_allele, intro_freq=intro, advance_generation_count=True)\n",
      "rstore.dump_data(metapop)\n",
      "rstore.record_special_state(metapop.generation, 'intro {0}'.format(intro_allele))\n",
      "print metapop\n",
      "#! Locus overview\n",
      "#!----------------------------------------------------------------------\n",
      "print metapop.overview()\n",
      "\n",
      "\n",
      "#! Equilibrium\n",
      "#!^^^^^^^^^^^^^^^^^^^^^^^^^^^^^^^^^^^^^^^^^^^^^^^^^^^^^^^^^^^^^^^^^^^^^^\n",
      "progress = metapop.run(n, weights, threshold=threshold, step=step, runstore=rstore, progress=progress)\n",
      "#! Plot\n",
      "#!----------------------------------------------------------------------\n",
      "fig = rstore.plot_overview(generation=metapop.generation, figsize=figsize)\n",
      "figs.append(fig)\n",
      "show()\n",
      "#! Nucleocytotype frequencies\n",
      "#!----------------------------------------------------------------------\n",
      "print metapop\n",
      "#! Locus overview\n",
      "#!----------------------------------------------------------------------\n",
      "print metapop.overview()\n",
      "\n",
      "\n",
      "#! Introduction of preference allele P2\n",
      "#!^^^^^^^^^^^^^^^^^^^^^^^^^^^^^^^^^^^^^^^^^^^^^^^^^^^^^^^^^^^^^^^^^^^^^^\n",
      "intro_allele = 'P2'\n",
      "metapop.introduce_allele('pop1', intro_allele, intro_freq=intro, advance_generation_count=True)\n",
      "rstore.dump_data(metapop)\n",
      "rstore.record_special_state(metapop.generation, 'intro {0}'.format(intro_allele))\n",
      "print metapop\n",
      "#! Locus overview\n",
      "#!----------------------------------------------------------------------\n",
      "print metapop.overview()\n",
      "\n",
      "\n",
      "#! Final\n",
      "#!^^^^^^^^^^^^^^^^^^^^^^^^^^^^^^^^^^^^^^^^^^^^^^^^^^^^^^^^^^^^^^^^^^^^^^\n",
      "progress = metapop.run(n, weights, threshold=threshold, step=step, runstore=rstore, progress=progress)\n",
      "#! Plot\n",
      "#!----------------------------------------------------------------------\n",
      "fig = rstore.plot_overview(generation=metapop.generation, figsize=figsize)\n",
      "figs.append(fig)\n",
      "show()\n",
      "#! Nucleocytotype frequencies\n",
      "#!----------------------------------------------------------------------\n",
      "print metapop\n",
      "#! Locus overview\n",
      "#!----------------------------------------------------------------------\n",
      "print metapop.overview()\n",
      "\n",
      "#! Runtime\n",
      "#!----------------------------------------------------------------------\n",
      "if mode == 'report':\n",
      "    print 'Simulation run completed:'\n",
      "    seconds = time.time()-starttime\n",
      "    hhmmss = str(datetime.timedelta(seconds=int(seconds)))\n",
      "    print 'Generation: {0} (Elapsed time: {1})'.format(metapop.generation, hhmmss)\n",
      "    print ' '\n",
      "    \n",
      "#! Dynamic weights (final states)\n",
      "#!======================================================================\n",
      "#! Sexual selection (final)\n",
      "#!^^^^^^^^^^^^^^^^^^^^^^^^^^^^^^^^^^^^^^^^^^^^^^^^^^^^^^^^^^^^^^^^^^^^^^\n",
      "#! Trait preference (final)\n",
      "#!----------------------------------------------------------------------\n",
      "print TP\n",
      "\n",
      "if not mode == 'report':\n",
      "    print_report()\n",
      "rstore.flush()\n",
      "\n",
      "#! Dynamics\n",
      "#!======================================================================\n",
      "fig = rstore.plot_sums(figsize=figsize)\n",
      "figs.append(fig)\n",
      "show()\n",
      "\n",
      "rstore.close()"
     ],
     "language": "python",
     "metadata": {},
     "outputs": []
    }
   ],
   "metadata": {}
  }
 ]
}