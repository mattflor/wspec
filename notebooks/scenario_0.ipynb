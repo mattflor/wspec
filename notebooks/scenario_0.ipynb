{
 "metadata": {
  "name": "scenario_0"
 },
 "nbformat": 3,
 "nbformat_minor": 0,
 "worksheets": [
  {
   "cells": [
    {
     "cell_type": "heading",
     "level": 1,
     "metadata": {},
     "source": [
      "Scenario 1"
     ]
    },
    {
     "cell_type": "code",
     "collapsed": false,
     "input": [
      "import sys, types, time, os, inspect, shutil, pprint, cPickle, gzip, tarfile, pprint, datetime, pdb\n",
      "import numpy as np\n",
      "import numpy.random as npr\n",
      "import pandas as pd\n",
      "import matplotlib.pyplot as plt\n",
      "from IPython.core.display import Image\n",
      "# wspec moduls:\n",
      "import core, storage\n",
      "import visualization as viz\n",
      "import utilities as utils\n",
      "for mod in [core,storage,utils,viz]:     # reload the wspec modules in case the code has changed\n",
      "    reload(mod)\n",
      "    \n",
      "np.set_printoptions(precision=4, suppress=True, linewidth=100)"
     ],
     "language": "python",
     "metadata": {},
     "outputs": [],
     "prompt_number": 53
    },
    {
     "cell_type": "markdown",
     "metadata": {},
     "source": [
      "This scenario has the following features:\n",
      "\n",
      "* single population\n",
      "* a neutral trait T0 and a preference allele P0 (non-discriminating) are fixed\n",
      "* a new, adaptive trait T1 is introduced\n",
      "* a preference for this trait is introduced: P1 (T1); this may happen after the introduction of T1 or simultaneosuly with it\n",
      "\n",
      "<!-- <img src=\"files/images/setup_01.png\">  -->\n",
      "<img src=\"https://docs.google.com/drawings/d/soLzuzqLT2AcRMbaZRpfUxg/image?w=153&h=248&rev=298&ac=1\">"
     ]
    },
    {
     "cell_type": "markdown",
     "metadata": {},
     "source": [
      "## Configuration\n",
      "\n",
      "To configure the simulation scenario, we need to specify gene loci, alleles, and parameters.\n",
      "\n",
      "### Loci and alleles\n",
      "\n",
      "Populations are treated as loci, as would be the cytotype. In numpy terms, each locus is represented by an array axis.\n",
      "\n",
      "We keep separate lists rather than a dictionary because we need to preserve the locus and allele orders."
     ]
    },
    {
     "cell_type": "code",
     "collapsed": false,
     "input": [
      "LOCI = ['population', 'trait', 'preference']\n",
      "ALLELES = [['pop1'],\n",
      "           ['T1', 'T2'],\n",
      "           ['P1', 'P2']\n",
      "          ]\n",
      "print utils.loci2string(LOCI, ALLELES)"
     ],
     "language": "python",
     "metadata": {},
     "outputs": [
      {
       "output_type": "stream",
       "stream": "stdout",
       "text": [
        "locus           alleles\n",
        "-----------------------\n",
        "population      pop1   \n",
        "trait           T1, T2 \n",
        "preference      P1, P2\n"
       ]
      }
     ],
     "prompt_number": 54
    },
    {
     "cell_type": "heading",
     "level": 3,
     "metadata": {},
     "source": [
      "Parameters"
     ]
    },
    {
     "cell_type": "code",
     "collapsed": false,
     "input": [
      "PARAMETERS = {\n",
      "    's': (1., 'selection coefficient'),           # selection advantage for adaptive trait\n",
      "    'pt': (0.95, 'transition probability'),       # probability of transition into another mating round\n",
      "    'intro': (0.001, 'introduction frequency'),   # introduction frequency of preference mutant allele\n",
      "    'eq': (1e-6, 'equilibrium threshold')         # equilibrium threshold (total frequency change)\n",
      "}\n",
      "# For mating preference parameters, we use a different notation:\n",
      "trait_preferences = {                        # female mating preferences (rejection probabilities)\n",
      "    'P1': {'baseline': 0.5, 'T1': 0.},\n",
      "    'P2': {'baseline': 0.5, 'T2': 0.}\n",
      "}\n",
      "PARAMETERS = utils.add_preferences(PARAMETERS, trait_preferences)\n",
      "print utils.params2string(PARAMETERS)"
     ],
     "language": "python",
     "metadata": {},
     "outputs": [
      {
       "output_type": "stream",
       "stream": "stdout",
       "text": [
        "parameter         value      description           \n",
        "---------------------------------------------------\n",
        "eq                1e-06      equilibrium threshold \n",
        "intro             0.001      introduction frequency\n",
        "pr_p1_baseline    0.5        rejection probability \n",
        "pr_p1_t1          0.0        rejection probability \n",
        "pr_p2_baseline    0.5        rejection probability \n",
        "pr_p2_t2          0.0        rejection probability \n",
        "pt                0.95       transition probability\n",
        "s                 1.0        selection coefficient\n"
       ]
      }
     ],
     "prompt_number": 55
    },
    {
     "cell_type": "markdown",
     "metadata": {},
     "source": [
      "Update local variables so we can directly use loci, alleles, and parameters:"
     ]
    },
    {
     "cell_type": "code",
     "collapsed": false,
     "input": [
      "config = utils.configure_locals(LOCI, ALLELES, PARAMETERS)\n",
      "locals().update(config)\n",
      "# pprint.pprint( sorted(config.items()) )"
     ],
     "language": "python",
     "metadata": {},
     "outputs": [],
     "prompt_number": 56
    },
    {
     "cell_type": "markdown",
     "metadata": {},
     "source": [
      "Some more variables for the actual simulation run:"
     ]
    },
    {
     "cell_type": "code",
     "collapsed": false,
     "input": [
      "snum = 0     # scenario number\n",
      "rnum = 1     # number of simulation run\n",
      "n = 1000    # max number of generations to iterate for each stage of the simulation\n",
      "step = 10    # store metapopulation state every `step` generations\n",
      "max_figwidth = 15\n",
      "figheight = 5\n",
      "w = min( N_POPS*(N_LOCI-1), max_figwidth )    # figure width: npops*(nloci-1) but at most 15\n",
      "figsize = [w, figheight]"
     ],
     "language": "python",
     "metadata": {},
     "outputs": [],
     "prompt_number": 57
    },
    {
     "cell_type": "markdown",
     "metadata": {},
     "source": [
      "Simulation run data is stored in an HDF5 file (`storage.RunStore` basically is a wrapper around an `h5py.File` object):"
     ]
    },
    {
     "cell_type": "code",
     "collapsed": false,
     "input": [
      "rstore = storage.RunStore('data/scenario_{0}.h5'.format(snum))\n",
      "try: rstore.select_scenario(snum, verbose=False)\n",
      "except: rstore.create_scenario(snum, labels=(LOCI,ALLELES))\n",
      "try: rstore.remove_run(rnum, snum)\n",
      "except: pass\n",
      "rstore.init_run(rnum, PARAMETERS, FSHAPE, init_len=100)"
     ],
     "language": "python",
     "metadata": {},
     "outputs": [],
     "prompt_number": 58
    },
    {
     "cell_type": "heading",
     "level": 2,
     "metadata": {},
     "source": [
      "Weights"
     ]
    },
    {
     "cell_type": "markdown",
     "metadata": {},
     "source": [
      "All weights for the different stages of the simulation are stored in a dictionary."
     ]
    },
    {
     "cell_type": "code",
     "collapsed": false,
     "input": [
      "weights = {\n",
      "    'migration': None,\n",
      "    'viability_selection': None,\n",
      "    'constant_reproduction': None,\n",
      "    'dynamic_reproduction': []\n",
      "}"
     ],
     "language": "python",
     "metadata": {},
     "outputs": [],
     "prompt_number": 59
    },
    {
     "cell_type": "markdown",
     "metadata": {},
     "source": [
      "We now define all the weights we use in the simulation.\n",
      "These are in principal `ndarrays` that can be automatically extended to the appropriate dimensions by insertion of `np.newaxis` at the required positions.\n",
      "The extended weights are denoted by a trailing underscore.\n",
      "For printing, `panda.Series` are used."
     ]
    },
    {
     "cell_type": "heading",
     "level": 3,
     "metadata": {},
     "source": [
      "Viability selection"
     ]
    },
    {
     "cell_type": "code",
     "collapsed": false,
     "input": [
      "vsarr = np.array(\n",
      "    [[   1,  1+s]], float\n",
      ")\n",
      "VS = core.ViabilityWeight(\n",
      "    name='viability selection',\n",
      "    axes=['population','trait'],\n",
      "    config=config,\n",
      "    arr=vsarr,\n",
      "    s=s\n",
      ")\n",
      "weights['viability_selection'] = VS.extended()\n",
      "print VS"
     ],
     "language": "python",
     "metadata": {},
     "outputs": [
      {
       "output_type": "stream",
       "stream": "stdout",
       "text": [
        "trait       T1  T2\n",
        "population        \n",
        "pop1         1   2\n",
        "Name: viability selection\n",
        "s: 1.0\n"
       ]
      }
     ],
     "prompt_number": 60
    },
    {
     "cell_type": "heading",
     "level": 3,
     "metadata": {},
     "source": [
      "Sexual selection (female mating preference)"
     ]
    },
    {
     "cell_type": "markdown",
     "metadata": {},
     "source": [
      "These weights are frequency-dependent. Their final states can be found in section `Dynamic weights (final states)`."
     ]
    },
    {
     "cell_type": "heading",
     "level": 4,
     "metadata": {},
     "source": [
      "Trait preference"
     ]
    },
    {
     "cell_type": "code",
     "collapsed": false,
     "input": [
      "TP = core.GeneralizedPreferenceWeight(\n",
      "    name='trait preference',\n",
      "    axes=['population', 'female_preference', 'male_trait'],\n",
      "    pref_desc = trait_preferences,\n",
      "    config=config,\n",
      "    unstack_levels=[2],\n",
      "    pt=pt\n",
      ")\n",
      "weights['dynamic_reproduction'].append( (TP, ['trait']) )\n",
      "print TP"
     ],
     "language": "python",
     "metadata": {},
     "outputs": [
      {
       "output_type": "stream",
       "stream": "stdout",
       "text": [
        "male_trait                    mT1  mT2\n",
        "population female_preference          \n",
        "pop1       fP1                  0    0\n",
        "           fP2                  0    0\n",
        "Name: trait preference\n",
        "pt: 0.95\n",
        "\n",
        "rejection probabilities:\n",
        "trait        T1   T2\n",
        "preference          \n",
        "P1          0.0  0.5\n",
        "P2          0.5  0.0\n",
        "\n"
       ]
      }
     ],
     "prompt_number": 61
    },
    {
     "cell_type": "heading",
     "level": 3,
     "metadata": {},
     "source": [
      "Reproduction"
     ]
    },
    {
     "cell_type": "heading",
     "level": 4,
     "metadata": {},
     "source": [
      "Nuclear inheritance"
     ]
    },
    {
     "cell_type": "heading",
     "level": 5,
     "metadata": {},
     "source": [
      "Preference locus"
     ]
    },
    {
     "cell_type": "code",
     "collapsed": false,
     "input": [
      "IP = core.ReproductionWeight(\n",
      "    name='preference inheritance',\n",
      "    axes=['female_preference', 'male_preference', 'offspring_preference'],\n",
      "    config=config,\n",
      "    unstack_levels=[2]\n",
      ")\n",
      "n_alleles = len(ALLELES[LOCI.index('preference')])\n",
      "IP.set( utils.nuclear_inheritance(n_alleles) )\n",
      "IP_ = IP.extended()\n",
      "print IP"
     ],
     "language": "python",
     "metadata": {},
     "outputs": [
      {
       "output_type": "stream",
       "stream": "stdout",
       "text": [
        "offspring_preference               oP1  oP2\n",
        "female_preference male_preference          \n",
        "fP1               mP1              1.0  0.0\n",
        "                  mP2              0.5  0.5\n",
        "fP2               mP1              0.5  0.5\n",
        "                  mP2              0.0  1.0\n",
        "Name: preference inheritance\n",
        "\n"
       ]
      }
     ],
     "prompt_number": 62
    },
    {
     "cell_type": "heading",
     "level": 5,
     "metadata": {},
     "source": [
      "Trait locus"
     ]
    },
    {
     "cell_type": "code",
     "collapsed": false,
     "input": [
      "IT = core.ReproductionWeight(\n",
      "    name='trait inheritance',\n",
      "    axes=['female_trait', 'male_trait', 'offspring_trait'],\n",
      "    config=config,\n",
      "    unstack_levels=[2]\n",
      ")\n",
      "n_alleles = len(ALLELES[LOCI.index('trait')])\n",
      "IT.set( utils.nuclear_inheritance(n_alleles) )\n",
      "IT_ = IT.extended()\n",
      "print IT"
     ],
     "language": "python",
     "metadata": {},
     "outputs": [
      {
       "output_type": "stream",
       "stream": "stdout",
       "text": [
        "offspring_trait          oT1  oT2\n",
        "female_trait male_trait          \n",
        "fT1          mT1         1.0  0.0\n",
        "             mT2         0.5  0.5\n",
        "fT2          mT1         0.5  0.5\n",
        "             mT2         0.0  1.0\n",
        "Name: trait inheritance\n",
        "\n"
       ]
      }
     ],
     "prompt_number": 63
    },
    {
     "cell_type": "markdown",
     "metadata": {},
     "source": [
      "We can combine all reproduction weights that are not frequency-dependent:"
     ]
    },
    {
     "cell_type": "code",
     "collapsed": false,
     "input": [
      "R_ = IP_ * IT_\n",
      "weights['constant_reproduction'] = R_"
     ],
     "language": "python",
     "metadata": {},
     "outputs": [],
     "prompt_number": 64
    },
    {
     "cell_type": "heading",
     "level": 2,
     "metadata": {},
     "source": [
      "Simulation"
     ]
    },
    {
     "cell_type": "heading",
     "level": 3,
     "metadata": {},
     "source": [
      "Initial state"
     ]
    },
    {
     "cell_type": "code",
     "collapsed": false,
     "input": [
      "starttime = time.time()                  # take time for timing report after simulation run\n",
      "\n",
      "startfreqs = np.zeros(FSHAPE)\n",
      "startfreqs[0,0,0] = 1.                   # pop1-T0-P0\n",
      "# initialize metapopulation with start frequencies:\n",
      "metapop = core.MetaPopulation(\n",
      "    startfreqs,\n",
      "    config=config,\n",
      "    generation=0,\n",
      "    name='metapopulation'\n",
      ")\n",
      "# store initial state in database:\n",
      "rstore.record_special_state(metapop.generation, 'start')\n",
      "rstore.dump_data(metapop)"
     ],
     "language": "python",
     "metadata": {},
     "outputs": [],
     "prompt_number": 65
    },
    {
     "cell_type": "code",
     "collapsed": false,
     "input": [
      "print metapop\n",
      "print metapop.overview()\n",
      "fig = viz.plot_overview(metapop, show_generation=False, figsize=figsize)"
     ],
     "language": "python",
     "metadata": {},
     "outputs": [
      {
       "output_type": "stream",
       "stream": "stdout",
       "text": [
        "population    pop1        \n",
        "preference      P1      P2\n",
        "trait                     \n",
        "T1          1.0000     ---\n",
        "T2             ---     ---\n",
        "Name: metapopulation\n",
        "Generation: 0\n",
        "EQ: undetermined\n",
        "\n",
        "trait       T1  T2\n",
        "population        \n",
        "pop1         1   0\n",
        "Name: trait\n",
        "\n",
        "preference  P1  P2\n",
        "population        \n",
        "pop1         1   0\n",
        "Name: preference\n",
        "\n",
        "\n"
       ]
      },
      {
       "output_type": "display_data",
       "png": "[encoded data removed]"
      }
     ],
     "prompt_number": 66
    },
    {
     "cell_type": "heading",
     "level": 3,
     "metadata": {},
     "source": [
      "Migration-selection equilibrium"
     ]
    },
    {
     "cell_type": "markdown",
     "metadata": {},
     "source": [
      "Run the simulation until an equilibrium is reached (but for `n` generations at most):"
     ]
    },
    {
     "cell_type": "code",
     "collapsed": false,
     "input": [
      "metapop.run(\n",
      "    n, \n",
      "    weights, \n",
      "    thresh_total=eq, \n",
      "    step=step, \n",
      "    runstore=rstore, \n",
      "    progress_bar=False, \n",
      "    verbose=True\n",
      ")"
     ],
     "language": "python",
     "metadata": {},
     "outputs": [
      {
       "output_type": "stream",
       "stream": "stdout",
       "text": [
        "Equilibrium reached after 50 generations:\n",
        "- frequency change:\n",
        "    total 0  |  threshold 1e-06\n",
        "    individual threshold 2.5e-07\n",
        "- generation: start 0  |  current 50\n"
       ]
      }
     ],
     "prompt_number": 67
    },
    {
     "cell_type": "code",
     "collapsed": false,
     "input": [
      "print metapop\n",
      "print metapop.overview()\n",
      "fig = viz.plot_overview(metapop, show_generation=False, figsize=figsize)"
     ],
     "language": "python",
     "metadata": {},
     "outputs": [
      {
       "output_type": "stream",
       "stream": "stdout",
       "text": [
        "population    pop1        \n",
        "preference      P1      P2\n",
        "trait                     \n",
        "T1          1.0000     ---\n",
        "T2             ---     ---\n",
        "Name: metapopulation\n",
        "Generation: 50\n",
        "EQ: True\n",
        "\n",
        "trait       T1  T2\n",
        "population        \n",
        "pop1         1   0\n",
        "Name: trait\n",
        "\n",
        "preference  P1  P2\n",
        "population        \n",
        "pop1         1   0\n",
        "Name: preference\n",
        "\n",
        "\n"
       ]
      },
      {
       "output_type": "display_data",
       "png": "[encoded data removed]"
      }
     ],
     "prompt_number": 68
    },
    {
     "cell_type": "heading",
     "level": 3,
     "metadata": {},
     "source": [
      "Introduction of trait allele T2"
     ]
    },
    {
     "cell_type": "code",
     "collapsed": false,
     "input": [
      "intro_allele = 'T2'\n",
      "metapop.introduce_allele('pop1', intro_allele, intro_freq=intro, advance_generation_count=True)\n",
      "rstore.dump_data(metapop)\n",
      "rstore.record_special_state(metapop.generation, 'intro {0}'.format(intro_allele))\n",
      "\n",
      "print metapop\n",
      "print metapop.overview()"
     ],
     "language": "python",
     "metadata": {},
     "outputs": [
      {
       "output_type": "stream",
       "stream": "stdout",
       "text": [
        "0 1 1\n",
        "population   pop1        \n",
        "preference     P1      P2\n",
        "trait                    \n",
        "T1         0.9990     ---\n",
        "T2         0.0010     ---\n",
        "Name: metapopulation\n",
        "Generation: 51\n",
        "EQ: not determined\n",
        "\n",
        "trait          T1     T2\n",
        "population              \n",
        "pop1        0.999  0.001\n",
        "Name: trait\n",
        "\n",
        "preference  P1  P2\n",
        "population        \n",
        "pop1         1   0\n",
        "Name: preference\n",
        "\n",
        "\n"
       ]
      }
     ],
     "prompt_number": 69
    },
    {
     "cell_type": "heading",
     "level": 3,
     "metadata": {},
     "source": [
      "Equilibrium"
     ]
    },
    {
     "cell_type": "code",
     "collapsed": false,
     "input": [
      "metapop.run(\n",
      "    n,\n",
      "    weights,\n",
      "    thresh_total=eq,\n",
      "    step=step,\n",
      "    runstore=rstore,\n",
      "    progress_bar=True,\n",
      "    verbose=True\n",
      ")"
     ],
     "language": "python",
     "metadata": {},
     "outputs": [
      {
       "output_type": "stream",
       "stream": "stdout",
       "text": [
        " \r",
        "[****************100%******************]  4.842e-07 [1e-06]  |  66"
       ]
      },
      {
       "output_type": "stream",
       "stream": "stdout",
       "text": [
        " \n",
        "\n",
        "Equilibrium reached after 66 generations:\n",
        "- frequency change:\n",
        "    total 4.842e-07  |  threshold 1e-06\n",
        "    individual threshold 2.5e-07\n",
        "- generation: start 51  |  current 117\n"
       ]
      }
     ],
     "prompt_number": 70
    },
    {
     "cell_type": "code",
     "collapsed": false,
     "input": [
      "print metapop\n",
      "print metapop.overview()\n",
      "fig = viz.plot_overview(metapop, show_generation=False, figsize=figsize)"
     ],
     "language": "python",
     "metadata": {},
     "outputs": [
      {
       "output_type": "stream",
       "stream": "stdout",
       "text": [
        "population    pop1        \n",
        "preference      P1      P2\n",
        "trait                     \n",
        "T1             0.0     ---\n",
        "T2          1.0000     ---\n",
        "Name: metapopulation\n",
        "Generation: 117\n",
        "EQ: True\n",
        "\n",
        "trait       T1  T2\n",
        "population        \n",
        "pop1         0   1\n",
        "Name: trait\n",
        "\n",
        "preference  P1  P2\n",
        "population        \n",
        "pop1         1   0\n",
        "Name: preference\n",
        "\n",
        "\n"
       ]
      },
      {
       "output_type": "display_data",
       "png": "[encoded data removed]"
      }
     ],
     "prompt_number": 71
    },
    {
     "cell_type": "heading",
     "level": 3,
     "metadata": {},
     "source": [
      "Introduction of preference allele P2"
     ]
    },
    {
     "cell_type": "code",
     "collapsed": false,
     "input": [
      "intro_allele = 'P2'\n",
      "metapop.introduce_allele('pop1', intro_allele, intro_freq=intro, advance_generation_count=True)\n",
      "rstore.dump_data(metapop)\n",
      "rstore.record_special_state(metapop.generation, 'intro {0}'.format(intro_allele))\n",
      "\n",
      "print metapop\n",
      "print metapop.overview()"
     ],
     "language": "python",
     "metadata": {},
     "outputs": [
      {
       "output_type": "stream",
       "stream": "stdout",
       "text": [
        "0 2 1\n",
        "population    pop1        \n",
        "preference      P1      P2\n",
        "trait                     \n",
        "T1             0.0     0.0\n",
        "T2          0.9990  0.0010\n",
        "Name: metapopulation\n",
        "Generation: 118\n",
        "EQ: not determined\n",
        "\n",
        "trait       T1  T2\n",
        "population        \n",
        "pop1         0   1\n",
        "Name: trait\n",
        "\n",
        "preference     P1     P2\n",
        "population              \n",
        "pop1        0.999  0.001\n",
        "Name: preference\n",
        "\n",
        "\n"
       ]
      }
     ],
     "prompt_number": 72
    },
    {
     "cell_type": "heading",
     "level": 3,
     "metadata": {},
     "source": [
      "Final state"
     ]
    },
    {
     "cell_type": "code",
     "collapsed": false,
     "input": [
      "metapop.run(\n",
      "    n,\n",
      "    weights,\n",
      "    thresh_total=eq,\n",
      "    step=step,\n",
      "    runstore=rstore,\n",
      "    progress_bar=True,\n",
      "    verbose=True\n",
      ")"
     ],
     "language": "python",
     "metadata": {},
     "outputs": [
      {
       "output_type": "stream",
       "stream": "stdout",
       "text": [
        " \r",
        "[****************100%******************]  3.885e-09 [1e-06]  |  50"
       ]
      },
      {
       "output_type": "stream",
       "stream": "stdout",
       "text": [
        " \n",
        "\n",
        "Equilibrium reached after 50 generations:\n",
        "- frequency change:\n",
        "    total 3.885e-09  |  threshold 1e-06\n",
        "    individual threshold 2.5e-07\n",
        "- generation: start 118  |  current 168\n"
       ]
      }
     ],
     "prompt_number": 73
    },
    {
     "cell_type": "code",
     "collapsed": false,
     "input": [
      "print metapop\n",
      "print metapop.overview()\n",
      "fig = viz.plot_overview(metapop, show_generation=False, figsize=figsize)"
     ],
     "language": "python",
     "metadata": {},
     "outputs": [
      {
       "output_type": "stream",
       "stream": "stdout",
       "text": [
        "population    pop1        \n",
        "preference      P1      P2\n",
        "trait                     \n",
        "T1             ---     ---\n",
        "T2             0.0  1.0000\n",
        "Name: metapopulation\n",
        "Generation: 168\n",
        "EQ: True\n",
        "\n",
        "trait       T1  T2\n",
        "population        \n",
        "pop1         0   1\n",
        "Name: trait\n",
        "\n",
        "preference  P1  P2\n",
        "population        \n",
        "pop1         0   1\n",
        "Name: preference\n",
        "\n",
        "\n"
       ]
      },
      {
       "output_type": "display_data",
       "png": "[encoded data removed]"
      }
     ],
     "prompt_number": 74
    },
    {
     "cell_type": "heading",
     "level": 3,
     "metadata": {},
     "source": [
      "Dynamic weights (final states)"
     ]
    },
    {
     "cell_type": "code",
     "collapsed": false,
     "input": [
      "print TP"
     ],
     "language": "python",
     "metadata": {},
     "outputs": [
      {
       "output_type": "stream",
       "stream": "stdout",
       "text": [
        "male_trait                       mT1     mT2\n",
        "population female_preference                \n",
        "pop1       fP1                1.0000  0.5000\n",
        "           fP2                0.9524  1.9048\n",
        "Name: trait preference\n",
        "pt: 0.95\n",
        "\n",
        "rejection probabilities:\n",
        "trait        T1   T2\n",
        "preference          \n",
        "P1          0.0  0.5\n",
        "P2          0.5  0.0\n",
        "\n"
       ]
      }
     ],
     "prompt_number": 75
    },
    {
     "cell_type": "heading",
     "level": 3,
     "metadata": {},
     "source": [
      "Runtime"
     ]
    },
    {
     "cell_type": "code",
     "collapsed": false,
     "input": [
      "rstore.flush()\n",
      "print utils.timing_report(starttime, metapop.generation)"
     ],
     "language": "python",
     "metadata": {},
     "outputs": [
      {
       "output_type": "stream",
       "stream": "stdout",
       "text": [
        "Simulation run completed:\n",
        "Generation: 168\n",
        "Elapsed Time: 0:00:01\n",
        "Time per generation: 0:00:00)\n"
       ]
      }
     ],
     "prompt_number": 76
    },
    {
     "cell_type": "heading",
     "level": 2,
     "metadata": {},
     "source": [
      "Population dynamics"
     ]
    },
    {
     "cell_type": "code",
     "collapsed": false,
     "input": [
      "fig = rstore.plot_sums(figsize=[max_figwidth, figheight])\n",
      "show()"
     ],
     "language": "python",
     "metadata": {},
     "outputs": [
      {
       "output_type": "display_data",
       "png": "[encoded data removed]"
      }
     ],
     "prompt_number": 77
    },
    {
     "cell_type": "code",
     "collapsed": false,
     "input": [
      "rstore.close()"
     ],
     "language": "python",
     "metadata": {},
     "outputs": [],
     "prompt_number": 78
    }
   ],
   "metadata": {}
  }
 ]
}