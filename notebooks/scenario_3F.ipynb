{
 "metadata": {
  "name": "scenario_3F"
 },
 "nbformat": 3,
 "nbformat_minor": 0,
 "worksheets": [
  {
   "cells": [
    {
     "cell_type": "heading",
     "level": 1,
     "metadata": {},
     "source": [
      "    Scenario 3"
     ]
    },
    {
     "cell_type": "code",
     "collapsed": false,
     "input": [
      "import sys, types, time, os, inspect, shutil, pprint, cPickle, gzip, tarfile, pprint, datetime, pdb\n",
      "import numpy as np\n",
      "import numpy.random as npr\n",
      "import pandas as pd\n",
      "import matplotlib.pyplot as plt\n",
      "from IPython.core.display import Image\n",
      "# wspec moduls:\n",
      "import core, storage, analytical\n",
      "import visualization as viz\n",
      "import utilities as utils\n",
      "for mod in [core,storage,analytical,utils,viz]:     # reload the wspec modules in case the code has changed\n",
      "    reload(mod)\n",
      "    \n",
      "np.set_printoptions(precision=4, suppress=True, linewidth=100)"
     ],
     "language": "python",
     "metadata": {},
     "outputs": [],
     "prompt_number": 29
    },
    {
     "cell_type": "markdown",
     "metadata": {},
     "source": [
      "## 1. Scenario features\n",
      "\n",
      "* Two populations linked by migration\n",
      "\n",
      "* Initial state:\n",
      "    * Trait divergence: T1 adaptive and fixed in population 1, T2 in population 2\n",
      "    * Divergence at the preference locus: P1 (T1) fixed in population 1, P2 (T2) in population 2\n",
      "    * *Wolbachia* infection in population 2, Population 1 is uninfected\n",
      "\n",
      "* Order of events:\n",
      "    1. Secondary contact  $\\rightarrow$  selection-migration equilibrium\n",
      "    2. Introduction of non-discriminating preference allele in both populations: P0  $\\rightarrow$  new equilibrium\n",
      "\n",
      "<img src=\"https://docs.google.com/drawings/d/1YnduXFVTYDddSOio4AINo6Elb7y8zStgfQoKi2E-auo/pub?w=691&amp;h=577\">\n"
     ]
    },
    {
     "cell_type": "markdown",
     "metadata": {},
     "source": [
      "## 2. Configuration\n",
      "\n",
      "To configure the simulation scenario, we need to specify gene loci, alleles, and parameters.\n",
      "\n",
      "### 2.1 Loci and alleles\n",
      "\n",
      "Populations are treated as loci, as would be the cytotype. In numpy terms, each locus is represented by an array axis.\n",
      "\n",
      "We keep separate lists rather than a dictionary because we need to preserve the locus and allele orders."
     ]
    },
    {
     "cell_type": "code",
     "collapsed": false,
     "input": [
      "LOCI = ['population', 'trait', 'preference', 'cytotype']\n",
      "ALLELES = [['pop1', 'pop2'],\n",
      "           ['T1', 'T2'],\n",
      "           ['P0', 'P1', 'P2'],\n",
      "           ['U', 'W']\n",
      "          ]\n",
      "print utils.loci2string(LOCI, ALLELES)"
     ],
     "language": "python",
     "metadata": {},
     "outputs": [
      {
       "output_type": "stream",
       "stream": "stdout",
       "text": [
        "locus           alleles   \n",
        "--------------------------\n",
        "population      pop1, pop2\n",
        "trait           T1, T2    \n",
        "preference      P0, P1, P2\n",
        "cytotype        U, W\n"
       ]
      }
     ],
     "prompt_number": 30
    },
    {
     "cell_type": "heading",
     "level": 3,
     "metadata": {},
     "source": [
      "2.2 Parameters"
     ]
    },
    {
     "cell_type": "markdown",
     "metadata": {},
     "source": [
      "Scenario and simulation run id's, and parameters:"
     ]
    },
    {
     "cell_type": "code",
     "collapsed": false,
     "input": [
      "sid = 3     # scenario id\n",
      "rid = 'F'     # id of simulation run"
     ],
     "language": "python",
     "metadata": {},
     "outputs": [],
     "prompt_number": 31
    },
    {
     "cell_type": "code",
     "collapsed": true,
     "input": [
      "PARAMETERS = {\n",
      "    'lCI': (0.9, 'CI level'),                     # level of cytoplasmic incompatibility\n",
      "    't': (0.9, 'transmission rate'),             # transmission of Wolbachia\n",
      "    'f': (0.1, 'fecundity reduction'),            # Wolbachia-infected females are less fecund\n",
      "    'm': (0.01, 'migration rate'),                # symmetric migration\n",
      "    's': (0.1, 'selection coefficient'),           # selection advantage for adaptive trait\n",
      "    'pt': (0.9, 'transition probability'),       # probability of transition into another mating round\n",
      "    'intro': (0.001, 'introduction frequency'),   # introduction frequency of preference mutant allele\n",
      "    'eq': (1e-6, 'equilibrium threshold'),      # equilibrium threshold (total frequency change)\n",
      "    'nmax': (30000, 'max generation'),          # max number of generations to iterate for each stage of the simulation\n",
      "    'step': (10, 'storage stepsize')            # store metapopulation state every `step` generations\n",
      "}\n",
      "# For mating preference parameters, we use a different notation:\n",
      "trait_preferences = {                        # female mating preferences (rejection probabilities)\n",
      "    'P0': {'baseline': 0.},\n",
      "    'P1': {'baseline': 0.4, 'T1': 0.},\n",
      "    'P2': {'baseline': 0.4, 'T2': 0.}\n",
      "}\n",
      "PARAMETERS = utils.add_preferences(PARAMETERS, trait_preferences)\n",
      "# make parameter names locally available:\n",
      "config = utils.configure_locals(LOCI, ALLELES, PARAMETERS)\n",
      "locals().update(config)\n",
      "# print all parameters:\n",
      "print utils.params2string(PARAMETERS)"
     ],
     "language": "python",
     "metadata": {},
     "outputs": [
      {
       "output_type": "stream",
       "stream": "stdout",
       "text": [
        "parameter         value      description           \n",
        "---------------------------------------------------\n",
        "eq                1e-06      equilibrium threshold \n",
        "f                 0.1        fecundity reduction   \n",
        "intro             0.001      introduction frequency\n",
        "lCI               0.9        CI level              \n",
        "m                 0.01       migration rate        \n",
        "nmax              30000      max generation        \n",
        "pr_p0_baseline    0.0        rejection probability \n",
        "pr_p1_baseline    0.4        rejection probability \n",
        "pr_p1_t1          0.0        rejection probability \n",
        "pr_p2_baseline    0.4        rejection probability \n",
        "pr_p2_t2          0.0        rejection probability \n",
        "pt                0.9        transition probability\n",
        "s                 0.1        selection coefficient \n",
        "step              10         storage stepsize      \n",
        "t                 0.9        transmission rate\n"
       ]
      }
     ],
     "prompt_number": 32
    },
    {
     "cell_type": "markdown",
     "metadata": {},
     "source": [
      "Simulation run data is stored in an HDF5 file (`storage.RunStore` basically is a wrapper around an `h5py.File` object):"
     ]
    },
    {
     "cell_type": "code",
     "collapsed": false,
     "input": [
      "overwrite_run = True\n",
      "data_available = False\n",
      "rstore = storage.RunStore('data/scenario_{0}.h5'.format(sid))\n",
      "# select existing scenario, initialize a new one if this fails:\n",
      "try:\n",
      "    rstore.select_scenario(sid, verbose=False)\n",
      "except:\n",
      "    rstore.create_scenario(sid, labels=(LOCI,ALLELES))\n",
      "# select existing run, initialize a new one if this fails:\n",
      "try:   \n",
      "    rstore.select_run(rid)\n",
      "    data_available = True\n",
      "    special_states = list( rstore.get_special_states()[::-1] )\n",
      "except:\n",
      "    rstore.init_run(rid, PARAMETERS, FSHAPE, init_len=100)\n",
      "# check whether parameters are identical:\n",
      "pars = rstore.get_parameters()\n",
      "if not utils.parameters_equal(pars, PARAMETERS, verbose=False):\n",
      "    data_available = False\n",
      "    if not overwrite_run:\n",
      "        raise ValueError('parameter values differ from stored values; set `overwrite_run` to `True` in order to overwrite run')\n",
      "    else:\n",
      "        print 'overwriting run...'\n",
      "        rstore.remove_run(rid, sid)\n",
      "        rstore.init_run(rid, PARAMETERS, FSHAPE, init_len=100)"
     ],
     "language": "python",
     "metadata": {},
     "outputs": [
      {
       "output_type": "stream",
       "stream": "stdout",
       "text": [
        "selecting existing run F from scenario 3 in file data/scenario_3.h5\n",
        "overwriting run...\n"
       ]
      }
     ],
     "prompt_number": 33
    },
    {
     "cell_type": "markdown",
     "metadata": {},
     "source": [
      "Configure plotting:"
     ]
    },
    {
     "cell_type": "code",
     "collapsed": false,
     "input": [
      "max_figwidth = 15\n",
      "figheight = 5\n",
      "w = min( N_POPS*(N_LOCI-1), max_figwidth )    # figure width: npops*(nloci-1) but at most 15\n",
      "figsize = [w, figheight]\n",
      "show_progressbar = False          # BEWARE: enabling progressbar slows down the simulation significantly!"
     ],
     "language": "python",
     "metadata": {},
     "outputs": [],
     "prompt_number": 34
    },
    {
     "cell_type": "heading",
     "level": 2,
     "metadata": {},
     "source": [
      "3. Weights"
     ]
    },
    {
     "cell_type": "markdown",
     "metadata": {},
     "source": [
      "All weights for the different stages of the simulation are stored in a dictionary."
     ]
    },
    {
     "cell_type": "code",
     "collapsed": false,
     "input": [
      "weights = {\n",
      "    'migration': None,\n",
      "    'viability_selection': None,\n",
      "    'constant_reproduction': None,\n",
      "    'dynamic_reproduction': []\n",
      "}"
     ],
     "language": "python",
     "metadata": {},
     "outputs": [],
     "prompt_number": 35
    },
    {
     "cell_type": "markdown",
     "metadata": {},
     "source": [
      "We now define all the weights we use in the simulation.\n",
      "These are in principal `ndarrays` that can be automatically extended to the appropriate dimensions by insertion of `np.newaxis` at the required positions.\n",
      "The extended weights are denoted by a trailing underscore.\n",
      "For printing, `panda.Series` are used."
     ]
    },
    {
     "cell_type": "heading",
     "level": 3,
     "metadata": {},
     "source": [
      "3.1 Migration"
     ]
    },
    {
     "cell_type": "code",
     "collapsed": false,
     "input": [
      "mig = np.array(\n",
      "    [[1-m,      m ],\n",
      "     [  m,    1-m ]], float)\n",
      "M = core.MigrationWeight(\n",
      "    name='migration',\n",
      "    axes=['target', 'source'],\n",
      "    config=config,\n",
      "    arr=mig,\n",
      "    m=m\n",
      ")\n",
      "weights['migration'] = M.extended()\n",
      "print M"
     ],
     "language": "python",
     "metadata": {},
     "outputs": [
      {
       "output_type": "stream",
       "stream": "stdout",
       "text": [
        "source  pop1  pop2\n",
        "target            \n",
        "pop1    0.99  0.01\n",
        "pop2    0.01  0.99\n",
        "Name: migration\n",
        "m: 0.01\n"
       ]
      }
     ],
     "prompt_number": 36
    },
    {
     "cell_type": "heading",
     "level": 3,
     "metadata": {},
     "source": [
      "3.2 Viability selection"
     ]
    },
    {
     "cell_type": "code",
     "collapsed": false,
     "input": [
      "vsarr = np.array(\n",
      "    [[ 1+s,  1  ],\n",
      "     [   1,  1+s]], float\n",
      ")\n",
      "VS = core.ViabilityWeight(\n",
      "    name='viability selection',\n",
      "    axes=['population','trait'],\n",
      "    config=config,\n",
      "    arr=vsarr,\n",
      "    s=s\n",
      ")\n",
      "weights['viability_selection'] = VS.extended()\n",
      "print VS"
     ],
     "language": "python",
     "metadata": {},
     "outputs": [
      {
       "output_type": "stream",
       "stream": "stdout",
       "text": [
        "trait        T1   T2\n",
        "population          \n",
        "pop1        1.1  1.0\n",
        "pop2        1.0  1.1\n",
        "Name: viability selection\n",
        "s: 0.1\n"
       ]
      }
     ],
     "prompt_number": 37
    },
    {
     "cell_type": "heading",
     "level": 3,
     "metadata": {},
     "source": [
      "3.3 Sexual selection (female mating preference)"
     ]
    },
    {
     "cell_type": "markdown",
     "metadata": {},
     "source": [
      "These weights are frequency-dependent. Their final states can be found in section `Dynamic weights (final states)`."
     ]
    },
    {
     "cell_type": "heading",
     "level": 4,
     "metadata": {},
     "source": [
      "Trait preference"
     ]
    },
    {
     "cell_type": "code",
     "collapsed": false,
     "input": [
      "TP = core.GeneralizedPreferenceWeight(\n",
      "    name='trait preference',\n",
      "    axes=['population', 'female_preference', 'male_trait'],\n",
      "    pref_desc = trait_preferences,\n",
      "    config=config,\n",
      "    unstack_levels=[2],\n",
      "    pt=pt\n",
      ")\n",
      "weights['dynamic_reproduction'].append( (TP, ['trait']) )\n",
      "print TP"
     ],
     "language": "python",
     "metadata": {},
     "outputs": [
      {
       "output_type": "stream",
       "stream": "stdout",
       "text": [
        "male_trait                    mT1  mT2\n",
        "population female_preference          \n",
        "pop1       fP0                  0    0\n",
        "           fP1                  0    0\n",
        "           fP2                  0    0\n",
        "pop2       fP0                  0    0\n",
        "           fP1                  0    0\n",
        "           fP2                  0    0\n",
        "Name: trait preference\n",
        "pt: 0.9\n",
        "\n",
        "rejection probabilities:\n",
        "trait        T1   T2\n",
        "preference          \n",
        "P0          0.0  0.0\n",
        "P1          0.0  0.4\n",
        "P2          0.4  0.0\n"
       ]
      }
     ],
     "prompt_number": 38
    },
    {
     "cell_type": "heading",
     "level": 3,
     "metadata": {},
     "source": [
      "3.4 Reproduction"
     ]
    },
    {
     "cell_type": "heading",
     "level": 4,
     "metadata": {},
     "source": [
      "Cytoplasmic incompatibility"
     ]
    },
    {
     "cell_type": "code",
     "collapsed": false,
     "input": [
      "CI = core.ReproductionWeight(\n",
      "    name='cytoplasmic incompatibility',\n",
      "    axes=['male_cytotype', 'offspring_cytotype'],\n",
      "    config=config,\n",
      "    unstack_levels=[1],\n",
      "    lCI=lCI\n",
      ")\n",
      "CI.set( np.array([[1, 1], [1-lCI, 1]], float ) )\n",
      "CI_ = CI.extended()\n",
      "print CI"
     ],
     "language": "python",
     "metadata": {},
     "outputs": [
      {
       "output_type": "stream",
       "stream": "stdout",
       "text": [
        "offspring_cytotype   oU  oW\n",
        "male_cytotype              \n",
        "mU                  1.0   1\n",
        "mW                  0.1   1\n",
        "Name: cytoplasmic incompatibility\n",
        "lCI: 0.9\n"
       ]
      }
     ],
     "prompt_number": 39
    },
    {
     "cell_type": "heading",
     "level": 4,
     "metadata": {},
     "source": [
      "Cytotype inheritance (Wolbachia transmission)"
     ]
    },
    {
     "cell_type": "code",
     "collapsed": false,
     "input": [
      "T = core.ReproductionWeight(\n",
      "    name='cytotype inheritance',\n",
      "    axes=['female_cytotype', 'offspring_cytotype'],\n",
      "    config=config,\n",
      "    unstack_levels=[1],\n",
      "    t=t\n",
      ")\n",
      "T.set( np.array( [[1, 0], [1-t, t]], float ) )\n",
      "T_ = T.extended()\n",
      "print T"
     ],
     "language": "python",
     "metadata": {},
     "outputs": [
      {
       "output_type": "stream",
       "stream": "stdout",
       "text": [
        "offspring_cytotype   oU   oW\n",
        "female_cytotype             \n",
        "fU                  1.0  0.0\n",
        "fW                  0.1  0.9\n",
        "Name: cytotype inheritance\n",
        "t: 0.9\n"
       ]
      }
     ],
     "prompt_number": 40
    },
    {
     "cell_type": "heading",
     "level": 4,
     "metadata": {},
     "source": [
      "Female fecundity"
     ]
    },
    {
     "cell_type": "code",
     "collapsed": false,
     "input": [
      "F = core.ReproductionWeight(\n",
      "    name='fecundity reduction',\n",
      "    axes=['female_cytotype'],\n",
      "    config=config,\n",
      "    f=f\n",
      ")\n",
      "F.set( np.array([1, 1-f], float) )\n",
      "F_ = F.extended()\n",
      "print F"
     ],
     "language": "python",
     "metadata": {},
     "outputs": [
      {
       "output_type": "stream",
       "stream": "stdout",
       "text": [
        "female_cytotype\n",
        "fU                 1.0\n",
        "fW                 0.9\n",
        "Name: fecundity reduction\n",
        "f: 0.1\n"
       ]
      }
     ],
     "prompt_number": 41
    },
    {
     "cell_type": "heading",
     "level": 4,
     "metadata": {},
     "source": [
      "Nuclear inheritance"
     ]
    },
    {
     "cell_type": "markdown",
     "metadata": {},
     "source": [
      "Nuclear inheritance weights for all loci."
     ]
    },
    {
     "cell_type": "code",
     "collapsed": false,
     "input": [
      "IP = core.ReproductionWeight(\n",
      "    name='preference inheritance',\n",
      "    axes=['female_preference', 'male_preference', 'offspring_preference'],\n",
      "    config=config,\n",
      "    unstack_levels=[2]\n",
      ")\n",
      "n_alleles = len(ALLELES[LOCI.index('preference')])\n",
      "IP.set( utils.nuclear_inheritance(n_alleles) )\n",
      "IP_ = IP.extended()\n",
      "print IP"
     ],
     "language": "python",
     "metadata": {},
     "outputs": [
      {
       "output_type": "stream",
       "stream": "stdout",
       "text": [
        "offspring_preference               oP0  oP1  oP2\n",
        "female_preference male_preference               \n",
        "fP0               mP0              1.0  0.0  0.0\n",
        "                  mP1              0.5  0.5  0.0\n",
        "                  mP2              0.5  0.0  0.5\n",
        "fP1               mP0              0.5  0.5  0.0\n",
        "                  mP1              0.0  1.0  0.0\n",
        "                  mP2              0.0  0.5  0.5\n",
        "fP2               mP0              0.5  0.0  0.5\n",
        "                  mP1              0.0  0.5  0.5\n",
        "                  mP2              0.0  0.0  1.0\n",
        "Name: preference inheritance\n"
       ]
      }
     ],
     "prompt_number": 42
    },
    {
     "cell_type": "code",
     "collapsed": false,
     "input": [
      "IT = core.ReproductionWeight(\n",
      "    name='trait inheritance',\n",
      "    axes=['female_trait', 'male_trait', 'offspring_trait'],\n",
      "    config=config,\n",
      "    unstack_levels=[2]\n",
      ")\n",
      "n_alleles = len(ALLELES[LOCI.index('trait')])\n",
      "IT.set( utils.nuclear_inheritance(n_alleles) )\n",
      "IT_ = IT.extended()\n",
      "print IT"
     ],
     "language": "python",
     "metadata": {},
     "outputs": [
      {
       "output_type": "stream",
       "stream": "stdout",
       "text": [
        "offspring_trait          oT1  oT2\n",
        "female_trait male_trait          \n",
        "fT1          mT1         1.0  0.0\n",
        "             mT2         0.5  0.5\n",
        "fT2          mT1         0.5  0.5\n",
        "             mT2         0.0  1.0\n",
        "Name: trait inheritance\n"
       ]
      }
     ],
     "prompt_number": 43
    },
    {
     "cell_type": "markdown",
     "metadata": {},
     "source": [
      "We can combine all reproduction weights that are not frequency-dependent:"
     ]
    },
    {
     "cell_type": "code",
     "collapsed": false,
     "input": [
      "R_ = CI_ * T_ * F_ * IP_ * IT_\n",
      "weights['constant_reproduction'] = R_"
     ],
     "language": "python",
     "metadata": {},
     "outputs": [],
     "prompt_number": 44
    },
    {
     "cell_type": "heading",
     "level": 2,
     "metadata": {},
     "source": [
      "4. Simulation"
     ]
    },
    {
     "cell_type": "code",
     "collapsed": false,
     "input": [
      "m1 = analytical.mcrit_UM(f, lCI, t)     # uninfected mainland --> infected island\n",
      "m2 = analytical.mcrit_IM(f, lCI, t)     # infected mainland --> uninfected island\n",
      "mcrit = min(m1,m2)\n",
      "print 'm_crit = %.5f' % mcrit\n",
      "print 'm      =', m\n",
      "assert m < mcrit\n",
      "print 'p_t    =', pt\n",
      "print 's      =', s\n",
      "print 'p_r    =', pr_p1_baseline\n"
     ],
     "language": "python",
     "metadata": {},
     "outputs": [
      {
       "output_type": "stream",
       "stream": "stdout",
       "text": [
        "m_crit = 0.01257\n",
        "m      = 0.01\n",
        "p_t    = 0.9\n",
        "s      = 0.1\n",
        "p_r    = 0.4\n"
       ]
      }
     ],
     "prompt_number": 45
    },
    {
     "cell_type": "heading",
     "level": 3,
     "metadata": {},
     "source": [
      "4.1  Initial state"
     ]
    },
    {
     "cell_type": "code",
     "collapsed": false,
     "input": [
      "if not data_available:\n",
      "    starttime = time.time()                  # take time for timing report after simulation run\n",
      "    startfreqs = np.zeros(FSHAPE)\n",
      "    startfreqs[0,0,1,0] = 1.                   # pop1-T1-P1-U\n",
      "    startfreqs[1,1,2,1] = 1.                   # pop2-T2-P2-W\n",
      "    # initialize metapopulation with start frequencies:\n",
      "    metapop = core.MetaPopulation(\n",
      "        startfreqs,\n",
      "        config=config,\n",
      "        generation=0,\n",
      "        name='metapopulation'\n",
      "    )\n",
      "    # store initial state in database:\n",
      "    rstore.record_special_state(metapop.generation, 'start')\n",
      "    rstore.dump_data(metapop)\n",
      "else:\n",
      "    g,desc = special_states.pop()\n",
      "    freqs,g = rstore.get_frequencies(g)\n",
      "    metapop = core.MetaPopulation(\n",
      "        freqs,\n",
      "        config=config,\n",
      "        generation=g,\n",
      "        name='metapopulation'\n",
      "    )"
     ],
     "language": "python",
     "metadata": {},
     "outputs": [],
     "prompt_number": 46
    },
    {
     "cell_type": "code",
     "collapsed": false,
     "input": [
      "print metapop\n",
      "print metapop.overview()\n",
      "print\n",
      "fig = viz.plot_overview(metapop, show_generation=False, figsize=figsize)"
     ],
     "language": "python",
     "metadata": {},
     "outputs": [
      {
       "output_type": "stream",
       "stream": "stdout",
       "text": [
        "population          pop1            pop2        \n",
        "cytotype               U       W       U       W\n",
        "trait preference                                \n",
        "T1    P0             ---     ---     ---     ---\n",
        "      P1          1.0000     ---     ---     ---\n",
        "      P2             ---     ---     ---     ---\n",
        "T2    P0             ---     ---     ---     ---\n",
        "      P1             ---     ---     ---     ---\n",
        "      P2             ---     ---     ---  1.0000\n",
        "Name: metapopulation\n",
        "Generation: 0\n",
        "EQ: undetermined\n",
        "\n",
        "trait       T1  T2\n",
        "population        \n",
        "pop1         1   0\n",
        "pop2         0   1\n",
        "Name: trait\n",
        "\n",
        "preference  P0  P1  P2\n",
        "population            \n",
        "pop1         0   1   0\n",
        "pop2         0   0   1\n",
        "Name: preference\n",
        "\n",
        "cytotype    U  W\n",
        "population      \n",
        "pop1        1  0\n",
        "pop2        0  1\n",
        "Name: cytotype\n",
        "\n"
       ]
      },
      {
       "output_type": "display_data",
       "png": "[encoded data removed]"
      }
     ],
     "prompt_number": 47
    },
    {
     "cell_type": "markdown",
     "metadata": {},
     "source": [
      "Iterate until an equilibrium is reached:"
     ]
    },
    {
     "cell_type": "code",
     "collapsed": false,
     "input": [
      "if not data_available:\n",
      "    metapop.run(\n",
      "        nmax,\n",
      "        weights,\n",
      "        thresh_total=eq,\n",
      "        step=step,\n",
      "        runstore=rstore,\n",
      "        progress_bar=show_progressbar,\n",
      "        verbose=True\n",
      "    )\n",
      "else:\n",
      "    g,desc = special_states.pop()\n",
      "    freqs,g = rstore.get_frequencies(g)\n",
      "    metapop.set(g, freqs, desc)"
     ],
     "language": "python",
     "metadata": {},
     "outputs": [
      {
       "output_type": "stream",
       "stream": "stdout",
       "text": [
        "Equilibrium reached after 388 generations:\n",
        "- frequency change:\n",
        "    total 3.675e-07  |  threshold 1e-06\n",
        "    individual threshold 1.667e-07\n",
        "- generation: start 0  |  current 388\n"
       ]
      }
     ],
     "prompt_number": 48
    },
    {
     "cell_type": "heading",
     "level": 3,
     "metadata": {},
     "source": [
      "4.2 Migration-selection equilibrium"
     ]
    },
    {
     "cell_type": "code",
     "collapsed": false,
     "input": [
      "print metapop\n",
      "print metapop.overview()\n",
      "print\n",
      "fig = viz.plot_overview(metapop, show_generation=False, figsize=figsize)"
     ],
     "language": "python",
     "metadata": {},
     "outputs": [
      {
       "output_type": "stream",
       "stream": "stdout",
       "text": [
        "population          pop1            pop2        \n",
        "cytotype               U       W       U       W\n",
        "trait preference                                \n",
        "T1    P0             ---     ---     ---     ---\n",
        "      P1          0.9295  0.0298  0.0008  0.0048\n",
        "      P2          0.0259  0.0042  0.0007  0.0108\n",
        "T2    P0             ---     ---     ---     ---\n",
        "      P1          0.0036  0.0039  0.0020  0.0918\n",
        "      P2          0.0008  0.0023  0.0135  0.8757\n",
        "Name: metapopulation\n",
        "Generation: 388\n",
        "EQ: True\n",
        "\n",
        "trait           T1      T2\n",
        "population                \n",
        "pop1        0.9894  0.0106\n",
        "pop2        0.0170  0.9830\n",
        "Name: trait\n",
        "\n",
        "preference  P0      P1      P2\n",
        "population                    \n",
        "pop1         0  0.9668  0.0332\n",
        "pop2         0  0.0994  0.9006\n",
        "Name: preference\n",
        "\n",
        "cytotype         U       W\n",
        "population                \n",
        "pop1        0.9598  0.0402\n",
        "pop2        0.0170  0.9830\n",
        "Name: cytotype\n",
        "\n"
       ]
      },
      {
       "output_type": "display_data",
       "png": "[encoded data removed]"
      }
     ],
     "prompt_number": 49
    },
    {
     "cell_type": "heading",
     "level": 3,
     "metadata": {},
     "source": [
      "4.3 Introduction of preference allele P0"
     ]
    },
    {
     "cell_type": "code",
     "collapsed": false,
     "input": [
      "if not data_available:\n",
      "    intro_allele = 'P0'\n",
      "    metapop.introduce_allele('pop1', intro_allele, intro_freq=intro, advance_generation_count=False)\n",
      "    rstore.dump_data(metapop)\n",
      "    rstore.record_special_state(metapop.generation, 'intro {0}'.format(intro_allele))\n",
      "    \n",
      "    metapop.introduce_allele('pop2', intro_allele, intro_freq=intro, advance_generation_count=True)\n",
      "    rstore.dump_data(metapop)\n",
      "    rstore.record_special_state(metapop.generation, 'intro {0}'.format(intro_allele))\n",
      "else:\n",
      "    g,desc = special_states.pop()\n",
      "    g,desc = special_states.pop()    # we need to do this twice because the introduction of P0 in the two populations is stored separately\n",
      "    freqs,g = rstore.get_frequencies(g)\n",
      "    metapop.set(g, freqs, desc)\n",
      "\n",
      "print metapop\n",
      "print metapop.overview()"
     ],
     "language": "python",
     "metadata": {},
     "outputs": [
      {
       "output_type": "stream",
       "stream": "stdout",
       "text": [
        "population          pop1            pop2        \n",
        "cytotype               U       W       U       W\n",
        "trait preference                                \n",
        "T1    P0          0.0010     0.0     0.0     0.0\n",
        "      P1          0.9286  0.0298  0.0008  0.0048\n",
        "      P2          0.0259  0.0042  0.0007  0.0108\n",
        "T2    P0             0.0     0.0     0.0  0.0010\n",
        "      P1          0.0036  0.0038  0.0020  0.0917\n",
        "      P2          0.0008  0.0023  0.0135  0.8748\n",
        "Name: metapopulation\n",
        "Generation: 389\n",
        "EQ: not determined\n",
        "\n",
        "trait           T1      T2\n",
        "population                \n",
        "pop1        0.9894  0.0106\n",
        "pop2        0.0170  0.9830\n",
        "Name: trait\n",
        "\n",
        "preference     P0      P1      P2\n",
        "population                       \n",
        "pop1        0.001  0.9658  0.0332\n",
        "pop2        0.001  0.0993  0.8997\n",
        "Name: preference\n",
        "\n",
        "cytotype         U       W\n",
        "population                \n",
        "pop1        0.9598  0.0402\n",
        "pop2        0.0170  0.9830\n",
        "Name: cytotype\n"
       ]
      }
     ],
     "prompt_number": 50
    },
    {
     "cell_type": "markdown",
     "metadata": {},
     "source": [
      "Iterate again until an equilibrium is reached:"
     ]
    },
    {
     "cell_type": "code",
     "collapsed": false,
     "input": [
      "if not data_available:\n",
      "    metapop.run(\n",
      "        nmax,\n",
      "        weights,\n",
      "        thresh_total=eq,\n",
      "        step=step,\n",
      "        runstore=rstore,\n",
      "        progress_bar=show_progressbar,\n",
      "        verbose=True\n",
      "    )\n",
      "else:\n",
      "    g,desc = special_states.pop()\n",
      "    freqs,g = rstore.get_frequencies(g)\n",
      "    metapop.set(g, freqs, desc)"
     ],
     "language": "python",
     "metadata": {},
     "outputs": [
      {
       "output_type": "stream",
       "stream": "stdout",
       "text": [
        "Equilibrium reached after 15801 generations:\n",
        "- frequency change:\n",
        "    total 4.34e-07  |  threshold 1e-06\n",
        "    individual threshold 1.667e-07\n",
        "- generation: start 389  |  current 16190\n"
       ]
      }
     ],
     "prompt_number": 51
    },
    {
     "cell_type": "heading",
     "level": 3,
     "metadata": {},
     "source": [
      "4.4 Final state"
     ]
    },
    {
     "cell_type": "code",
     "collapsed": false,
     "input": [
      "print metapop\n",
      "print metapop.overview()\n",
      "print\n",
      "fig = viz.plot_overview(metapop, show_generation=False, figsize=figsize)"
     ],
     "language": "python",
     "metadata": {},
     "outputs": [
      {
       "output_type": "stream",
       "stream": "stdout",
       "text": [
        "population          pop1            pop2        \n",
        "cytotype               U       W       U       W\n",
        "trait preference                                \n",
        "T1    P0          0.5016  0.0233  0.0021  0.0682\n",
        "      P1          0.4441  0.0172  0.0006  0.0092\n",
        "      P2             ---     ---     ---     ---\n",
        "T2    P0          0.0046  0.0044  0.0134  0.8373\n",
        "      P1          0.0028  0.0020  0.0014  0.0678\n",
        "      P2             ---     ---     ---     ---\n",
        "Name: metapopulation\n",
        "Generation: 16190\n",
        "EQ: True\n",
        "\n",
        "trait           T1      T2\n",
        "population                \n",
        "pop1        0.9862  0.0138\n",
        "pop2        0.0801  0.9199\n",
        "Name: trait\n",
        "\n",
        "preference      P0      P1  P2\n",
        "population                    \n",
        "pop1        0.5339  0.4661   0\n",
        "pop2        0.9210  0.0790   0\n",
        "Name: preference\n",
        "\n",
        "cytotype         U       W\n",
        "population                \n",
        "pop1        0.9531  0.0469\n",
        "pop2        0.0175  0.9825\n",
        "Name: cytotype\n",
        "\n"
       ]
      },
      {
       "output_type": "display_data",
       "png": "[encoded data removed]"
      }
     ],
     "prompt_number": 52
    },
    {
     "cell_type": "heading",
     "level": 4,
     "metadata": {},
     "source": [
      "Dynamic weights (in the final state)"
     ]
    },
    {
     "cell_type": "code",
     "collapsed": false,
     "input": [
      "print TP"
     ],
     "language": "python",
     "metadata": {},
     "outputs": [
      {
       "output_type": "stream",
       "stream": "stdout",
       "text": [
        "male_trait                       mT1     mT2\n",
        "population female_preference                \n",
        "pop1       fP0                1.0000  1.0000\n",
        "           fP1                1.0075  0.6045\n",
        "           fP2                0.9267  1.5444\n",
        "pop2       fP0                1.0000  1.0000\n",
        "           fP1                1.4938  0.8963\n",
        "           fP2                0.6182  1.0303\n",
        "Name: trait preference\n",
        "pt: 0.9\n",
        "\n",
        "rejection probabilities:\n",
        "trait        T1   T2\n",
        "preference          \n",
        "P0          0.0  0.0\n",
        "P1          0.0  0.4\n",
        "P2          0.4  0.0\n"
       ]
      }
     ],
     "prompt_number": 53
    },
    {
     "cell_type": "heading",
     "level": 3,
     "metadata": {},
     "source": [
      "4.5 Runtime"
     ]
    },
    {
     "cell_type": "code",
     "collapsed": false,
     "input": [
      "rstore.flush()\n",
      "if not data_available:\n",
      "    print utils.timing_report(starttime, metapop.generation)"
     ],
     "language": "python",
     "metadata": {},
     "outputs": [
      {
       "output_type": "stream",
       "stream": "stdout",
       "text": [
        "Simulation run completed:\n",
        "    Generation: 16190\n",
        "    Elapsed Time (hours:minutes:seconds): 0:00:10\n",
        "    Time per generation (seconds): 0.00067\n"
       ]
      }
     ],
     "prompt_number": 54
    },
    {
     "cell_type": "heading",
     "level": 2,
     "metadata": {},
     "source": [
      "5. Population dynamics"
     ]
    },
    {
     "cell_type": "code",
     "collapsed": false,
     "input": [
      "fig = rstore.plot_sums(figsize=[max_figwidth, figheight])\n",
      "show()"
     ],
     "language": "python",
     "metadata": {},
     "outputs": [
      {
       "output_type": "display_data",
       "png": "[encoded data removed]"
      }
     ],
     "prompt_number": 55
    },
    {
     "cell_type": "code",
     "collapsed": false,
     "input": [
      "rstore.close()"
     ],
     "language": "python",
     "metadata": {},
     "outputs": [],
     "prompt_number": 56
    }
   ],
   "metadata": {}
  }
 ]
}